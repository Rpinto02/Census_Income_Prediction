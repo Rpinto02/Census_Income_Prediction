{
 "cells": [
  {
   "cell_type": "markdown",
   "metadata": {},
   "source": [
    "# Data modelling and model assessment"
   ]
  },
  {
   "cell_type": "markdown",
   "metadata": {},
   "source": [
    "Importing the libraries and the dataset."
   ]
  },
  {
   "cell_type": "code",
   "execution_count": 1,
   "metadata": {
    "ExecuteTime": {
     "end_time": "2021-05-29T13:06:11.303552Z",
     "start_time": "2021-05-29T13:06:10.202810Z"
    }
   },
   "outputs": [],
   "source": [
    "import os\n",
    "import pandas as pd\n",
    "import numpy as np\n",
    "\n",
    "notebook = 'Modelling.ipnyb'\n",
    "path = os.path.dirname(os.path.abspath(notebook))+'/data/'\n",
    "train_path = path+'train.csv'\n",
    "test_path = path+'test.csv'\n",
    "\n",
    "train = pd.read_csv(train_path)\n",
    "test = pd.read_csv(test_path)"
   ]
  },
  {
   "cell_type": "markdown",
   "metadata": {},
   "source": [
    "Before moving to the actual training stage let's look at how the target class is balanced."
   ]
  },
  {
   "cell_type": "code",
   "execution_count": 2,
   "metadata": {
    "ExecuteTime": {
     "end_time": "2021-05-29T13:06:11.317857Z",
     "start_time": "2021-05-29T13:06:11.305289Z"
    }
   },
   "outputs": [
    {
     "data": {
      "text/plain": [
       "0    0.914421\n",
       "1    0.085579\n",
       "Name: target, dtype: float64"
      ]
     },
     "execution_count": 2,
     "metadata": {},
     "output_type": "execute_result"
    }
   ],
   "source": [
    "train['target'].value_counts(normalize=True)"
   ]
  },
  {
   "cell_type": "code",
   "execution_count": 3,
   "metadata": {
    "ExecuteTime": {
     "end_time": "2021-05-29T13:06:11.327849Z",
     "start_time": "2021-05-29T13:06:11.321654Z"
    }
   },
   "outputs": [
    {
     "data": {
      "text/plain": [
       "0    0.915047\n",
       "1    0.084953\n",
       "Name: target, dtype: float64"
      ]
     },
     "execution_count": 3,
     "metadata": {},
     "output_type": "execute_result"
    }
   ],
   "source": [
    "test['target'].value_counts(normalize=True)"
   ]
  },
  {
   "cell_type": "markdown",
   "metadata": {},
   "source": [
    "We can work on this imbalanced data by using over and undersampling."
   ]
  },
  {
   "cell_type": "markdown",
   "metadata": {},
   "source": [
    "## Separating the target variables"
   ]
  },
  {
   "cell_type": "code",
   "execution_count": 4,
   "metadata": {
    "ExecuteTime": {
     "end_time": "2021-05-29T13:06:11.635799Z",
     "start_time": "2021-05-29T13:06:11.329729Z"
    }
   },
   "outputs": [],
   "source": [
    "X_train = train.loc[:,~train.columns.isin(['target'])]\n",
    "y_train = train['target']\n",
    "\n",
    "X_test = test.loc[:,~test.columns.isin(['target'])]\n",
    "y_test = test['target']"
   ]
  },
  {
   "cell_type": "markdown",
   "metadata": {},
   "source": [
    "## Setting the seeds for reproducibility"
   ]
  },
  {
   "cell_type": "code",
   "execution_count": 5,
   "metadata": {
    "ExecuteTime": {
     "end_time": "2021-05-29T13:06:11.646411Z",
     "start_time": "2021-05-29T13:06:11.640055Z"
    }
   },
   "outputs": [],
   "source": [
    "import random \n",
    "\n",
    "seed_value = 42\n",
    "random.seed(seed_value) \n",
    "np.random.seed(seed_value)"
   ]
  },
  {
   "cell_type": "markdown",
   "metadata": {},
   "source": [
    "## Balancing data"
   ]
  },
  {
   "cell_type": "code",
   "execution_count": 6,
   "metadata": {
    "ExecuteTime": {
     "end_time": "2021-05-29T14:30:18.996527Z",
     "start_time": "2021-05-29T13:06:11.650007Z"
    }
   },
   "outputs": [],
   "source": [
    "from imblearn.combine import SMOTEENN\n",
    "\n",
    "sm = SMOTEENN(random_state=seed_value)\n",
    "X_train, y_train = sm.fit_resample(X_train, y_train)"
   ]
  },
  {
   "cell_type": "code",
   "execution_count": 7,
   "metadata": {
    "ExecuteTime": {
     "end_time": "2021-05-29T14:30:19.031289Z",
     "start_time": "2021-05-29T14:30:19.000338Z"
    }
   },
   "outputs": [
    {
     "data": {
      "text/plain": [
       "1    0.548193\n",
       "0    0.451807\n",
       "Name: target, dtype: float64"
      ]
     },
     "execution_count": 7,
     "metadata": {},
     "output_type": "execute_result"
    }
   ],
   "source": [
    "y_train.value_counts(normalize=True)"
   ]
  },
  {
   "cell_type": "code",
   "execution_count": 8,
   "metadata": {
    "ExecuteTime": {
     "end_time": "2021-05-29T14:31:42.978016Z",
     "start_time": "2021-05-29T14:31:42.971478Z"
    }
   },
   "outputs": [
    {
     "data": {
      "text/plain": [
       "(219875, 132)"
      ]
     },
     "execution_count": 8,
     "metadata": {},
     "output_type": "execute_result"
    }
   ],
   "source": [
    "X_train.shape"
   ]
  },
  {
   "cell_type": "markdown",
   "metadata": {},
   "source": [
    "Saving the resampled data for safety."
   ]
  },
  {
   "cell_type": "code",
   "execution_count": 9,
   "metadata": {
    "ExecuteTime": {
     "end_time": "2021-05-29T14:33:59.507270Z",
     "start_time": "2021-05-29T14:33:56.064984Z"
    }
   },
   "outputs": [],
   "source": [
    "X_train.to_csv('data/X_train_resampled.csv',index=False)\n",
    "y_train.to_csv('data/y_train_resampled.csv',index=False)"
   ]
  },
  {
   "cell_type": "markdown",
   "metadata": {},
   "source": [
    "## Model training and evaluation"
   ]
  },
  {
   "cell_type": "markdown",
   "metadata": {},
   "source": [
    "We'll start with a more simple classification model such as Logistic Regression to set a baseline and go from there."
   ]
  },
  {
   "cell_type": "markdown",
   "metadata": {},
   "source": [
    "## Logistic Regression"
   ]
  },
  {
   "cell_type": "code",
   "execution_count": 13,
   "metadata": {
    "ExecuteTime": {
     "end_time": "2021-05-29T14:37:56.284618Z",
     "start_time": "2021-05-29T14:37:36.839439Z"
    }
   },
   "outputs": [
    {
     "data": {
      "text/plain": [
       "LogisticRegression(max_iter=1000, random_state=42)"
      ]
     },
     "execution_count": 13,
     "metadata": {},
     "output_type": "execute_result"
    }
   ],
   "source": [
    "from sklearn.linear_model import LogisticRegression\n",
    "\n",
    "#max iter was set to 1k since the default wasn't enough for convergion\n",
    "lr = LogisticRegression(random_state=seed_value,max_iter=1000)\n",
    "lr.fit(X_train,y_train)"
   ]
  },
  {
   "cell_type": "markdown",
   "metadata": {},
   "source": [
    "Since we are dealing with a minority class dataset we are going to focus on the minority class recognition.\n",
    "As such we will focus on the following metrics while taking a closer look on the minority class:\n",
    "* Precision\n",
    "* Recall\n",
    "* AUC"
   ]
  },
  {
   "cell_type": "code",
   "execution_count": 15,
   "metadata": {
    "ExecuteTime": {
     "end_time": "2021-05-29T14:48:43.628240Z",
     "start_time": "2021-05-29T14:48:42.739583Z"
    }
   },
   "outputs": [
    {
     "name": "stdout",
     "output_type": "stream",
     "text": [
      "Recall: 76.32%\n",
      "Precision: 31.49\n",
      "AUC Score: 0.80\n",
      "Classification report: \n",
      "              precision    recall  f1-score   support\n",
      "\n",
      "           0       0.97      0.85      0.91     62764\n",
      "           1       0.31      0.76      0.45      5827\n",
      "\n",
      "    accuracy                           0.84     68591\n",
      "   macro avg       0.64      0.80      0.68     68591\n",
      "weighted avg       0.92      0.84      0.87     68591\n",
      "\n"
     ]
    },
    {
     "data": {
      "image/png": "[encoded data removed]",
      "text/plain": [
       "<Figure size 432x288 with 1 Axes>"
      ]
     },
     "metadata": {
      "needs_background": "light"
     },
     "output_type": "display_data"
    },
    {
     "data": {
      "image/png": "[encoded data removed]",
      "text/plain": [
       "<Figure size 432x288 with 1 Axes>"
      ]
     },
     "metadata": {
      "needs_background": "light"
     },
     "output_type": "display_data"
    }
   ],
   "source": [
    "from sklearn.metrics import recall_score\n",
    "from sklearn.metrics import precision_score\n",
    "from sklearn.metrics import classification_report,confusion_matrix\n",
    "from sklearn.metrics import roc_auc_score\n",
    "from sklearn.metrics import roc_curve, auc\n",
    "import matplotlib.pyplot as plt\n",
    "import seaborn as sns\n",
    "\n",
    "y_pred = lr.predict(X_test)\n",
    "# evaluate predictions\n",
    "recall_test = recall_score(y_test, y_pred)\n",
    "precision_test = precision_score(y_test, y_pred)\n",
    "auc_test = roc_auc_score(y_test, y_pred)\n",
    "\n",
    "print(\"Recall: %.2f%%\" % (recall_test * 100.0))\n",
    "print(\"Precision: %.2f\" % (precision_test * 100.0))\n",
    "print(\"AUC Score: %.2f\" % (auc_test))\n",
    "print('Classification report: \\n' + classification_report(y_test, y_pred))\n",
    "\n",
    "cfm = confusion_matrix(y_test,y_pred)\n",
    "sns.heatmap(cfm, cbar=False, annot=True, cmap='Blues', fmt='d')\n",
    "\n",
    "fpr, tpr, _ = roc_curve(y_test, y_pred)\n",
    "roc_auc = auc(fpr, tpr)\n",
    "plt.figure()\n",
    "plt.plot(fpr, tpr, color='darkorange',\n",
    "         label='ROC curve (area = %0.2f)' % roc_auc)\n",
    "plt.plot([0, 1], [0, 1], color='navy', linestyle='--')\n",
    "plt.xlim([0.0, 1.0])\n",
    "plt.ylim([0.0, 1.05])\n",
    "plt.xlabel('False Positive Rate')\n",
    "plt.ylabel('True Positive Rate')\n",
    "plt.title('ROC curve')\n",
    "plt.legend(loc=\"lower right\")\n",
    "plt.show()"
   ]
  },
  {
   "cell_type": "markdown",
   "metadata": {},
   "source": [
    "Now that we have a baseline we'll move to other models.\n",
    "Starting with Random Forest Classifier."
   ]
  },
  {
   "cell_type": "markdown",
   "metadata": {},
   "source": [
    "## Random Forest Classifier"
   ]
  },
  {
   "cell_type": "code",
   "execution_count": 16,
   "metadata": {
    "ExecuteTime": {
     "end_time": "2021-05-29T14:51:15.578759Z",
     "start_time": "2021-05-29T14:50:31.395005Z"
    }
   },
   "outputs": [
    {
     "data": {
      "text/plain": [
       "RandomForestClassifier(random_state=42)"
      ]
     },
     "execution_count": 16,
     "metadata": {},
     "output_type": "execute_result"
    }
   ],
   "source": [
    "from sklearn.ensemble import RandomForestClassifier\n",
    "\n",
    "rfc = RandomForestClassifier(random_state=seed_value)\n",
    "rfc.fit(X_train,y_train)"
   ]
  },
  {
   "cell_type": "code",
   "execution_count": 17,
   "metadata": {
    "ExecuteTime": {
     "end_time": "2021-05-29T14:51:20.398662Z",
     "start_time": "2021-05-29T14:51:17.868068Z"
    }
   },
   "outputs": [
    {
     "name": "stdout",
     "output_type": "stream",
     "text": [
      "Recall: 74.70%\n",
      "Precision: 35.08\n",
      "AUC Score: 0.81\n",
      "Classification report: \n",
      "              precision    recall  f1-score   support\n",
      "\n",
      "           0       0.97      0.87      0.92     62764\n",
      "           1       0.35      0.75      0.48      5827\n",
      "\n",
      "    accuracy                           0.86     68591\n",
      "   macro avg       0.66      0.81      0.70     68591\n",
      "weighted avg       0.92      0.86      0.88     68591\n",
      "\n"
     ]
    },
    {
     "data": {
      "image/png": "[encoded data removed]",
      "text/plain": [
       "<Figure size 432x288 with 1 Axes>"
      ]
     },
     "metadata": {
      "needs_background": "light"
     },
     "output_type": "display_data"
    },
    {
     "data": {
      "image/png": "[encoded data removed]",
      "text/plain": [
       "<Figure size 432x288 with 1 Axes>"
      ]
     },
     "metadata": {
      "needs_background": "light"
     },
     "output_type": "display_data"
    }
   ],
   "source": [
    "y_pred = rfc.predict(X_test)\n",
    "# evaluate predictions\n",
    "recall_test = recall_score(y_test, y_pred)\n",
    "precision_test = precision_score(y_test, y_pred)\n",
    "auc_test = roc_auc_score(y_test, y_pred)\n",
    "\n",
    "print(\"Recall: %.2f%%\" % (recall_test * 100.0))\n",
    "print(\"Precision: %.2f\" % (precision_test * 100.0))\n",
    "print(\"AUC Score: %.2f\" % (auc_test))\n",
    "print('Classification report: \\n' + classification_report(y_test, y_pred))\n",
    "\n",
    "cfm = confusion_matrix(y_test,y_pred)\n",
    "sns.heatmap(cfm, cbar=False, annot=True, cmap='Blues', fmt='d')\n",
    "\n",
    "fpr, tpr, _ = roc_curve(y_test, y_pred)\n",
    "roc_auc = auc(fpr, tpr)\n",
    "plt.figure()\n",
    "plt.plot(fpr, tpr, color='darkorange',\n",
    "         label='ROC curve (area = %0.2f)' % roc_auc)\n",
    "plt.plot([0, 1], [0, 1], color='navy', linestyle='--')\n",
    "plt.xlim([0.0, 1.0])\n",
    "plt.ylim([0.0, 1.05])\n",
    "plt.xlabel('False Positive Rate')\n",
    "plt.ylabel('True Positive Rate')\n",
    "plt.title('ROC curve')\n",
    "plt.legend(loc=\"lower right\")\n",
    "plt.show()"
   ]
  },
  {
   "cell_type": "markdown",
   "metadata": {},
   "source": [
    "Using the RFC default parameters the Recall went down 1% while the Precision and AUC went up 4% and 1% respectively."
   ]
  },
  {
   "cell_type": "markdown",
   "metadata": {},
   "source": [
    "Which means we get better results from RFC."
   ]
  },
  {
   "cell_type": "markdown",
   "metadata": {},
   "source": [
    "Let's compare it to XGBoost"
   ]
  },
  {
   "cell_type": "markdown",
   "metadata": {},
   "source": [
    "## XGBoost Classifier"
   ]
  },
  {
   "cell_type": "code",
   "execution_count": 19,
   "metadata": {
    "ExecuteTime": {
     "end_time": "2021-05-29T15:00:49.164338Z",
     "start_time": "2021-05-29T15:00:49.108540Z"
    }
   },
   "outputs": [
    {
     "data": {
      "text/plain": [
       "(3.2819563286858964, 10.771237343401408)"
      ]
     },
     "execution_count": 19,
     "metadata": {},
     "output_type": "execute_result"
    }
   ],
   "source": [
    "import math\n",
    "#recommended by XGBoost documentation\n",
    "#scale_pos_weight = count(negative examples)/count(Positive examples)\n",
    "scale_pos_weight_sqrt = math.sqrt(sum(y_test==0)/sum(y_test==1))#This is useful to limit the effect of a multiplication of positive examples by a very high weight. \n",
    "scale_pos_weight = sum(y_test==0)/sum(y_test==1)\n",
    "scale_pos_weight_sqrt, scale_pos_weight"
   ]
  },
  {
   "cell_type": "code",
   "execution_count": 25,
   "metadata": {
    "ExecuteTime": {
     "end_time": "2021-05-29T15:13:32.049425Z",
     "start_time": "2021-05-29T15:13:32.042159Z"
    }
   },
   "outputs": [],
   "source": [
    "from xgboost import XGBClassifier\n",
    "scale_pos_weight = round(scale_pos_weight,0)\n",
    "\n",
    "\n",
    "XGBC = XGBClassifier(n_estimators=750,\n",
    "                      scale_pos_weight=scale_pos_weight,\n",
    "                      seed=seed_value,\n",
    "                      random_state=seed_value)"
   ]
  },
  {
   "cell_type": "code",
   "execution_count": 26,
   "metadata": {
    "ExecuteTime": {
     "end_time": "2021-05-29T15:17:23.234469Z",
     "start_time": "2021-05-29T15:13:32.904885Z"
    }
   },
   "outputs": [
    {
     "name": "stdout",
     "output_type": "stream",
     "text": [
      "[0]\tvalidation_0-logloss:0.57788\tvalidation_0-auc:0.86303\tvalidation_0-error:0.22419\tvalidation_1-logloss:0.74509\tvalidation_1-auc:0.79084\tvalidation_1-error:0.51749\n",
      "[1]\tvalidation_0-logloss:0.52950\tvalidation_0-auc:0.87495\tvalidation_0-error:0.21828\tvalidation_1-logloss:0.81628\tvalidation_1-auc:0.80060\tvalidation_1-error:0.50954\n",
      "[2]\tvalidation_0-logloss:0.50470\tvalidation_0-auc:0.90980\tvalidation_0-error:0.23311\tvalidation_1-logloss:0.88334\tvalidation_1-auc:0.83822\tvalidation_1-error:0.54001\n",
      "[3]\tvalidation_0-logloss:0.49473\tvalidation_0-auc:0.92149\tvalidation_0-error:0.22399\tvalidation_1-logloss:0.95090\tvalidation_1-auc:0.84922\tvalidation_1-error:0.52508\n",
      "[4]\tvalidation_0-logloss:0.48236\tvalidation_0-auc:0.93153\tvalidation_0-error:0.22248\tvalidation_1-logloss:0.99491\tvalidation_1-auc:0.85954\tvalidation_1-error:0.52637\n",
      "[5]\tvalidation_0-logloss:0.47345\tvalidation_0-auc:0.94210\tvalidation_0-error:0.21988\tvalidation_1-logloss:1.03050\tvalidation_1-auc:0.86833\tvalidation_1-error:0.52349\n",
      "[6]\tvalidation_0-logloss:0.46971\tvalidation_0-auc:0.94399\tvalidation_0-error:0.21676\tvalidation_1-logloss:1.06783\tvalidation_1-auc:0.86960\tvalidation_1-error:0.51924\n",
      "[7]\tvalidation_0-logloss:0.46542\tvalidation_0-auc:0.94827\tvalidation_0-error:0.21457\tvalidation_1-logloss:1.09681\tvalidation_1-auc:0.87359\tvalidation_1-error:0.51412\n",
      "[8]\tvalidation_0-logloss:0.45826\tvalidation_0-auc:0.95373\tvalidation_0-error:0.21190\tvalidation_1-logloss:1.11388\tvalidation_1-auc:0.88099\tvalidation_1-error:0.51004\n",
      "[9]\tvalidation_0-logloss:0.45151\tvalidation_0-auc:0.95675\tvalidation_0-error:0.20434\tvalidation_1-logloss:1.12743\tvalidation_1-auc:0.88129\tvalidation_1-error:0.49751\n",
      "[10]\tvalidation_0-logloss:0.44601\tvalidation_0-auc:0.96166\tvalidation_0-error:0.20020\tvalidation_1-logloss:1.13622\tvalidation_1-auc:0.88889\tvalidation_1-error:0.49072\n",
      "[11]\tvalidation_0-logloss:0.44084\tvalidation_0-auc:0.96407\tvalidation_0-error:0.19858\tvalidation_1-logloss:1.14235\tvalidation_1-auc:0.89185\tvalidation_1-error:0.48722\n",
      "[12]\tvalidation_0-logloss:0.42886\tvalidation_0-auc:0.96724\tvalidation_0-error:0.19180\tvalidation_1-logloss:1.13112\tvalidation_1-auc:0.89424\tvalidation_1-error:0.47605\n",
      "[13]\tvalidation_0-logloss:0.42210\tvalidation_0-auc:0.96857\tvalidation_0-error:0.18895\tvalidation_1-logloss:1.13235\tvalidation_1-auc:0.89540\tvalidation_1-error:0.47092\n",
      "[14]\tvalidation_0-logloss:0.41607\tvalidation_0-auc:0.96972\tvalidation_0-error:0.18502\tvalidation_1-logloss:1.13184\tvalidation_1-auc:0.89662\tvalidation_1-error:0.46400\n",
      "[15]\tvalidation_0-logloss:0.41076\tvalidation_0-auc:0.97085\tvalidation_0-error:0.18163\tvalidation_1-logloss:1.13055\tvalidation_1-auc:0.89823\tvalidation_1-error:0.45828\n",
      "[16]\tvalidation_0-logloss:0.39838\tvalidation_0-auc:0.97323\tvalidation_0-error:0.17613\tvalidation_1-logloss:1.11038\tvalidation_1-auc:0.89719\tvalidation_1-error:0.44926\n",
      "[17]\tvalidation_0-logloss:0.39197\tvalidation_0-auc:0.97401\tvalidation_0-error:0.17337\tvalidation_1-logloss:1.10550\tvalidation_1-auc:0.89760\tvalidation_1-error:0.44448\n",
      "[18]\tvalidation_0-logloss:0.38913\tvalidation_0-auc:0.97462\tvalidation_0-error:0.17192\tvalidation_1-logloss:1.10323\tvalidation_1-auc:0.89846\tvalidation_1-error:0.44144\n",
      "[19]\tvalidation_0-logloss:0.38461\tvalidation_0-auc:0.97527\tvalidation_0-error:0.17032\tvalidation_1-logloss:1.09781\tvalidation_1-auc:0.89914\tvalidation_1-error:0.43869\n",
      "[20]\tvalidation_0-logloss:0.37815\tvalidation_0-auc:0.97578\tvalidation_0-error:0.16572\tvalidation_1-logloss:1.09264\tvalidation_1-auc:0.89887\tvalidation_1-error:0.43067\n",
      "[21]\tvalidation_0-logloss:0.37435\tvalidation_0-auc:0.97630\tvalidation_0-error:0.16394\tvalidation_1-logloss:1.08700\tvalidation_1-auc:0.89889\tvalidation_1-error:0.42828\n",
      "[22]\tvalidation_0-logloss:0.36589\tvalidation_0-auc:0.97726\tvalidation_0-error:0.15981\tvalidation_1-logloss:1.07539\tvalidation_1-auc:0.89992\tvalidation_1-error:0.42011\n",
      "[23]\tvalidation_0-logloss:0.35999\tvalidation_0-auc:0.97811\tvalidation_0-error:0.15693\tvalidation_1-logloss:1.06436\tvalidation_1-auc:0.89997\tvalidation_1-error:0.41552\n",
      "[24]\tvalidation_0-logloss:0.35545\tvalidation_0-auc:0.97891\tvalidation_0-error:0.15559\tvalidation_1-logloss:1.05739\tvalidation_1-auc:0.90110\tvalidation_1-error:0.41227\n",
      "[25]\tvalidation_0-logloss:0.34992\tvalidation_0-auc:0.97952\tvalidation_0-error:0.15265\tvalidation_1-logloss:1.04834\tvalidation_1-auc:0.90130\tvalidation_1-error:0.40682\n",
      "[26]\tvalidation_0-logloss:0.34557\tvalidation_0-auc:0.97990\tvalidation_0-error:0.15112\tvalidation_1-logloss:1.04225\tvalidation_1-auc:0.90149\tvalidation_1-error:0.40499\n",
      "[27]\tvalidation_0-logloss:0.34318\tvalidation_0-auc:0.98015\tvalidation_0-error:0.14980\tvalidation_1-logloss:1.03845\tvalidation_1-auc:0.90146\tvalidation_1-error:0.40196\n",
      "[28]\tvalidation_0-logloss:0.33604\tvalidation_0-auc:0.98080\tvalidation_0-error:0.14641\tvalidation_1-logloss:1.03071\tvalidation_1-auc:0.90181\tvalidation_1-error:0.39639\n",
      "[29]\tvalidation_0-logloss:0.33150\tvalidation_0-auc:0.98133\tvalidation_0-error:0.14431\tvalidation_1-logloss:1.02291\tvalidation_1-auc:0.90211\tvalidation_1-error:0.39319\n",
      "[30]\tvalidation_0-logloss:0.32871\tvalidation_0-auc:0.98159\tvalidation_0-error:0.14301\tvalidation_1-logloss:1.01969\tvalidation_1-auc:0.90234\tvalidation_1-error:0.39095\n",
      "[31]\tvalidation_0-logloss:0.32527\tvalidation_0-auc:0.98194\tvalidation_0-error:0.14135\tvalidation_1-logloss:1.01343\tvalidation_1-auc:0.90270\tvalidation_1-error:0.38770\n",
      "[32]\tvalidation_0-logloss:0.32222\tvalidation_0-auc:0.98225\tvalidation_0-error:0.13970\tvalidation_1-logloss:1.00689\tvalidation_1-auc:0.90260\tvalidation_1-error:0.38490\n",
      "[33]\tvalidation_0-logloss:0.31863\tvalidation_0-auc:0.98259\tvalidation_0-error:0.13809\tvalidation_1-logloss:1.00187\tvalidation_1-auc:0.90295\tvalidation_1-error:0.38177\n",
      "[34]\tvalidation_0-logloss:0.31064\tvalidation_0-auc:0.98347\tvalidation_0-error:0.13420\tvalidation_1-logloss:0.98691\tvalidation_1-auc:0.90304\tvalidation_1-error:0.37498\n",
      "[35]\tvalidation_0-logloss:0.30757\tvalidation_0-auc:0.98381\tvalidation_0-error:0.13257\tvalidation_1-logloss:0.98179\tvalidation_1-auc:0.90275\tvalidation_1-error:0.37175\n",
      "[36]\tvalidation_0-logloss:0.30155\tvalidation_0-auc:0.98442\tvalidation_0-error:0.13057\tvalidation_1-logloss:0.97067\tvalidation_1-auc:0.90304\tvalidation_1-error:0.36758\n",
      "[37]\tvalidation_0-logloss:0.30070\tvalidation_0-auc:0.98448\tvalidation_0-error:0.13025\tvalidation_1-logloss:0.97035\tvalidation_1-auc:0.90294\tvalidation_1-error:0.36696\n",
      "[38]\tvalidation_0-logloss:0.29823\tvalidation_0-auc:0.98469\tvalidation_0-error:0.12920\tvalidation_1-logloss:0.96771\tvalidation_1-auc:0.90303\tvalidation_1-error:0.36531\n",
      "[39]\tvalidation_0-logloss:0.29568\tvalidation_0-auc:0.98495\tvalidation_0-error:0.12739\tvalidation_1-logloss:0.96254\tvalidation_1-auc:0.90280\tvalidation_1-error:0.36184\n",
      "[40]\tvalidation_0-logloss:0.29323\tvalidation_0-auc:0.98518\tvalidation_0-error:0.12636\tvalidation_1-logloss:0.95783\tvalidation_1-auc:0.90254\tvalidation_1-error:0.36040\n",
      "[41]\tvalidation_0-logloss:0.29188\tvalidation_0-auc:0.98530\tvalidation_0-error:0.12559\tvalidation_1-logloss:0.95569\tvalidation_1-auc:0.90268\tvalidation_1-error:0.35876\n",
      "[42]\tvalidation_0-logloss:0.28948\tvalidation_0-auc:0.98556\tvalidation_0-error:0.12447\tvalidation_1-logloss:0.95123\tvalidation_1-auc:0.90276\tvalidation_1-error:0.35719\n",
      "[43]\tvalidation_0-logloss:0.28473\tvalidation_0-auc:0.98608\tvalidation_0-error:0.12238\tvalidation_1-logloss:0.94117\tvalidation_1-auc:0.90289\tvalidation_1-error:0.35303\n",
      "[44]\tvalidation_0-logloss:0.28327\tvalidation_0-auc:0.98623\tvalidation_0-error:0.12207\tvalidation_1-logloss:0.93813\tvalidation_1-auc:0.90285\tvalidation_1-error:0.35198\n",
      "[45]\tvalidation_0-logloss:0.28154\tvalidation_0-auc:0.98642\tvalidation_0-error:0.12130\tvalidation_1-logloss:0.93483\tvalidation_1-auc:0.90279\tvalidation_1-error:0.35054\n",
      "[46]\tvalidation_0-logloss:0.27686\tvalidation_0-auc:0.98685\tvalidation_0-error:0.11898\tvalidation_1-logloss:0.92638\tvalidation_1-auc:0.90281\tvalidation_1-error:0.34675\n",
      "[47]\tvalidation_0-logloss:0.27428\tvalidation_0-auc:0.98713\tvalidation_0-error:0.11781\tvalidation_1-logloss:0.92130\tvalidation_1-auc:0.90267\tvalidation_1-error:0.34496\n",
      "[48]\tvalidation_0-logloss:0.27218\tvalidation_0-auc:0.98732\tvalidation_0-error:0.11693\tvalidation_1-logloss:0.91809\tvalidation_1-auc:0.90278\tvalidation_1-error:0.34303\n",
      "[49]\tvalidation_0-logloss:0.27099\tvalidation_0-auc:0.98741\tvalidation_0-error:0.11632\tvalidation_1-logloss:0.91640\tvalidation_1-auc:0.90302\tvalidation_1-error:0.34194\n"
     ]
    },
    {
     "name": "stdout",
     "output_type": "stream",
     "text": [
      "[50]\tvalidation_0-logloss:0.26949\tvalidation_0-auc:0.98755\tvalidation_0-error:0.11595\tvalidation_1-logloss:0.91374\tvalidation_1-auc:0.90309\tvalidation_1-error:0.34121\n",
      "[51]\tvalidation_0-logloss:0.26833\tvalidation_0-auc:0.98768\tvalidation_0-error:0.11549\tvalidation_1-logloss:0.91131\tvalidation_1-auc:0.90316\tvalidation_1-error:0.34002\n",
      "[52]\tvalidation_0-logloss:0.26653\tvalidation_0-auc:0.98779\tvalidation_0-error:0.11459\tvalidation_1-logloss:0.91008\tvalidation_1-auc:0.90328\tvalidation_1-error:0.33822\n",
      "[53]\tvalidation_0-logloss:0.26400\tvalidation_0-auc:0.98801\tvalidation_0-error:0.11359\tvalidation_1-logloss:0.90592\tvalidation_1-auc:0.90310\tvalidation_1-error:0.33649\n",
      "[54]\tvalidation_0-logloss:0.26154\tvalidation_0-auc:0.98818\tvalidation_0-error:0.11240\tvalidation_1-logloss:0.90227\tvalidation_1-auc:0.90314\tvalidation_1-error:0.33449\n",
      "[55]\tvalidation_0-logloss:0.26037\tvalidation_0-auc:0.98828\tvalidation_0-error:0.11175\tvalidation_1-logloss:0.90020\tvalidation_1-auc:0.90322\tvalidation_1-error:0.33331\n",
      "[56]\tvalidation_0-logloss:0.25862\tvalidation_0-auc:0.98842\tvalidation_0-error:0.11055\tvalidation_1-logloss:0.89791\tvalidation_1-auc:0.90330\tvalidation_1-error:0.33173\n",
      "[57]\tvalidation_0-logloss:0.25685\tvalidation_0-auc:0.98859\tvalidation_0-error:0.10982\tvalidation_1-logloss:0.89491\tvalidation_1-auc:0.90334\tvalidation_1-error:0.33055\n",
      "[58]\tvalidation_0-logloss:0.25489\tvalidation_0-auc:0.98879\tvalidation_0-error:0.10928\tvalidation_1-logloss:0.89191\tvalidation_1-auc:0.90341\tvalidation_1-error:0.32901\n",
      "[59]\tvalidation_0-logloss:0.25343\tvalidation_0-auc:0.98898\tvalidation_0-error:0.10863\tvalidation_1-logloss:0.88835\tvalidation_1-auc:0.90339\tvalidation_1-error:0.32799\n",
      "[60]\tvalidation_0-logloss:0.25161\tvalidation_0-auc:0.98914\tvalidation_0-error:0.10792\tvalidation_1-logloss:0.88385\tvalidation_1-auc:0.90325\tvalidation_1-error:0.32660\n",
      "[61]\tvalidation_0-logloss:0.25063\tvalidation_0-auc:0.98923\tvalidation_0-error:0.10744\tvalidation_1-logloss:0.88131\tvalidation_1-auc:0.90301\tvalidation_1-error:0.32599\n",
      "[62]\tvalidation_0-logloss:0.24965\tvalidation_0-auc:0.98929\tvalidation_0-error:0.10708\tvalidation_1-logloss:0.88037\tvalidation_1-auc:0.90301\tvalidation_1-error:0.32542\n",
      "[63]\tvalidation_0-logloss:0.24813\tvalidation_0-auc:0.98944\tvalidation_0-error:0.10641\tvalidation_1-logloss:0.87732\tvalidation_1-auc:0.90278\tvalidation_1-error:0.32433\n",
      "[64]\tvalidation_0-logloss:0.24676\tvalidation_0-auc:0.98954\tvalidation_0-error:0.10580\tvalidation_1-logloss:0.87549\tvalidation_1-auc:0.90288\tvalidation_1-error:0.32322\n",
      "[65]\tvalidation_0-logloss:0.24546\tvalidation_0-auc:0.98966\tvalidation_0-error:0.10503\tvalidation_1-logloss:0.87303\tvalidation_1-auc:0.90277\tvalidation_1-error:0.32211\n",
      "[66]\tvalidation_0-logloss:0.24409\tvalidation_0-auc:0.98974\tvalidation_0-error:0.10426\tvalidation_1-logloss:0.87181\tvalidation_1-auc:0.90267\tvalidation_1-error:0.32109\n",
      "[67]\tvalidation_0-logloss:0.24316\tvalidation_0-auc:0.98981\tvalidation_0-error:0.10383\tvalidation_1-logloss:0.87046\tvalidation_1-auc:0.90265\tvalidation_1-error:0.32014\n",
      "[68]\tvalidation_0-logloss:0.24202\tvalidation_0-auc:0.98989\tvalidation_0-error:0.10346\tvalidation_1-logloss:0.86885\tvalidation_1-auc:0.90275\tvalidation_1-error:0.31923\n",
      "[69]\tvalidation_0-logloss:0.23928\tvalidation_0-auc:0.99008\tvalidation_0-error:0.10238\tvalidation_1-logloss:0.86335\tvalidation_1-auc:0.90281\tvalidation_1-error:0.31691\n",
      "[70]\tvalidation_0-logloss:0.23695\tvalidation_0-auc:0.99030\tvalidation_0-error:0.10126\tvalidation_1-logloss:0.86005\tvalidation_1-auc:0.90307\tvalidation_1-error:0.31524\n",
      "[71]\tvalidation_0-logloss:0.23435\tvalidation_0-auc:0.99053\tvalidation_0-error:0.10031\tvalidation_1-logloss:0.85428\tvalidation_1-auc:0.90291\tvalidation_1-error:0.31294\n",
      "[72]\tvalidation_0-logloss:0.23316\tvalidation_0-auc:0.99064\tvalidation_0-error:0.09972\tvalidation_1-logloss:0.85273\tvalidation_1-auc:0.90295\tvalidation_1-error:0.31201\n",
      "[73]\tvalidation_0-logloss:0.23230\tvalidation_0-auc:0.99072\tvalidation_0-error:0.09945\tvalidation_1-logloss:0.85033\tvalidation_1-auc:0.90289\tvalidation_1-error:0.31111\n",
      "[74]\tvalidation_0-logloss:0.23152\tvalidation_0-auc:0.99079\tvalidation_0-error:0.09905\tvalidation_1-logloss:0.84864\tvalidation_1-auc:0.90293\tvalidation_1-error:0.31045\n",
      "[75]\tvalidation_0-logloss:0.22982\tvalidation_0-auc:0.99091\tvalidation_0-error:0.09817\tvalidation_1-logloss:0.84535\tvalidation_1-auc:0.90294\tvalidation_1-error:0.30944\n",
      "[76]\tvalidation_0-logloss:0.22748\tvalidation_0-auc:0.99110\tvalidation_0-error:0.09728\tvalidation_1-logloss:0.84096\tvalidation_1-auc:0.90311\tvalidation_1-error:0.30804\n",
      "[77]\tvalidation_0-logloss:0.22561\tvalidation_0-auc:0.99125\tvalidation_0-error:0.09669\tvalidation_1-logloss:0.83747\tvalidation_1-auc:0.90317\tvalidation_1-error:0.30656\n",
      "[78]\tvalidation_0-logloss:0.22491\tvalidation_0-auc:0.99130\tvalidation_0-error:0.09634\tvalidation_1-logloss:0.83643\tvalidation_1-auc:0.90341\tvalidation_1-error:0.30578\n",
      "[79]\tvalidation_0-logloss:0.22348\tvalidation_0-auc:0.99143\tvalidation_0-error:0.09583\tvalidation_1-logloss:0.83300\tvalidation_1-auc:0.90334\tvalidation_1-error:0.30488\n",
      "[80]\tvalidation_0-logloss:0.22249\tvalidation_0-auc:0.99154\tvalidation_0-error:0.09555\tvalidation_1-logloss:0.83096\tvalidation_1-auc:0.90330\tvalidation_1-error:0.30419\n",
      "[81]\tvalidation_0-logloss:0.22121\tvalidation_0-auc:0.99162\tvalidation_0-error:0.09492\tvalidation_1-logloss:0.82972\tvalidation_1-auc:0.90318\tvalidation_1-error:0.30329\n",
      "[82]\tvalidation_0-logloss:0.22080\tvalidation_0-auc:0.99167\tvalidation_0-error:0.09470\tvalidation_1-logloss:0.82837\tvalidation_1-auc:0.90311\tvalidation_1-error:0.30309\n",
      "[83]\tvalidation_0-logloss:0.22001\tvalidation_0-auc:0.99173\tvalidation_0-error:0.09431\tvalidation_1-logloss:0.82735\tvalidation_1-auc:0.90321\tvalidation_1-error:0.30274\n",
      "[84]\tvalidation_0-logloss:0.21880\tvalidation_0-auc:0.99182\tvalidation_0-error:0.09394\tvalidation_1-logloss:0.82466\tvalidation_1-auc:0.90304\tvalidation_1-error:0.30179\n",
      "[85]\tvalidation_0-logloss:0.21808\tvalidation_0-auc:0.99188\tvalidation_0-error:0.09367\tvalidation_1-logloss:0.82339\tvalidation_1-auc:0.90302\tvalidation_1-error:0.30121\n",
      "[86]\tvalidation_0-logloss:0.21744\tvalidation_0-auc:0.99192\tvalidation_0-error:0.09333\tvalidation_1-logloss:0.82274\tvalidation_1-auc:0.90309\tvalidation_1-error:0.30071\n",
      "[87]\tvalidation_0-logloss:0.21678\tvalidation_0-auc:0.99195\tvalidation_0-error:0.09306\tvalidation_1-logloss:0.82112\tvalidation_1-auc:0.90307\tvalidation_1-error:0.30011\n",
      "[88]\tvalidation_0-logloss:0.21568\tvalidation_0-auc:0.99206\tvalidation_0-error:0.09284\tvalidation_1-logloss:0.81826\tvalidation_1-auc:0.90305\tvalidation_1-error:0.29928\n",
      "[89]\tvalidation_0-logloss:0.21397\tvalidation_0-auc:0.99214\tvalidation_0-error:0.09168\tvalidation_1-logloss:0.81678\tvalidation_1-auc:0.90307\tvalidation_1-error:0.29708\n",
      "[90]\tvalidation_0-logloss:0.21335\tvalidation_0-auc:0.99220\tvalidation_0-error:0.09150\tvalidation_1-logloss:0.81522\tvalidation_1-auc:0.90298\tvalidation_1-error:0.29685\n",
      "[91]\tvalidation_0-logloss:0.21249\tvalidation_0-auc:0.99226\tvalidation_0-error:0.09116\tvalidation_1-logloss:0.81414\tvalidation_1-auc:0.90295\tvalidation_1-error:0.29638\n",
      "[92]\tvalidation_0-logloss:0.21154\tvalidation_0-auc:0.99232\tvalidation_0-error:0.09083\tvalidation_1-logloss:0.81312\tvalidation_1-auc:0.90296\tvalidation_1-error:0.29527\n",
      "[93]\tvalidation_0-logloss:0.21099\tvalidation_0-auc:0.99237\tvalidation_0-error:0.09067\tvalidation_1-logloss:0.81173\tvalidation_1-auc:0.90291\tvalidation_1-error:0.29495\n",
      "[94]\tvalidation_0-logloss:0.21035\tvalidation_0-auc:0.99242\tvalidation_0-error:0.09041\tvalidation_1-logloss:0.81019\tvalidation_1-auc:0.90297\tvalidation_1-error:0.29443\n",
      "[95]\tvalidation_0-logloss:0.20935\tvalidation_0-auc:0.99250\tvalidation_0-error:0.08979\tvalidation_1-logloss:0.80866\tvalidation_1-auc:0.90292\tvalidation_1-error:0.29357\n",
      "[96]\tvalidation_0-logloss:0.20826\tvalidation_0-auc:0.99257\tvalidation_0-error:0.08922\tvalidation_1-logloss:0.80631\tvalidation_1-auc:0.90284\tvalidation_1-error:0.29237\n",
      "[97]\tvalidation_0-logloss:0.20782\tvalidation_0-auc:0.99260\tvalidation_0-error:0.08903\tvalidation_1-logloss:0.80514\tvalidation_1-auc:0.90278\tvalidation_1-error:0.29202\n",
      "[98]\tvalidation_0-logloss:0.20693\tvalidation_0-auc:0.99268\tvalidation_0-error:0.08863\tvalidation_1-logloss:0.80312\tvalidation_1-auc:0.90269\tvalidation_1-error:0.29144\n",
      "[99]\tvalidation_0-logloss:0.20399\tvalidation_0-auc:0.99293\tvalidation_0-error:0.08748\tvalidation_1-logloss:0.79679\tvalidation_1-auc:0.90249\tvalidation_1-error:0.28937\n"
     ]
    },
    {
     "name": "stdout",
     "output_type": "stream",
     "text": [
      "[100]\tvalidation_0-logloss:0.20184\tvalidation_0-auc:0.99307\tvalidation_0-error:0.08648\tvalidation_1-logloss:0.79397\tvalidation_1-auc:0.90258\tvalidation_1-error:0.28787\n",
      "[101]\tvalidation_0-logloss:0.20154\tvalidation_0-auc:0.99309\tvalidation_0-error:0.08628\tvalidation_1-logloss:0.79321\tvalidation_1-auc:0.90249\tvalidation_1-error:0.28739\n",
      "[102]\tvalidation_0-logloss:0.20053\tvalidation_0-auc:0.99319\tvalidation_0-error:0.08600\tvalidation_1-logloss:0.79110\tvalidation_1-auc:0.90252\tvalidation_1-error:0.28709\n",
      "[103]\tvalidation_0-logloss:0.19920\tvalidation_0-auc:0.99329\tvalidation_0-error:0.08548\tvalidation_1-logloss:0.78818\tvalidation_1-auc:0.90243\tvalidation_1-error:0.28623\n",
      "[104]\tvalidation_0-logloss:0.19852\tvalidation_0-auc:0.99335\tvalidation_0-error:0.08528\tvalidation_1-logloss:0.78686\tvalidation_1-auc:0.90245\tvalidation_1-error:0.28552\n",
      "[105]\tvalidation_0-logloss:0.19753\tvalidation_0-auc:0.99342\tvalidation_0-error:0.08479\tvalidation_1-logloss:0.78522\tvalidation_1-auc:0.90260\tvalidation_1-error:0.28485\n",
      "[106]\tvalidation_0-logloss:0.19593\tvalidation_0-auc:0.99354\tvalidation_0-error:0.08402\tvalidation_1-logloss:0.78231\tvalidation_1-auc:0.90263\tvalidation_1-error:0.28375\n",
      "[107]\tvalidation_0-logloss:0.19498\tvalidation_0-auc:0.99360\tvalidation_0-error:0.08368\tvalidation_1-logloss:0.77986\tvalidation_1-auc:0.90248\tvalidation_1-error:0.28273\n",
      "[108]\tvalidation_0-logloss:0.19402\tvalidation_0-auc:0.99366\tvalidation_0-error:0.08335\tvalidation_1-logloss:0.77865\tvalidation_1-auc:0.90250\tvalidation_1-error:0.28189\n",
      "[109]\tvalidation_0-logloss:0.19279\tvalidation_0-auc:0.99373\tvalidation_0-error:0.08255\tvalidation_1-logloss:0.77700\tvalidation_1-auc:0.90248\tvalidation_1-error:0.28039\n",
      "[110]\tvalidation_0-logloss:0.19213\tvalidation_0-auc:0.99376\tvalidation_0-error:0.08246\tvalidation_1-logloss:0.77597\tvalidation_1-auc:0.90252\tvalidation_1-error:0.27950\n",
      "[111]\tvalidation_0-logloss:0.19104\tvalidation_0-auc:0.99384\tvalidation_0-error:0.08186\tvalidation_1-logloss:0.77367\tvalidation_1-auc:0.90249\tvalidation_1-error:0.27849\n",
      "[112]\tvalidation_0-logloss:0.19035\tvalidation_0-auc:0.99389\tvalidation_0-error:0.08155\tvalidation_1-logloss:0.77280\tvalidation_1-auc:0.90248\tvalidation_1-error:0.27823\n",
      "[113]\tvalidation_0-logloss:0.18947\tvalidation_0-auc:0.99396\tvalidation_0-error:0.08118\tvalidation_1-logloss:0.77058\tvalidation_1-auc:0.90240\tvalidation_1-error:0.27762\n",
      "[114]\tvalidation_0-logloss:0.18919\tvalidation_0-auc:0.99398\tvalidation_0-error:0.08106\tvalidation_1-logloss:0.77016\tvalidation_1-auc:0.90239\tvalidation_1-error:0.27756\n",
      "[115]\tvalidation_0-logloss:0.18845\tvalidation_0-auc:0.99402\tvalidation_0-error:0.08077\tvalidation_1-logloss:0.76930\tvalidation_1-auc:0.90244\tvalidation_1-error:0.27690\n",
      "[116]\tvalidation_0-logloss:0.18798\tvalidation_0-auc:0.99407\tvalidation_0-error:0.08049\tvalidation_1-logloss:0.76784\tvalidation_1-auc:0.90236\tvalidation_1-error:0.27606\n",
      "[117]\tvalidation_0-logloss:0.18683\tvalidation_0-auc:0.99412\tvalidation_0-error:0.07983\tvalidation_1-logloss:0.76634\tvalidation_1-auc:0.90246\tvalidation_1-error:0.27509\n",
      "[118]\tvalidation_0-logloss:0.18654\tvalidation_0-auc:0.99414\tvalidation_0-error:0.07972\tvalidation_1-logloss:0.76572\tvalidation_1-auc:0.90243\tvalidation_1-error:0.27479\n",
      "[119]\tvalidation_0-logloss:0.18584\tvalidation_0-auc:0.99418\tvalidation_0-error:0.07943\tvalidation_1-logloss:0.76436\tvalidation_1-auc:0.90241\tvalidation_1-error:0.27396\n",
      "[120]\tvalidation_0-logloss:0.18525\tvalidation_0-auc:0.99422\tvalidation_0-error:0.07920\tvalidation_1-logloss:0.76278\tvalidation_1-auc:0.90236\tvalidation_1-error:0.27350\n",
      "[121]\tvalidation_0-logloss:0.18445\tvalidation_0-auc:0.99427\tvalidation_0-error:0.07857\tvalidation_1-logloss:0.76134\tvalidation_1-auc:0.90243\tvalidation_1-error:0.27276\n",
      "[122]\tvalidation_0-logloss:0.18319\tvalidation_0-auc:0.99435\tvalidation_0-error:0.07800\tvalidation_1-logloss:0.75897\tvalidation_1-auc:0.90250\tvalidation_1-error:0.27168\n",
      "[123]\tvalidation_0-logloss:0.18152\tvalidation_0-auc:0.99447\tvalidation_0-error:0.07724\tvalidation_1-logloss:0.75420\tvalidation_1-auc:0.90225\tvalidation_1-error:0.27066\n",
      "[124]\tvalidation_0-logloss:0.17863\tvalidation_0-auc:0.99471\tvalidation_0-error:0.07629\tvalidation_1-logloss:0.74585\tvalidation_1-auc:0.90218\tvalidation_1-error:0.26906\n",
      "[125]\tvalidation_0-logloss:0.17770\tvalidation_0-auc:0.99476\tvalidation_0-error:0.07573\tvalidation_1-logloss:0.74493\tvalidation_1-auc:0.90235\tvalidation_1-error:0.26801\n",
      "[126]\tvalidation_0-logloss:0.17714\tvalidation_0-auc:0.99479\tvalidation_0-error:0.07552\tvalidation_1-logloss:0.74456\tvalidation_1-auc:0.90233\tvalidation_1-error:0.26757\n",
      "[127]\tvalidation_0-logloss:0.17539\tvalidation_0-auc:0.99492\tvalidation_0-error:0.07493\tvalidation_1-logloss:0.74017\tvalidation_1-auc:0.90237\tvalidation_1-error:0.26595\n",
      "[128]\tvalidation_0-logloss:0.17485\tvalidation_0-auc:0.99494\tvalidation_0-error:0.07449\tvalidation_1-logloss:0.73971\tvalidation_1-auc:0.90241\tvalidation_1-error:0.26518\n",
      "[129]\tvalidation_0-logloss:0.17341\tvalidation_0-auc:0.99501\tvalidation_0-error:0.07364\tvalidation_1-logloss:0.73806\tvalidation_1-auc:0.90251\tvalidation_1-error:0.26400\n",
      "[130]\tvalidation_0-logloss:0.17303\tvalidation_0-auc:0.99505\tvalidation_0-error:0.07344\tvalidation_1-logloss:0.73775\tvalidation_1-auc:0.90263\tvalidation_1-error:0.26361\n",
      "[131]\tvalidation_0-logloss:0.17255\tvalidation_0-auc:0.99507\tvalidation_0-error:0.07331\tvalidation_1-logloss:0.73752\tvalidation_1-auc:0.90272\tvalidation_1-error:0.26339\n",
      "[132]\tvalidation_0-logloss:0.17213\tvalidation_0-auc:0.99510\tvalidation_0-error:0.07304\tvalidation_1-logloss:0.73637\tvalidation_1-auc:0.90270\tvalidation_1-error:0.26307\n",
      "[133]\tvalidation_0-logloss:0.17178\tvalidation_0-auc:0.99512\tvalidation_0-error:0.07289\tvalidation_1-logloss:0.73600\tvalidation_1-auc:0.90270\tvalidation_1-error:0.26238\n",
      "[134]\tvalidation_0-logloss:0.17153\tvalidation_0-auc:0.99513\tvalidation_0-error:0.07279\tvalidation_1-logloss:0.73503\tvalidation_1-auc:0.90266\tvalidation_1-error:0.26227\n",
      "[135]\tvalidation_0-logloss:0.17092\tvalidation_0-auc:0.99516\tvalidation_0-error:0.07243\tvalidation_1-logloss:0.73442\tvalidation_1-auc:0.90269\tvalidation_1-error:0.26209\n",
      "[136]\tvalidation_0-logloss:0.17003\tvalidation_0-auc:0.99522\tvalidation_0-error:0.07199\tvalidation_1-logloss:0.73256\tvalidation_1-auc:0.90266\tvalidation_1-error:0.26121\n",
      "[137]\tvalidation_0-logloss:0.16984\tvalidation_0-auc:0.99523\tvalidation_0-error:0.07200\tvalidation_1-logloss:0.73201\tvalidation_1-auc:0.90268\tvalidation_1-error:0.26113\n",
      "[138]\tvalidation_0-logloss:0.16965\tvalidation_0-auc:0.99526\tvalidation_0-error:0.07179\tvalidation_1-logloss:0.73136\tvalidation_1-auc:0.90272\tvalidation_1-error:0.26095\n",
      "[139]\tvalidation_0-logloss:0.16928\tvalidation_0-auc:0.99528\tvalidation_0-error:0.07174\tvalidation_1-logloss:0.73097\tvalidation_1-auc:0.90278\tvalidation_1-error:0.26105\n",
      "[140]\tvalidation_0-logloss:0.16892\tvalidation_0-auc:0.99530\tvalidation_0-error:0.07160\tvalidation_1-logloss:0.73054\tvalidation_1-auc:0.90272\tvalidation_1-error:0.26051\n",
      "[141]\tvalidation_0-logloss:0.16852\tvalidation_0-auc:0.99533\tvalidation_0-error:0.07151\tvalidation_1-logloss:0.72935\tvalidation_1-auc:0.90270\tvalidation_1-error:0.26002\n",
      "[142]\tvalidation_0-logloss:0.16831\tvalidation_0-auc:0.99534\tvalidation_0-error:0.07145\tvalidation_1-logloss:0.72893\tvalidation_1-auc:0.90268\tvalidation_1-error:0.25990\n",
      "[143]\tvalidation_0-logloss:0.16578\tvalidation_0-auc:0.99553\tvalidation_0-error:0.07037\tvalidation_1-logloss:0.72107\tvalidation_1-auc:0.90252\tvalidation_1-error:0.25836\n",
      "[144]\tvalidation_0-logloss:0.16421\tvalidation_0-auc:0.99561\tvalidation_0-error:0.06914\tvalidation_1-logloss:0.71820\tvalidation_1-auc:0.90276\tvalidation_1-error:0.25646\n",
      "[145]\tvalidation_0-logloss:0.16308\tvalidation_0-auc:0.99567\tvalidation_0-error:0.06877\tvalidation_1-logloss:0.71686\tvalidation_1-auc:0.90284\tvalidation_1-error:0.25588\n",
      "[146]\tvalidation_0-logloss:0.16245\tvalidation_0-auc:0.99569\tvalidation_0-error:0.06837\tvalidation_1-logloss:0.71634\tvalidation_1-auc:0.90292\tvalidation_1-error:0.25519\n",
      "[147]\tvalidation_0-logloss:0.16221\tvalidation_0-auc:0.99572\tvalidation_0-error:0.06831\tvalidation_1-logloss:0.71565\tvalidation_1-auc:0.90279\tvalidation_1-error:0.25509\n",
      "[148]\tvalidation_0-logloss:0.16185\tvalidation_0-auc:0.99574\tvalidation_0-error:0.06812\tvalidation_1-logloss:0.71506\tvalidation_1-auc:0.90279\tvalidation_1-error:0.25484\n"
     ]
    },
    {
     "name": "stdout",
     "output_type": "stream",
     "text": [
      "[149]\tvalidation_0-logloss:0.16165\tvalidation_0-auc:0.99574\tvalidation_0-error:0.06797\tvalidation_1-logloss:0.71487\tvalidation_1-auc:0.90290\tvalidation_1-error:0.25484\n",
      "[150]\tvalidation_0-logloss:0.16138\tvalidation_0-auc:0.99575\tvalidation_0-error:0.06776\tvalidation_1-logloss:0.71472\tvalidation_1-auc:0.90292\tvalidation_1-error:0.25458\n",
      "[151]\tvalidation_0-logloss:0.15977\tvalidation_0-auc:0.99583\tvalidation_0-error:0.06709\tvalidation_1-logloss:0.71117\tvalidation_1-auc:0.90310\tvalidation_1-error:0.25292\n",
      "[152]\tvalidation_0-logloss:0.15943\tvalidation_0-auc:0.99586\tvalidation_0-error:0.06698\tvalidation_1-logloss:0.71015\tvalidation_1-auc:0.90306\tvalidation_1-error:0.25292\n",
      "[153]\tvalidation_0-logloss:0.15918\tvalidation_0-auc:0.99587\tvalidation_0-error:0.06693\tvalidation_1-logloss:0.70965\tvalidation_1-auc:0.90296\tvalidation_1-error:0.25241\n",
      "[154]\tvalidation_0-logloss:0.15899\tvalidation_0-auc:0.99588\tvalidation_0-error:0.06676\tvalidation_1-logloss:0.70953\tvalidation_1-auc:0.90291\tvalidation_1-error:0.25231\n",
      "[155]\tvalidation_0-logloss:0.15866\tvalidation_0-auc:0.99590\tvalidation_0-error:0.06668\tvalidation_1-logloss:0.70871\tvalidation_1-auc:0.90295\tvalidation_1-error:0.25221\n",
      "[156]\tvalidation_0-logloss:0.15783\tvalidation_0-auc:0.99595\tvalidation_0-error:0.06609\tvalidation_1-logloss:0.70649\tvalidation_1-auc:0.90296\tvalidation_1-error:0.25139\n",
      "[157]\tvalidation_0-logloss:0.15746\tvalidation_0-auc:0.99597\tvalidation_0-error:0.06594\tvalidation_1-logloss:0.70625\tvalidation_1-auc:0.90300\tvalidation_1-error:0.25110\n",
      "[158]\tvalidation_0-logloss:0.15720\tvalidation_0-auc:0.99598\tvalidation_0-error:0.06582\tvalidation_1-logloss:0.70587\tvalidation_1-auc:0.90301\tvalidation_1-error:0.25107\n",
      "[159]\tvalidation_0-logloss:0.15402\tvalidation_0-auc:0.99621\tvalidation_0-error:0.06441\tvalidation_1-logloss:0.69526\tvalidation_1-auc:0.90302\tvalidation_1-error:0.24824\n",
      "[160]\tvalidation_0-logloss:0.15379\tvalidation_0-auc:0.99623\tvalidation_0-error:0.06431\tvalidation_1-logloss:0.69455\tvalidation_1-auc:0.90298\tvalidation_1-error:0.24823\n",
      "[161]\tvalidation_0-logloss:0.15361\tvalidation_0-auc:0.99625\tvalidation_0-error:0.06431\tvalidation_1-logloss:0.69442\tvalidation_1-auc:0.90304\tvalidation_1-error:0.24823\n",
      "[162]\tvalidation_0-logloss:0.15281\tvalidation_0-auc:0.99630\tvalidation_0-error:0.06390\tvalidation_1-logloss:0.69228\tvalidation_1-auc:0.90296\tvalidation_1-error:0.24767\n",
      "[163]\tvalidation_0-logloss:0.15201\tvalidation_0-auc:0.99632\tvalidation_0-error:0.06349\tvalidation_1-logloss:0.69232\tvalidation_1-auc:0.90309\tvalidation_1-error:0.24700\n",
      "[164]\tvalidation_0-logloss:0.15136\tvalidation_0-auc:0.99635\tvalidation_0-error:0.06330\tvalidation_1-logloss:0.69146\tvalidation_1-auc:0.90324\tvalidation_1-error:0.24630\n",
      "[165]\tvalidation_0-logloss:0.15089\tvalidation_0-auc:0.99638\tvalidation_0-error:0.06314\tvalidation_1-logloss:0.69085\tvalidation_1-auc:0.90311\tvalidation_1-error:0.24623\n",
      "[166]\tvalidation_0-logloss:0.15011\tvalidation_0-auc:0.99643\tvalidation_0-error:0.06288\tvalidation_1-logloss:0.68946\tvalidation_1-auc:0.90304\tvalidation_1-error:0.24575\n",
      "[167]\tvalidation_0-logloss:0.15000\tvalidation_0-auc:0.99643\tvalidation_0-error:0.06283\tvalidation_1-logloss:0.68924\tvalidation_1-auc:0.90302\tvalidation_1-error:0.24573\n",
      "[168]\tvalidation_0-logloss:0.14977\tvalidation_0-auc:0.99645\tvalidation_0-error:0.06275\tvalidation_1-logloss:0.68853\tvalidation_1-auc:0.90298\tvalidation_1-error:0.24556\n",
      "[169]\tvalidation_0-logloss:0.14942\tvalidation_0-auc:0.99647\tvalidation_0-error:0.06247\tvalidation_1-logloss:0.68799\tvalidation_1-auc:0.90299\tvalidation_1-error:0.24522\n",
      "[170]\tvalidation_0-logloss:0.14878\tvalidation_0-auc:0.99649\tvalidation_0-error:0.06206\tvalidation_1-logloss:0.68727\tvalidation_1-auc:0.90311\tvalidation_1-error:0.24473\n",
      "[171]\tvalidation_0-logloss:0.14850\tvalidation_0-auc:0.99650\tvalidation_0-error:0.06201\tvalidation_1-logloss:0.68719\tvalidation_1-auc:0.90314\tvalidation_1-error:0.24457\n",
      "[172]\tvalidation_0-logloss:0.14781\tvalidation_0-auc:0.99654\tvalidation_0-error:0.06179\tvalidation_1-logloss:0.68584\tvalidation_1-auc:0.90318\tvalidation_1-error:0.24446\n",
      "[173]\tvalidation_0-logloss:0.14729\tvalidation_0-auc:0.99656\tvalidation_0-error:0.06155\tvalidation_1-logloss:0.68494\tvalidation_1-auc:0.90326\tvalidation_1-error:0.24405\n",
      "[174]\tvalidation_0-logloss:0.14626\tvalidation_0-auc:0.99662\tvalidation_0-error:0.06105\tvalidation_1-logloss:0.68173\tvalidation_1-auc:0.90314\tvalidation_1-error:0.24314\n",
      "[175]\tvalidation_0-logloss:0.14575\tvalidation_0-auc:0.99665\tvalidation_0-error:0.06103\tvalidation_1-logloss:0.68124\tvalidation_1-auc:0.90312\tvalidation_1-error:0.24274\n",
      "[176]\tvalidation_0-logloss:0.14549\tvalidation_0-auc:0.99667\tvalidation_0-error:0.06079\tvalidation_1-logloss:0.68061\tvalidation_1-auc:0.90313\tvalidation_1-error:0.24249\n",
      "[177]\tvalidation_0-logloss:0.14475\tvalidation_0-auc:0.99670\tvalidation_0-error:0.06042\tvalidation_1-logloss:0.67876\tvalidation_1-auc:0.90312\tvalidation_1-error:0.24191\n",
      "[178]\tvalidation_0-logloss:0.14449\tvalidation_0-auc:0.99672\tvalidation_0-error:0.06031\tvalidation_1-logloss:0.67827\tvalidation_1-auc:0.90310\tvalidation_1-error:0.24172\n",
      "[179]\tvalidation_0-logloss:0.14361\tvalidation_0-auc:0.99677\tvalidation_0-error:0.05999\tvalidation_1-logloss:0.67549\tvalidation_1-auc:0.90307\tvalidation_1-error:0.24107\n",
      "[180]\tvalidation_0-logloss:0.14190\tvalidation_0-auc:0.99685\tvalidation_0-error:0.05929\tvalidation_1-logloss:0.67022\tvalidation_1-auc:0.90288\tvalidation_1-error:0.23977\n",
      "[181]\tvalidation_0-logloss:0.14176\tvalidation_0-auc:0.99686\tvalidation_0-error:0.05922\tvalidation_1-logloss:0.67049\tvalidation_1-auc:0.90299\tvalidation_1-error:0.23968\n",
      "[182]\tvalidation_0-logloss:0.14010\tvalidation_0-auc:0.99694\tvalidation_0-error:0.05856\tvalidation_1-logloss:0.66626\tvalidation_1-auc:0.90309\tvalidation_1-error:0.23830\n",
      "[183]\tvalidation_0-logloss:0.13976\tvalidation_0-auc:0.99696\tvalidation_0-error:0.05846\tvalidation_1-logloss:0.66649\tvalidation_1-auc:0.90318\tvalidation_1-error:0.23806\n",
      "[184]\tvalidation_0-logloss:0.13942\tvalidation_0-auc:0.99698\tvalidation_0-error:0.05824\tvalidation_1-logloss:0.66643\tvalidation_1-auc:0.90316\tvalidation_1-error:0.23789\n",
      "[185]\tvalidation_0-logloss:0.13872\tvalidation_0-auc:0.99701\tvalidation_0-error:0.05795\tvalidation_1-logloss:0.66518\tvalidation_1-auc:0.90330\tvalidation_1-error:0.23751\n",
      "[186]\tvalidation_0-logloss:0.13847\tvalidation_0-auc:0.99703\tvalidation_0-error:0.05791\tvalidation_1-logloss:0.66507\tvalidation_1-auc:0.90334\tvalidation_1-error:0.23741\n",
      "[187]\tvalidation_0-logloss:0.13836\tvalidation_0-auc:0.99704\tvalidation_0-error:0.05778\tvalidation_1-logloss:0.66460\tvalidation_1-auc:0.90326\tvalidation_1-error:0.23706\n",
      "[188]\tvalidation_0-logloss:0.13783\tvalidation_0-auc:0.99706\tvalidation_0-error:0.05756\tvalidation_1-logloss:0.66325\tvalidation_1-auc:0.90326\tvalidation_1-error:0.23620\n",
      "[189]\tvalidation_0-logloss:0.13667\tvalidation_0-auc:0.99711\tvalidation_0-error:0.05683\tvalidation_1-logloss:0.66083\tvalidation_1-auc:0.90334\tvalidation_1-error:0.23497\n",
      "[190]\tvalidation_0-logloss:0.13596\tvalidation_0-auc:0.99713\tvalidation_0-error:0.05624\tvalidation_1-logloss:0.66021\tvalidation_1-auc:0.90339\tvalidation_1-error:0.23411\n",
      "[191]\tvalidation_0-logloss:0.13581\tvalidation_0-auc:0.99713\tvalidation_0-error:0.05620\tvalidation_1-logloss:0.66048\tvalidation_1-auc:0.90338\tvalidation_1-error:0.23426\n",
      "[192]\tvalidation_0-logloss:0.13572\tvalidation_0-auc:0.99714\tvalidation_0-error:0.05612\tvalidation_1-logloss:0.66037\tvalidation_1-auc:0.90331\tvalidation_1-error:0.23403\n",
      "[193]\tvalidation_0-logloss:0.13544\tvalidation_0-auc:0.99715\tvalidation_0-error:0.05592\tvalidation_1-logloss:0.66002\tvalidation_1-auc:0.90328\tvalidation_1-error:0.23392\n",
      "[194]\tvalidation_0-logloss:0.13512\tvalidation_0-auc:0.99716\tvalidation_0-error:0.05579\tvalidation_1-logloss:0.65926\tvalidation_1-auc:0.90325\tvalidation_1-error:0.23362\n",
      "[195]\tvalidation_0-logloss:0.13403\tvalidation_0-auc:0.99722\tvalidation_0-error:0.05523\tvalidation_1-logloss:0.65655\tvalidation_1-auc:0.90326\tvalidation_1-error:0.23276\n",
      "[196]\tvalidation_0-logloss:0.13231\tvalidation_0-auc:0.99732\tvalidation_0-error:0.05467\tvalidation_1-logloss:0.65024\tvalidation_1-auc:0.90324\tvalidation_1-error:0.23143\n",
      "[197]\tvalidation_0-logloss:0.13201\tvalidation_0-auc:0.99734\tvalidation_0-error:0.05455\tvalidation_1-logloss:0.64993\tvalidation_1-auc:0.90328\tvalidation_1-error:0.23117\n"
     ]
    },
    {
     "name": "stdout",
     "output_type": "stream",
     "text": [
      "[198]\tvalidation_0-logloss:0.13012\tvalidation_0-auc:0.99743\tvalidation_0-error:0.05397\tvalidation_1-logloss:0.64352\tvalidation_1-auc:0.90325\tvalidation_1-error:0.22950\n",
      "[199]\tvalidation_0-logloss:0.12993\tvalidation_0-auc:0.99745\tvalidation_0-error:0.05389\tvalidation_1-logloss:0.64321\tvalidation_1-auc:0.90322\tvalidation_1-error:0.22940\n",
      "[200]\tvalidation_0-logloss:0.12955\tvalidation_0-auc:0.99747\tvalidation_0-error:0.05369\tvalidation_1-logloss:0.64289\tvalidation_1-auc:0.90328\tvalidation_1-error:0.22923\n",
      "[201]\tvalidation_0-logloss:0.12841\tvalidation_0-auc:0.99751\tvalidation_0-error:0.05274\tvalidation_1-logloss:0.64063\tvalidation_1-auc:0.90342\tvalidation_1-error:0.22742\n",
      "[202]\tvalidation_0-logloss:0.12740\tvalidation_0-auc:0.99755\tvalidation_0-error:0.05225\tvalidation_1-logloss:0.63851\tvalidation_1-auc:0.90351\tvalidation_1-error:0.22657\n",
      "[203]\tvalidation_0-logloss:0.12631\tvalidation_0-auc:0.99759\tvalidation_0-error:0.05167\tvalidation_1-logloss:0.63621\tvalidation_1-auc:0.90355\tvalidation_1-error:0.22537\n",
      "[204]\tvalidation_0-logloss:0.12452\tvalidation_0-auc:0.99769\tvalidation_0-error:0.05086\tvalidation_1-logloss:0.62960\tvalidation_1-auc:0.90341\tvalidation_1-error:0.22394\n",
      "[205]\tvalidation_0-logloss:0.12405\tvalidation_0-auc:0.99770\tvalidation_0-error:0.05064\tvalidation_1-logloss:0.62936\tvalidation_1-auc:0.90353\tvalidation_1-error:0.22357\n",
      "[206]\tvalidation_0-logloss:0.12308\tvalidation_0-auc:0.99774\tvalidation_0-error:0.05017\tvalidation_1-logloss:0.62640\tvalidation_1-auc:0.90359\tvalidation_1-error:0.22249\n",
      "[207]\tvalidation_0-logloss:0.12182\tvalidation_0-auc:0.99780\tvalidation_0-error:0.04964\tvalidation_1-logloss:0.62201\tvalidation_1-auc:0.90355\tvalidation_1-error:0.22160\n",
      "[208]\tvalidation_0-logloss:0.12164\tvalidation_0-auc:0.99781\tvalidation_0-error:0.04955\tvalidation_1-logloss:0.62212\tvalidation_1-auc:0.90364\tvalidation_1-error:0.22160\n",
      "[209]\tvalidation_0-logloss:0.12055\tvalidation_0-auc:0.99786\tvalidation_0-error:0.04924\tvalidation_1-logloss:0.61988\tvalidation_1-auc:0.90364\tvalidation_1-error:0.22074\n",
      "[210]\tvalidation_0-logloss:0.11973\tvalidation_0-auc:0.99789\tvalidation_0-error:0.04889\tvalidation_1-logloss:0.61730\tvalidation_1-auc:0.90367\tvalidation_1-error:0.21988\n",
      "[211]\tvalidation_0-logloss:0.11924\tvalidation_0-auc:0.99791\tvalidation_0-error:0.04841\tvalidation_1-logloss:0.61636\tvalidation_1-auc:0.90383\tvalidation_1-error:0.21898\n",
      "[212]\tvalidation_0-logloss:0.11831\tvalidation_0-auc:0.99796\tvalidation_0-error:0.04803\tvalidation_1-logloss:0.61332\tvalidation_1-auc:0.90397\tvalidation_1-error:0.21828\n",
      "[213]\tvalidation_0-logloss:0.11714\tvalidation_0-auc:0.99801\tvalidation_0-error:0.04753\tvalidation_1-logloss:0.60958\tvalidation_1-auc:0.90399\tvalidation_1-error:0.21711\n",
      "[214]\tvalidation_0-logloss:0.11689\tvalidation_0-auc:0.99801\tvalidation_0-error:0.04753\tvalidation_1-logloss:0.60951\tvalidation_1-auc:0.90406\tvalidation_1-error:0.21729\n",
      "[215]\tvalidation_0-logloss:0.11627\tvalidation_0-auc:0.99804\tvalidation_0-error:0.04725\tvalidation_1-logloss:0.60848\tvalidation_1-auc:0.90420\tvalidation_1-error:0.21681\n",
      "[216]\tvalidation_0-logloss:0.11582\tvalidation_0-auc:0.99805\tvalidation_0-error:0.04700\tvalidation_1-logloss:0.60765\tvalidation_1-auc:0.90435\tvalidation_1-error:0.21654\n",
      "[217]\tvalidation_0-logloss:0.11546\tvalidation_0-auc:0.99807\tvalidation_0-error:0.04686\tvalidation_1-logloss:0.60725\tvalidation_1-auc:0.90431\tvalidation_1-error:0.21637\n",
      "[218]\tvalidation_0-logloss:0.11462\tvalidation_0-auc:0.99810\tvalidation_0-error:0.04642\tvalidation_1-logloss:0.60479\tvalidation_1-auc:0.90428\tvalidation_1-error:0.21563\n",
      "[219]\tvalidation_0-logloss:0.11455\tvalidation_0-auc:0.99811\tvalidation_0-error:0.04641\tvalidation_1-logloss:0.60467\tvalidation_1-auc:0.90431\tvalidation_1-error:0.21554\n",
      "[220]\tvalidation_0-logloss:0.11324\tvalidation_0-auc:0.99815\tvalidation_0-error:0.04576\tvalidation_1-logloss:0.60089\tvalidation_1-auc:0.90434\tvalidation_1-error:0.21404\n",
      "[221]\tvalidation_0-logloss:0.11251\tvalidation_0-auc:0.99818\tvalidation_0-error:0.04539\tvalidation_1-logloss:0.59953\tvalidation_1-auc:0.90434\tvalidation_1-error:0.21313\n",
      "[222]\tvalidation_0-logloss:0.11236\tvalidation_0-auc:0.99818\tvalidation_0-error:0.04532\tvalidation_1-logloss:0.59977\tvalidation_1-auc:0.90434\tvalidation_1-error:0.21316\n",
      "[223]\tvalidation_0-logloss:0.11226\tvalidation_0-auc:0.99819\tvalidation_0-error:0.04532\tvalidation_1-logloss:0.59924\tvalidation_1-auc:0.90430\tvalidation_1-error:0.21294\n",
      "[224]\tvalidation_0-logloss:0.11161\tvalidation_0-auc:0.99821\tvalidation_0-error:0.04504\tvalidation_1-logloss:0.59850\tvalidation_1-auc:0.90429\tvalidation_1-error:0.21254\n",
      "[225]\tvalidation_0-logloss:0.11115\tvalidation_0-auc:0.99823\tvalidation_0-error:0.04481\tvalidation_1-logloss:0.59770\tvalidation_1-auc:0.90433\tvalidation_1-error:0.21214\n",
      "[226]\tvalidation_0-logloss:0.11087\tvalidation_0-auc:0.99824\tvalidation_0-error:0.04464\tvalidation_1-logloss:0.59737\tvalidation_1-auc:0.90432\tvalidation_1-error:0.21195\n",
      "[227]\tvalidation_0-logloss:0.11032\tvalidation_0-auc:0.99826\tvalidation_0-error:0.04444\tvalidation_1-logloss:0.59549\tvalidation_1-auc:0.90433\tvalidation_1-error:0.21152\n",
      "[228]\tvalidation_0-logloss:0.10997\tvalidation_0-auc:0.99828\tvalidation_0-error:0.04422\tvalidation_1-logloss:0.59542\tvalidation_1-auc:0.90440\tvalidation_1-error:0.21140\n",
      "[229]\tvalidation_0-logloss:0.10915\tvalidation_0-auc:0.99831\tvalidation_0-error:0.04390\tvalidation_1-logloss:0.59296\tvalidation_1-auc:0.90439\tvalidation_1-error:0.21070\n",
      "[230]\tvalidation_0-logloss:0.10883\tvalidation_0-auc:0.99833\tvalidation_0-error:0.04368\tvalidation_1-logloss:0.59354\tvalidation_1-auc:0.90450\tvalidation_1-error:0.21030\n",
      "[231]\tvalidation_0-logloss:0.10868\tvalidation_0-auc:0.99833\tvalidation_0-error:0.04362\tvalidation_1-logloss:0.59342\tvalidation_1-auc:0.90445\tvalidation_1-error:0.21016\n",
      "[232]\tvalidation_0-logloss:0.10829\tvalidation_0-auc:0.99835\tvalidation_0-error:0.04352\tvalidation_1-logloss:0.59219\tvalidation_1-auc:0.90448\tvalidation_1-error:0.20978\n",
      "[233]\tvalidation_0-logloss:0.10738\tvalidation_0-auc:0.99838\tvalidation_0-error:0.04314\tvalidation_1-logloss:0.58907\tvalidation_1-auc:0.90446\tvalidation_1-error:0.20891\n",
      "[234]\tvalidation_0-logloss:0.10702\tvalidation_0-auc:0.99839\tvalidation_0-error:0.04297\tvalidation_1-logloss:0.58865\tvalidation_1-auc:0.90452\tvalidation_1-error:0.20858\n",
      "[235]\tvalidation_0-logloss:0.10689\tvalidation_0-auc:0.99839\tvalidation_0-error:0.04291\tvalidation_1-logloss:0.58874\tvalidation_1-auc:0.90456\tvalidation_1-error:0.20866\n",
      "[236]\tvalidation_0-logloss:0.10619\tvalidation_0-auc:0.99842\tvalidation_0-error:0.04261\tvalidation_1-logloss:0.58654\tvalidation_1-auc:0.90450\tvalidation_1-error:0.20793\n",
      "[237]\tvalidation_0-logloss:0.10563\tvalidation_0-auc:0.99843\tvalidation_0-error:0.04233\tvalidation_1-logloss:0.58473\tvalidation_1-auc:0.90456\tvalidation_1-error:0.20733\n",
      "[238]\tvalidation_0-logloss:0.10542\tvalidation_0-auc:0.99844\tvalidation_0-error:0.04227\tvalidation_1-logloss:0.58449\tvalidation_1-auc:0.90464\tvalidation_1-error:0.20710\n",
      "[239]\tvalidation_0-logloss:0.10518\tvalidation_0-auc:0.99845\tvalidation_0-error:0.04218\tvalidation_1-logloss:0.58407\tvalidation_1-auc:0.90468\tvalidation_1-error:0.20694\n",
      "[240]\tvalidation_0-logloss:0.10491\tvalidation_0-auc:0.99845\tvalidation_0-error:0.04207\tvalidation_1-logloss:0.58424\tvalidation_1-auc:0.90475\tvalidation_1-error:0.20678\n",
      "[241]\tvalidation_0-logloss:0.10445\tvalidation_0-auc:0.99847\tvalidation_0-error:0.04187\tvalidation_1-logloss:0.58331\tvalidation_1-auc:0.90477\tvalidation_1-error:0.20654\n",
      "[242]\tvalidation_0-logloss:0.10365\tvalidation_0-auc:0.99849\tvalidation_0-error:0.04148\tvalidation_1-logloss:0.58174\tvalidation_1-auc:0.90481\tvalidation_1-error:0.20576\n",
      "[243]\tvalidation_0-logloss:0.10285\tvalidation_0-auc:0.99851\tvalidation_0-error:0.04111\tvalidation_1-logloss:0.57998\tvalidation_1-auc:0.90481\tvalidation_1-error:0.20529\n",
      "[244]\tvalidation_0-logloss:0.10219\tvalidation_0-auc:0.99853\tvalidation_0-error:0.04090\tvalidation_1-logloss:0.57762\tvalidation_1-auc:0.90479\tvalidation_1-error:0.20468\n",
      "[245]\tvalidation_0-logloss:0.10192\tvalidation_0-auc:0.99855\tvalidation_0-error:0.04081\tvalidation_1-logloss:0.57729\tvalidation_1-auc:0.90480\tvalidation_1-error:0.20453\n",
      "[246]\tvalidation_0-logloss:0.10157\tvalidation_0-auc:0.99856\tvalidation_0-error:0.04065\tvalidation_1-logloss:0.57685\tvalidation_1-auc:0.90481\tvalidation_1-error:0.20446\n"
     ]
    },
    {
     "name": "stdout",
     "output_type": "stream",
     "text": [
      "[247]\tvalidation_0-logloss:0.10110\tvalidation_0-auc:0.99857\tvalidation_0-error:0.04053\tvalidation_1-logloss:0.57578\tvalidation_1-auc:0.90485\tvalidation_1-error:0.20399\n",
      "[248]\tvalidation_0-logloss:0.10071\tvalidation_0-auc:0.99858\tvalidation_0-error:0.04031\tvalidation_1-logloss:0.57512\tvalidation_1-auc:0.90482\tvalidation_1-error:0.20357\n",
      "[249]\tvalidation_0-logloss:0.10049\tvalidation_0-auc:0.99858\tvalidation_0-error:0.04029\tvalidation_1-logloss:0.57497\tvalidation_1-auc:0.90487\tvalidation_1-error:0.20339\n",
      "[250]\tvalidation_0-logloss:0.10035\tvalidation_0-auc:0.99859\tvalidation_0-error:0.04020\tvalidation_1-logloss:0.57480\tvalidation_1-auc:0.90487\tvalidation_1-error:0.20326\n",
      "[251]\tvalidation_0-logloss:0.10019\tvalidation_0-auc:0.99859\tvalidation_0-error:0.04016\tvalidation_1-logloss:0.57467\tvalidation_1-auc:0.90488\tvalidation_1-error:0.20307\n",
      "[252]\tvalidation_0-logloss:0.10004\tvalidation_0-auc:0.99860\tvalidation_0-error:0.04008\tvalidation_1-logloss:0.57513\tvalidation_1-auc:0.90499\tvalidation_1-error:0.20320\n",
      "[253]\tvalidation_0-logloss:0.09979\tvalidation_0-auc:0.99860\tvalidation_0-error:0.04001\tvalidation_1-logloss:0.57445\tvalidation_1-auc:0.90502\tvalidation_1-error:0.20290\n",
      "[254]\tvalidation_0-logloss:0.09936\tvalidation_0-auc:0.99861\tvalidation_0-error:0.03986\tvalidation_1-logloss:0.57304\tvalidation_1-auc:0.90509\tvalidation_1-error:0.20213\n",
      "[255]\tvalidation_0-logloss:0.09907\tvalidation_0-auc:0.99862\tvalidation_0-error:0.03978\tvalidation_1-logloss:0.57266\tvalidation_1-auc:0.90505\tvalidation_1-error:0.20210\n",
      "[256]\tvalidation_0-logloss:0.09875\tvalidation_0-auc:0.99863\tvalidation_0-error:0.03956\tvalidation_1-logloss:0.57241\tvalidation_1-auc:0.90504\tvalidation_1-error:0.20189\n",
      "[257]\tvalidation_0-logloss:0.09851\tvalidation_0-auc:0.99864\tvalidation_0-error:0.03949\tvalidation_1-logloss:0.57230\tvalidation_1-auc:0.90503\tvalidation_1-error:0.20164\n",
      "[258]\tvalidation_0-logloss:0.09803\tvalidation_0-auc:0.99866\tvalidation_0-error:0.03925\tvalidation_1-logloss:0.57056\tvalidation_1-auc:0.90498\tvalidation_1-error:0.20109\n",
      "[259]\tvalidation_0-logloss:0.09768\tvalidation_0-auc:0.99867\tvalidation_0-error:0.03904\tvalidation_1-logloss:0.57011\tvalidation_1-auc:0.90498\tvalidation_1-error:0.20087\n",
      "[260]\tvalidation_0-logloss:0.09709\tvalidation_0-auc:0.99868\tvalidation_0-error:0.03867\tvalidation_1-logloss:0.56810\tvalidation_1-auc:0.90492\tvalidation_1-error:0.20025\n",
      "[261]\tvalidation_0-logloss:0.09671\tvalidation_0-auc:0.99870\tvalidation_0-error:0.03849\tvalidation_1-logloss:0.56697\tvalidation_1-auc:0.90494\tvalidation_1-error:0.19965\n",
      "[262]\tvalidation_0-logloss:0.09646\tvalidation_0-auc:0.99870\tvalidation_0-error:0.03841\tvalidation_1-logloss:0.56732\tvalidation_1-auc:0.90509\tvalidation_1-error:0.19956\n",
      "[263]\tvalidation_0-logloss:0.09624\tvalidation_0-auc:0.99870\tvalidation_0-error:0.03828\tvalidation_1-logloss:0.56743\tvalidation_1-auc:0.90507\tvalidation_1-error:0.19922\n",
      "[264]\tvalidation_0-logloss:0.09565\tvalidation_0-auc:0.99872\tvalidation_0-error:0.03805\tvalidation_1-logloss:0.56519\tvalidation_1-auc:0.90503\tvalidation_1-error:0.19847\n",
      "[265]\tvalidation_0-logloss:0.09545\tvalidation_0-auc:0.99873\tvalidation_0-error:0.03793\tvalidation_1-logloss:0.56488\tvalidation_1-auc:0.90501\tvalidation_1-error:0.19864\n",
      "[266]\tvalidation_0-logloss:0.09505\tvalidation_0-auc:0.99874\tvalidation_0-error:0.03780\tvalidation_1-logloss:0.56477\tvalidation_1-auc:0.90509\tvalidation_1-error:0.19828\n",
      "[267]\tvalidation_0-logloss:0.09478\tvalidation_0-auc:0.99875\tvalidation_0-error:0.03769\tvalidation_1-logloss:0.56425\tvalidation_1-auc:0.90510\tvalidation_1-error:0.19797\n",
      "[268]\tvalidation_0-logloss:0.09421\tvalidation_0-auc:0.99876\tvalidation_0-error:0.03743\tvalidation_1-logloss:0.56279\tvalidation_1-auc:0.90508\tvalidation_1-error:0.19730\n",
      "[269]\tvalidation_0-logloss:0.09411\tvalidation_0-auc:0.99877\tvalidation_0-error:0.03739\tvalidation_1-logloss:0.56293\tvalidation_1-auc:0.90511\tvalidation_1-error:0.19710\n",
      "[270]\tvalidation_0-logloss:0.09317\tvalidation_0-auc:0.99880\tvalidation_0-error:0.03707\tvalidation_1-logloss:0.55949\tvalidation_1-auc:0.90515\tvalidation_1-error:0.19616\n",
      "[271]\tvalidation_0-logloss:0.09301\tvalidation_0-auc:0.99880\tvalidation_0-error:0.03691\tvalidation_1-logloss:0.55935\tvalidation_1-auc:0.90519\tvalidation_1-error:0.19597\n",
      "[272]\tvalidation_0-logloss:0.09280\tvalidation_0-auc:0.99881\tvalidation_0-error:0.03680\tvalidation_1-logloss:0.55909\tvalidation_1-auc:0.90523\tvalidation_1-error:0.19590\n",
      "[273]\tvalidation_0-logloss:0.09218\tvalidation_0-auc:0.99882\tvalidation_0-error:0.03648\tvalidation_1-logloss:0.55720\tvalidation_1-auc:0.90523\tvalidation_1-error:0.19532\n",
      "[274]\tvalidation_0-logloss:0.09203\tvalidation_0-auc:0.99883\tvalidation_0-error:0.03644\tvalidation_1-logloss:0.55728\tvalidation_1-auc:0.90526\tvalidation_1-error:0.19529\n",
      "[275]\tvalidation_0-logloss:0.09187\tvalidation_0-auc:0.99883\tvalidation_0-error:0.03638\tvalidation_1-logloss:0.55705\tvalidation_1-auc:0.90526\tvalidation_1-error:0.19511\n",
      "[276]\tvalidation_0-logloss:0.09172\tvalidation_0-auc:0.99884\tvalidation_0-error:0.03632\tvalidation_1-logloss:0.55681\tvalidation_1-auc:0.90532\tvalidation_1-error:0.19497\n",
      "[277]\tvalidation_0-logloss:0.09127\tvalidation_0-auc:0.99885\tvalidation_0-error:0.03615\tvalidation_1-logloss:0.55552\tvalidation_1-auc:0.90532\tvalidation_1-error:0.19456\n",
      "[278]\tvalidation_0-logloss:0.09090\tvalidation_0-auc:0.99886\tvalidation_0-error:0.03600\tvalidation_1-logloss:0.55523\tvalidation_1-auc:0.90542\tvalidation_1-error:0.19424\n",
      "[279]\tvalidation_0-logloss:0.09070\tvalidation_0-auc:0.99887\tvalidation_0-error:0.03584\tvalidation_1-logloss:0.55491\tvalidation_1-auc:0.90540\tvalidation_1-error:0.19395\n",
      "[280]\tvalidation_0-logloss:0.09058\tvalidation_0-auc:0.99887\tvalidation_0-error:0.03580\tvalidation_1-logloss:0.55483\tvalidation_1-auc:0.90549\tvalidation_1-error:0.19384\n",
      "[281]\tvalidation_0-logloss:0.09033\tvalidation_0-auc:0.99888\tvalidation_0-error:0.03574\tvalidation_1-logloss:0.55431\tvalidation_1-auc:0.90550\tvalidation_1-error:0.19380\n",
      "[282]\tvalidation_0-logloss:0.09015\tvalidation_0-auc:0.99888\tvalidation_0-error:0.03563\tvalidation_1-logloss:0.55407\tvalidation_1-auc:0.90550\tvalidation_1-error:0.19358\n",
      "[283]\tvalidation_0-logloss:0.08989\tvalidation_0-auc:0.99889\tvalidation_0-error:0.03552\tvalidation_1-logloss:0.55324\tvalidation_1-auc:0.90552\tvalidation_1-error:0.19307\n",
      "[284]\tvalidation_0-logloss:0.08963\tvalidation_0-auc:0.99889\tvalidation_0-error:0.03538\tvalidation_1-logloss:0.55317\tvalidation_1-auc:0.90558\tvalidation_1-error:0.19312\n",
      "[285]\tvalidation_0-logloss:0.08934\tvalidation_0-auc:0.99890\tvalidation_0-error:0.03521\tvalidation_1-logloss:0.55270\tvalidation_1-auc:0.90558\tvalidation_1-error:0.19256\n",
      "[286]\tvalidation_0-logloss:0.08889\tvalidation_0-auc:0.99891\tvalidation_0-error:0.03503\tvalidation_1-logloss:0.55165\tvalidation_1-auc:0.90562\tvalidation_1-error:0.19233\n",
      "[287]\tvalidation_0-logloss:0.08850\tvalidation_0-auc:0.99892\tvalidation_0-error:0.03479\tvalidation_1-logloss:0.55075\tvalidation_1-auc:0.90561\tvalidation_1-error:0.19161\n",
      "[288]\tvalidation_0-logloss:0.08832\tvalidation_0-auc:0.99893\tvalidation_0-error:0.03473\tvalidation_1-logloss:0.55038\tvalidation_1-auc:0.90571\tvalidation_1-error:0.19137\n",
      "[289]\tvalidation_0-logloss:0.08803\tvalidation_0-auc:0.99893\tvalidation_0-error:0.03456\tvalidation_1-logloss:0.54960\tvalidation_1-auc:0.90574\tvalidation_1-error:0.19106\n",
      "[290]\tvalidation_0-logloss:0.08780\tvalidation_0-auc:0.99894\tvalidation_0-error:0.03441\tvalidation_1-logloss:0.54940\tvalidation_1-auc:0.90574\tvalidation_1-error:0.19091\n",
      "[291]\tvalidation_0-logloss:0.08767\tvalidation_0-auc:0.99894\tvalidation_0-error:0.03437\tvalidation_1-logloss:0.54936\tvalidation_1-auc:0.90576\tvalidation_1-error:0.19093\n",
      "[292]\tvalidation_0-logloss:0.08751\tvalidation_0-auc:0.99895\tvalidation_0-error:0.03432\tvalidation_1-logloss:0.54905\tvalidation_1-auc:0.90573\tvalidation_1-error:0.19077\n",
      "[293]\tvalidation_0-logloss:0.08726\tvalidation_0-auc:0.99895\tvalidation_0-error:0.03421\tvalidation_1-logloss:0.54913\tvalidation_1-auc:0.90570\tvalidation_1-error:0.19067\n",
      "[294]\tvalidation_0-logloss:0.08701\tvalidation_0-auc:0.99896\tvalidation_0-error:0.03412\tvalidation_1-logloss:0.54849\tvalidation_1-auc:0.90569\tvalidation_1-error:0.19037\n",
      "[295]\tvalidation_0-logloss:0.08653\tvalidation_0-auc:0.99898\tvalidation_0-error:0.03391\tvalidation_1-logloss:0.54654\tvalidation_1-auc:0.90568\tvalidation_1-error:0.19008\n"
     ]
    },
    {
     "name": "stdout",
     "output_type": "stream",
     "text": [
      "[296]\tvalidation_0-logloss:0.08638\tvalidation_0-auc:0.99898\tvalidation_0-error:0.03382\tvalidation_1-logloss:0.54657\tvalidation_1-auc:0.90570\tvalidation_1-error:0.19017\n",
      "[297]\tvalidation_0-logloss:0.08620\tvalidation_0-auc:0.99899\tvalidation_0-error:0.03375\tvalidation_1-logloss:0.54631\tvalidation_1-auc:0.90574\tvalidation_1-error:0.19002\n",
      "[298]\tvalidation_0-logloss:0.08590\tvalidation_0-auc:0.99899\tvalidation_0-error:0.03361\tvalidation_1-logloss:0.54550\tvalidation_1-auc:0.90575\tvalidation_1-error:0.18988\n",
      "[299]\tvalidation_0-logloss:0.08566\tvalidation_0-auc:0.99900\tvalidation_0-error:0.03346\tvalidation_1-logloss:0.54526\tvalidation_1-auc:0.90585\tvalidation_1-error:0.18987\n",
      "[300]\tvalidation_0-logloss:0.08544\tvalidation_0-auc:0.99900\tvalidation_0-error:0.03340\tvalidation_1-logloss:0.54490\tvalidation_1-auc:0.90588\tvalidation_1-error:0.18960\n",
      "[301]\tvalidation_0-logloss:0.08514\tvalidation_0-auc:0.99901\tvalidation_0-error:0.03330\tvalidation_1-logloss:0.54462\tvalidation_1-auc:0.90593\tvalidation_1-error:0.18928\n",
      "[302]\tvalidation_0-logloss:0.08501\tvalidation_0-auc:0.99901\tvalidation_0-error:0.03328\tvalidation_1-logloss:0.54471\tvalidation_1-auc:0.90595\tvalidation_1-error:0.18927\n",
      "[303]\tvalidation_0-logloss:0.08483\tvalidation_0-auc:0.99902\tvalidation_0-error:0.03313\tvalidation_1-logloss:0.54456\tvalidation_1-auc:0.90596\tvalidation_1-error:0.18906\n",
      "[304]\tvalidation_0-logloss:0.08453\tvalidation_0-auc:0.99903\tvalidation_0-error:0.03297\tvalidation_1-logloss:0.54390\tvalidation_1-auc:0.90592\tvalidation_1-error:0.18870\n",
      "[305]\tvalidation_0-logloss:0.08434\tvalidation_0-auc:0.99903\tvalidation_0-error:0.03286\tvalidation_1-logloss:0.54346\tvalidation_1-auc:0.90595\tvalidation_1-error:0.18849\n",
      "[306]\tvalidation_0-logloss:0.08425\tvalidation_0-auc:0.99903\tvalidation_0-error:0.03286\tvalidation_1-logloss:0.54349\tvalidation_1-auc:0.90599\tvalidation_1-error:0.18849\n",
      "[307]\tvalidation_0-logloss:0.08403\tvalidation_0-auc:0.99904\tvalidation_0-error:0.03278\tvalidation_1-logloss:0.54326\tvalidation_1-auc:0.90600\tvalidation_1-error:0.18820\n",
      "[308]\tvalidation_0-logloss:0.08373\tvalidation_0-auc:0.99905\tvalidation_0-error:0.03261\tvalidation_1-logloss:0.54311\tvalidation_1-auc:0.90604\tvalidation_1-error:0.18803\n",
      "[309]\tvalidation_0-logloss:0.08361\tvalidation_0-auc:0.99905\tvalidation_0-error:0.03256\tvalidation_1-logloss:0.54278\tvalidation_1-auc:0.90605\tvalidation_1-error:0.18782\n",
      "[310]\tvalidation_0-logloss:0.08345\tvalidation_0-auc:0.99905\tvalidation_0-error:0.03248\tvalidation_1-logloss:0.54263\tvalidation_1-auc:0.90605\tvalidation_1-error:0.18771\n",
      "[311]\tvalidation_0-logloss:0.08326\tvalidation_0-auc:0.99906\tvalidation_0-error:0.03241\tvalidation_1-logloss:0.54197\tvalidation_1-auc:0.90605\tvalidation_1-error:0.18743\n",
      "[312]\tvalidation_0-logloss:0.08292\tvalidation_0-auc:0.99907\tvalidation_0-error:0.03211\tvalidation_1-logloss:0.54124\tvalidation_1-auc:0.90603\tvalidation_1-error:0.18705\n",
      "[313]\tvalidation_0-logloss:0.08267\tvalidation_0-auc:0.99907\tvalidation_0-error:0.03192\tvalidation_1-logloss:0.54075\tvalidation_1-auc:0.90602\tvalidation_1-error:0.18692\n",
      "[314]\tvalidation_0-logloss:0.08238\tvalidation_0-auc:0.99908\tvalidation_0-error:0.03175\tvalidation_1-logloss:0.54032\tvalidation_1-auc:0.90602\tvalidation_1-error:0.18671\n",
      "[315]\tvalidation_0-logloss:0.08210\tvalidation_0-auc:0.99909\tvalidation_0-error:0.03162\tvalidation_1-logloss:0.53952\tvalidation_1-auc:0.90599\tvalidation_1-error:0.18650\n",
      "[316]\tvalidation_0-logloss:0.08188\tvalidation_0-auc:0.99909\tvalidation_0-error:0.03155\tvalidation_1-logloss:0.53900\tvalidation_1-auc:0.90603\tvalidation_1-error:0.18634\n",
      "[317]\tvalidation_0-logloss:0.08167\tvalidation_0-auc:0.99910\tvalidation_0-error:0.03145\tvalidation_1-logloss:0.53833\tvalidation_1-auc:0.90603\tvalidation_1-error:0.18607\n",
      "[318]\tvalidation_0-logloss:0.08153\tvalidation_0-auc:0.99910\tvalidation_0-error:0.03132\tvalidation_1-logloss:0.53860\tvalidation_1-auc:0.90609\tvalidation_1-error:0.18607\n",
      "[319]\tvalidation_0-logloss:0.08141\tvalidation_0-auc:0.99910\tvalidation_0-error:0.03133\tvalidation_1-logloss:0.53841\tvalidation_1-auc:0.90612\tvalidation_1-error:0.18602\n",
      "[320]\tvalidation_0-logloss:0.08094\tvalidation_0-auc:0.99911\tvalidation_0-error:0.03102\tvalidation_1-logloss:0.53707\tvalidation_1-auc:0.90613\tvalidation_1-error:0.18567\n",
      "[321]\tvalidation_0-logloss:0.08082\tvalidation_0-auc:0.99912\tvalidation_0-error:0.03095\tvalidation_1-logloss:0.53710\tvalidation_1-auc:0.90616\tvalidation_1-error:0.18561\n",
      "[322]\tvalidation_0-logloss:0.08060\tvalidation_0-auc:0.99912\tvalidation_0-error:0.03083\tvalidation_1-logloss:0.53698\tvalidation_1-auc:0.90624\tvalidation_1-error:0.18540\n",
      "[323]\tvalidation_0-logloss:0.08035\tvalidation_0-auc:0.99913\tvalidation_0-error:0.03076\tvalidation_1-logloss:0.53697\tvalidation_1-auc:0.90628\tvalidation_1-error:0.18520\n",
      "[324]\tvalidation_0-logloss:0.08006\tvalidation_0-auc:0.99914\tvalidation_0-error:0.03064\tvalidation_1-logloss:0.53650\tvalidation_1-auc:0.90624\tvalidation_1-error:0.18499\n",
      "[325]\tvalidation_0-logloss:0.07993\tvalidation_0-auc:0.99914\tvalidation_0-error:0.03058\tvalidation_1-logloss:0.53672\tvalidation_1-auc:0.90624\tvalidation_1-error:0.18489\n",
      "[326]\tvalidation_0-logloss:0.07972\tvalidation_0-auc:0.99914\tvalidation_0-error:0.03053\tvalidation_1-logloss:0.53626\tvalidation_1-auc:0.90626\tvalidation_1-error:0.18466\n",
      "[327]\tvalidation_0-logloss:0.07965\tvalidation_0-auc:0.99915\tvalidation_0-error:0.03052\tvalidation_1-logloss:0.53618\tvalidation_1-auc:0.90624\tvalidation_1-error:0.18476\n",
      "[328]\tvalidation_0-logloss:0.07951\tvalidation_0-auc:0.99915\tvalidation_0-error:0.03046\tvalidation_1-logloss:0.53604\tvalidation_1-auc:0.90621\tvalidation_1-error:0.18467\n",
      "[329]\tvalidation_0-logloss:0.07932\tvalidation_0-auc:0.99916\tvalidation_0-error:0.03035\tvalidation_1-logloss:0.53562\tvalidation_1-auc:0.90625\tvalidation_1-error:0.18451\n",
      "[330]\tvalidation_0-logloss:0.07902\tvalidation_0-auc:0.99916\tvalidation_0-error:0.03019\tvalidation_1-logloss:0.53472\tvalidation_1-auc:0.90625\tvalidation_1-error:0.18427\n",
      "[331]\tvalidation_0-logloss:0.07883\tvalidation_0-auc:0.99917\tvalidation_0-error:0.03012\tvalidation_1-logloss:0.53408\tvalidation_1-auc:0.90628\tvalidation_1-error:0.18427\n",
      "[332]\tvalidation_0-logloss:0.07873\tvalidation_0-auc:0.99917\tvalidation_0-error:0.03013\tvalidation_1-logloss:0.53404\tvalidation_1-auc:0.90630\tvalidation_1-error:0.18431\n",
      "[333]\tvalidation_0-logloss:0.07850\tvalidation_0-auc:0.99918\tvalidation_0-error:0.02998\tvalidation_1-logloss:0.53359\tvalidation_1-auc:0.90632\tvalidation_1-error:0.18405\n",
      "[334]\tvalidation_0-logloss:0.07827\tvalidation_0-auc:0.99918\tvalidation_0-error:0.02992\tvalidation_1-logloss:0.53316\tvalidation_1-auc:0.90631\tvalidation_1-error:0.18381\n",
      "[335]\tvalidation_0-logloss:0.07804\tvalidation_0-auc:0.99918\tvalidation_0-error:0.02981\tvalidation_1-logloss:0.53263\tvalidation_1-auc:0.90632\tvalidation_1-error:0.18357\n",
      "[336]\tvalidation_0-logloss:0.07780\tvalidation_0-auc:0.99919\tvalidation_0-error:0.02974\tvalidation_1-logloss:0.53228\tvalidation_1-auc:0.90629\tvalidation_1-error:0.18341\n",
      "[337]\tvalidation_0-logloss:0.07756\tvalidation_0-auc:0.99920\tvalidation_0-error:0.02964\tvalidation_1-logloss:0.53209\tvalidation_1-auc:0.90632\tvalidation_1-error:0.18332\n",
      "[338]\tvalidation_0-logloss:0.07738\tvalidation_0-auc:0.99920\tvalidation_0-error:0.02958\tvalidation_1-logloss:0.53182\tvalidation_1-auc:0.90635\tvalidation_1-error:0.18336\n",
      "[339]\tvalidation_0-logloss:0.07725\tvalidation_0-auc:0.99920\tvalidation_0-error:0.02954\tvalidation_1-logloss:0.53182\tvalidation_1-auc:0.90634\tvalidation_1-error:0.18326\n",
      "[340]\tvalidation_0-logloss:0.07703\tvalidation_0-auc:0.99921\tvalidation_0-error:0.02938\tvalidation_1-logloss:0.53160\tvalidation_1-auc:0.90635\tvalidation_1-error:0.18281\n",
      "[341]\tvalidation_0-logloss:0.07689\tvalidation_0-auc:0.99921\tvalidation_0-error:0.02933\tvalidation_1-logloss:0.53179\tvalidation_1-auc:0.90637\tvalidation_1-error:0.18281\n",
      "[342]\tvalidation_0-logloss:0.07669\tvalidation_0-auc:0.99922\tvalidation_0-error:0.02927\tvalidation_1-logloss:0.53159\tvalidation_1-auc:0.90638\tvalidation_1-error:0.18277\n",
      "[343]\tvalidation_0-logloss:0.07652\tvalidation_0-auc:0.99922\tvalidation_0-error:0.02914\tvalidation_1-logloss:0.53137\tvalidation_1-auc:0.90637\tvalidation_1-error:0.18275\n",
      "[344]\tvalidation_0-logloss:0.07638\tvalidation_0-auc:0.99923\tvalidation_0-error:0.02910\tvalidation_1-logloss:0.53124\tvalidation_1-auc:0.90637\tvalidation_1-error:0.18284\n"
     ]
    },
    {
     "name": "stdout",
     "output_type": "stream",
     "text": [
      "[345]\tvalidation_0-logloss:0.07615\tvalidation_0-auc:0.99923\tvalidation_0-error:0.02902\tvalidation_1-logloss:0.53081\tvalidation_1-auc:0.90631\tvalidation_1-error:0.18243\n",
      "[346]\tvalidation_0-logloss:0.07602\tvalidation_0-auc:0.99923\tvalidation_0-error:0.02894\tvalidation_1-logloss:0.53050\tvalidation_1-auc:0.90629\tvalidation_1-error:0.18237\n",
      "[347]\tvalidation_0-logloss:0.07586\tvalidation_0-auc:0.99924\tvalidation_0-error:0.02886\tvalidation_1-logloss:0.53039\tvalidation_1-auc:0.90634\tvalidation_1-error:0.18231\n",
      "[348]\tvalidation_0-logloss:0.07575\tvalidation_0-auc:0.99924\tvalidation_0-error:0.02880\tvalidation_1-logloss:0.53028\tvalidation_1-auc:0.90633\tvalidation_1-error:0.18214\n",
      "[349]\tvalidation_0-logloss:0.07561\tvalidation_0-auc:0.99924\tvalidation_0-error:0.02877\tvalidation_1-logloss:0.53019\tvalidation_1-auc:0.90634\tvalidation_1-error:0.18195\n",
      "[350]\tvalidation_0-logloss:0.07521\tvalidation_0-auc:0.99925\tvalidation_0-error:0.02860\tvalidation_1-logloss:0.52862\tvalidation_1-auc:0.90634\tvalidation_1-error:0.18152\n",
      "[351]\tvalidation_0-logloss:0.07502\tvalidation_0-auc:0.99926\tvalidation_0-error:0.02853\tvalidation_1-logloss:0.52856\tvalidation_1-auc:0.90635\tvalidation_1-error:0.18128\n",
      "[352]\tvalidation_0-logloss:0.07488\tvalidation_0-auc:0.99926\tvalidation_0-error:0.02844\tvalidation_1-logloss:0.52837\tvalidation_1-auc:0.90631\tvalidation_1-error:0.18118\n",
      "[353]\tvalidation_0-logloss:0.07465\tvalidation_0-auc:0.99927\tvalidation_0-error:0.02832\tvalidation_1-logloss:0.52741\tvalidation_1-auc:0.90627\tvalidation_1-error:0.18093\n",
      "[354]\tvalidation_0-logloss:0.07453\tvalidation_0-auc:0.99927\tvalidation_0-error:0.02828\tvalidation_1-logloss:0.52730\tvalidation_1-auc:0.90629\tvalidation_1-error:0.18083\n",
      "[355]\tvalidation_0-logloss:0.07444\tvalidation_0-auc:0.99927\tvalidation_0-error:0.02826\tvalidation_1-logloss:0.52735\tvalidation_1-auc:0.90630\tvalidation_1-error:0.18074\n",
      "[356]\tvalidation_0-logloss:0.07415\tvalidation_0-auc:0.99928\tvalidation_0-error:0.02820\tvalidation_1-logloss:0.52689\tvalidation_1-auc:0.90631\tvalidation_1-error:0.18052\n",
      "[357]\tvalidation_0-logloss:0.07397\tvalidation_0-auc:0.99928\tvalidation_0-error:0.02813\tvalidation_1-logloss:0.52663\tvalidation_1-auc:0.90631\tvalidation_1-error:0.18040\n",
      "[358]\tvalidation_0-logloss:0.07389\tvalidation_0-auc:0.99929\tvalidation_0-error:0.02811\tvalidation_1-logloss:0.52636\tvalidation_1-auc:0.90633\tvalidation_1-error:0.18026\n",
      "[359]\tvalidation_0-logloss:0.07386\tvalidation_0-auc:0.99929\tvalidation_0-error:0.02809\tvalidation_1-logloss:0.52632\tvalidation_1-auc:0.90638\tvalidation_1-error:0.18024\n",
      "[360]\tvalidation_0-logloss:0.07372\tvalidation_0-auc:0.99929\tvalidation_0-error:0.02802\tvalidation_1-logloss:0.52626\tvalidation_1-auc:0.90634\tvalidation_1-error:0.18013\n",
      "[361]\tvalidation_0-logloss:0.07353\tvalidation_0-auc:0.99929\tvalidation_0-error:0.02794\tvalidation_1-logloss:0.52600\tvalidation_1-auc:0.90633\tvalidation_1-error:0.17989\n",
      "[362]\tvalidation_0-logloss:0.07337\tvalidation_0-auc:0.99930\tvalidation_0-error:0.02782\tvalidation_1-logloss:0.52612\tvalidation_1-auc:0.90632\tvalidation_1-error:0.17985\n",
      "[363]\tvalidation_0-logloss:0.07325\tvalidation_0-auc:0.99930\tvalidation_0-error:0.02776\tvalidation_1-logloss:0.52587\tvalidation_1-auc:0.90634\tvalidation_1-error:0.17961\n",
      "[364]\tvalidation_0-logloss:0.07313\tvalidation_0-auc:0.99930\tvalidation_0-error:0.02771\tvalidation_1-logloss:0.52554\tvalidation_1-auc:0.90636\tvalidation_1-error:0.17959\n",
      "[365]\tvalidation_0-logloss:0.07297\tvalidation_0-auc:0.99930\tvalidation_0-error:0.02766\tvalidation_1-logloss:0.52528\tvalidation_1-auc:0.90634\tvalidation_1-error:0.17957\n",
      "[366]\tvalidation_0-logloss:0.07278\tvalidation_0-auc:0.99931\tvalidation_0-error:0.02758\tvalidation_1-logloss:0.52529\tvalidation_1-auc:0.90639\tvalidation_1-error:0.17950\n",
      "[367]\tvalidation_0-logloss:0.07255\tvalidation_0-auc:0.99931\tvalidation_0-error:0.02747\tvalidation_1-logloss:0.52537\tvalidation_1-auc:0.90638\tvalidation_1-error:0.17959\n",
      "[368]\tvalidation_0-logloss:0.07228\tvalidation_0-auc:0.99932\tvalidation_0-error:0.02738\tvalidation_1-logloss:0.52479\tvalidation_1-auc:0.90639\tvalidation_1-error:0.17938\n",
      "[369]\tvalidation_0-logloss:0.07212\tvalidation_0-auc:0.99932\tvalidation_0-error:0.02736\tvalidation_1-logloss:0.52456\tvalidation_1-auc:0.90642\tvalidation_1-error:0.17938\n",
      "[370]\tvalidation_0-logloss:0.07195\tvalidation_0-auc:0.99933\tvalidation_0-error:0.02725\tvalidation_1-logloss:0.52400\tvalidation_1-auc:0.90639\tvalidation_1-error:0.17916\n",
      "[371]\tvalidation_0-logloss:0.07175\tvalidation_0-auc:0.99933\tvalidation_0-error:0.02712\tvalidation_1-logloss:0.52357\tvalidation_1-auc:0.90641\tvalidation_1-error:0.17887\n",
      "[372]\tvalidation_0-logloss:0.07153\tvalidation_0-auc:0.99933\tvalidation_0-error:0.02705\tvalidation_1-logloss:0.52308\tvalidation_1-auc:0.90639\tvalidation_1-error:0.17861\n",
      "[373]\tvalidation_0-logloss:0.07136\tvalidation_0-auc:0.99934\tvalidation_0-error:0.02698\tvalidation_1-logloss:0.52251\tvalidation_1-auc:0.90641\tvalidation_1-error:0.17838\n",
      "[374]\tvalidation_0-logloss:0.07107\tvalidation_0-auc:0.99935\tvalidation_0-error:0.02677\tvalidation_1-logloss:0.52211\tvalidation_1-auc:0.90640\tvalidation_1-error:0.17829\n",
      "[375]\tvalidation_0-logloss:0.07096\tvalidation_0-auc:0.99935\tvalidation_0-error:0.02673\tvalidation_1-logloss:0.52197\tvalidation_1-auc:0.90638\tvalidation_1-error:0.17817\n",
      "[376]\tvalidation_0-logloss:0.07089\tvalidation_0-auc:0.99935\tvalidation_0-error:0.02668\tvalidation_1-logloss:0.52207\tvalidation_1-auc:0.90637\tvalidation_1-error:0.17817\n",
      "[377]\tvalidation_0-logloss:0.07075\tvalidation_0-auc:0.99935\tvalidation_0-error:0.02662\tvalidation_1-logloss:0.52160\tvalidation_1-auc:0.90633\tvalidation_1-error:0.17794\n",
      "[378]\tvalidation_0-logloss:0.07068\tvalidation_0-auc:0.99936\tvalidation_0-error:0.02659\tvalidation_1-logloss:0.52149\tvalidation_1-auc:0.90635\tvalidation_1-error:0.17795\n",
      "[379]\tvalidation_0-logloss:0.07043\tvalidation_0-auc:0.99936\tvalidation_0-error:0.02650\tvalidation_1-logloss:0.52142\tvalidation_1-auc:0.90635\tvalidation_1-error:0.17788\n",
      "[380]\tvalidation_0-logloss:0.07025\tvalidation_0-auc:0.99936\tvalidation_0-error:0.02639\tvalidation_1-logloss:0.52128\tvalidation_1-auc:0.90638\tvalidation_1-error:0.17778\n",
      "[381]\tvalidation_0-logloss:0.07018\tvalidation_0-auc:0.99937\tvalidation_0-error:0.02638\tvalidation_1-logloss:0.52130\tvalidation_1-auc:0.90633\tvalidation_1-error:0.17762\n",
      "[382]\tvalidation_0-logloss:0.07008\tvalidation_0-auc:0.99937\tvalidation_0-error:0.02631\tvalidation_1-logloss:0.52102\tvalidation_1-auc:0.90636\tvalidation_1-error:0.17765\n",
      "[383]\tvalidation_0-logloss:0.06975\tvalidation_0-auc:0.99938\tvalidation_0-error:0.02621\tvalidation_1-logloss:0.51981\tvalidation_1-auc:0.90633\tvalidation_1-error:0.17728\n",
      "[384]\tvalidation_0-logloss:0.06964\tvalidation_0-auc:0.99938\tvalidation_0-error:0.02617\tvalidation_1-logloss:0.51986\tvalidation_1-auc:0.90626\tvalidation_1-error:0.17712\n",
      "[385]\tvalidation_0-logloss:0.06950\tvalidation_0-auc:0.99938\tvalidation_0-error:0.02618\tvalidation_1-logloss:0.51965\tvalidation_1-auc:0.90623\tvalidation_1-error:0.17702\n",
      "[386]\tvalidation_0-logloss:0.06938\tvalidation_0-auc:0.99938\tvalidation_0-error:0.02615\tvalidation_1-logloss:0.51938\tvalidation_1-auc:0.90625\tvalidation_1-error:0.17693\n",
      "[387]\tvalidation_0-logloss:0.06926\tvalidation_0-auc:0.99938\tvalidation_0-error:0.02611\tvalidation_1-logloss:0.51919\tvalidation_1-auc:0.90627\tvalidation_1-error:0.17690\n",
      "[388]\tvalidation_0-logloss:0.06910\tvalidation_0-auc:0.99939\tvalidation_0-error:0.02603\tvalidation_1-logloss:0.51912\tvalidation_1-auc:0.90624\tvalidation_1-error:0.17683\n",
      "[389]\tvalidation_0-logloss:0.06898\tvalidation_0-auc:0.99939\tvalidation_0-error:0.02599\tvalidation_1-logloss:0.51897\tvalidation_1-auc:0.90626\tvalidation_1-error:0.17679\n",
      "[390]\tvalidation_0-logloss:0.06885\tvalidation_0-auc:0.99939\tvalidation_0-error:0.02595\tvalidation_1-logloss:0.51878\tvalidation_1-auc:0.90623\tvalidation_1-error:0.17676\n",
      "[391]\tvalidation_0-logloss:0.06874\tvalidation_0-auc:0.99940\tvalidation_0-error:0.02592\tvalidation_1-logloss:0.51876\tvalidation_1-auc:0.90619\tvalidation_1-error:0.17677\n",
      "[392]\tvalidation_0-logloss:0.06869\tvalidation_0-auc:0.99940\tvalidation_0-error:0.02590\tvalidation_1-logloss:0.51869\tvalidation_1-auc:0.90619\tvalidation_1-error:0.17669\n",
      "[393]\tvalidation_0-logloss:0.06851\tvalidation_0-auc:0.99940\tvalidation_0-error:0.02579\tvalidation_1-logloss:0.51826\tvalidation_1-auc:0.90619\tvalidation_1-error:0.17654\n"
     ]
    },
    {
     "name": "stdout",
     "output_type": "stream",
     "text": [
      "[394]\tvalidation_0-logloss:0.06844\tvalidation_0-auc:0.99940\tvalidation_0-error:0.02578\tvalidation_1-logloss:0.51804\tvalidation_1-auc:0.90623\tvalidation_1-error:0.17658\n",
      "[395]\tvalidation_0-logloss:0.06810\tvalidation_0-auc:0.99941\tvalidation_0-error:0.02560\tvalidation_1-logloss:0.51700\tvalidation_1-auc:0.90623\tvalidation_1-error:0.17612\n",
      "[396]\tvalidation_0-logloss:0.06791\tvalidation_0-auc:0.99941\tvalidation_0-error:0.02554\tvalidation_1-logloss:0.51671\tvalidation_1-auc:0.90620\tvalidation_1-error:0.17596\n",
      "[397]\tvalidation_0-logloss:0.06783\tvalidation_0-auc:0.99941\tvalidation_0-error:0.02546\tvalidation_1-logloss:0.51684\tvalidation_1-auc:0.90616\tvalidation_1-error:0.17590\n",
      "[398]\tvalidation_0-logloss:0.06779\tvalidation_0-auc:0.99941\tvalidation_0-error:0.02545\tvalidation_1-logloss:0.51679\tvalidation_1-auc:0.90620\tvalidation_1-error:0.17585\n",
      "[399]\tvalidation_0-logloss:0.06765\tvalidation_0-auc:0.99942\tvalidation_0-error:0.02540\tvalidation_1-logloss:0.51659\tvalidation_1-auc:0.90621\tvalidation_1-error:0.17581\n",
      "[400]\tvalidation_0-logloss:0.06754\tvalidation_0-auc:0.99942\tvalidation_0-error:0.02531\tvalidation_1-logloss:0.51642\tvalidation_1-auc:0.90622\tvalidation_1-error:0.17571\n",
      "[401]\tvalidation_0-logloss:0.06740\tvalidation_0-auc:0.99942\tvalidation_0-error:0.02525\tvalidation_1-logloss:0.51589\tvalidation_1-auc:0.90625\tvalidation_1-error:0.17555\n",
      "[402]\tvalidation_0-logloss:0.06725\tvalidation_0-auc:0.99942\tvalidation_0-error:0.02515\tvalidation_1-logloss:0.51590\tvalidation_1-auc:0.90631\tvalidation_1-error:0.17517\n",
      "[403]\tvalidation_0-logloss:0.06710\tvalidation_0-auc:0.99943\tvalidation_0-error:0.02511\tvalidation_1-logloss:0.51571\tvalidation_1-auc:0.90632\tvalidation_1-error:0.17497\n",
      "[404]\tvalidation_0-logloss:0.06696\tvalidation_0-auc:0.99943\tvalidation_0-error:0.02507\tvalidation_1-logloss:0.51560\tvalidation_1-auc:0.90632\tvalidation_1-error:0.17505\n",
      "[405]\tvalidation_0-logloss:0.06682\tvalidation_0-auc:0.99943\tvalidation_0-error:0.02507\tvalidation_1-logloss:0.51561\tvalidation_1-auc:0.90635\tvalidation_1-error:0.17494\n",
      "[406]\tvalidation_0-logloss:0.06674\tvalidation_0-auc:0.99943\tvalidation_0-error:0.02497\tvalidation_1-logloss:0.51536\tvalidation_1-auc:0.90637\tvalidation_1-error:0.17478\n",
      "[407]\tvalidation_0-logloss:0.06662\tvalidation_0-auc:0.99944\tvalidation_0-error:0.02489\tvalidation_1-logloss:0.51522\tvalidation_1-auc:0.90633\tvalidation_1-error:0.17475\n",
      "[408]\tvalidation_0-logloss:0.06646\tvalidation_0-auc:0.99944\tvalidation_0-error:0.02485\tvalidation_1-logloss:0.51516\tvalidation_1-auc:0.90633\tvalidation_1-error:0.17461\n",
      "[409]\tvalidation_0-logloss:0.06644\tvalidation_0-auc:0.99944\tvalidation_0-error:0.02485\tvalidation_1-logloss:0.51513\tvalidation_1-auc:0.90633\tvalidation_1-error:0.17460\n",
      "[410]\tvalidation_0-logloss:0.06632\tvalidation_0-auc:0.99944\tvalidation_0-error:0.02481\tvalidation_1-logloss:0.51496\tvalidation_1-auc:0.90630\tvalidation_1-error:0.17441\n",
      "[411]\tvalidation_0-logloss:0.06609\tvalidation_0-auc:0.99945\tvalidation_0-error:0.02467\tvalidation_1-logloss:0.51439\tvalidation_1-auc:0.90624\tvalidation_1-error:0.17422\n",
      "[412]\tvalidation_0-logloss:0.06602\tvalidation_0-auc:0.99945\tvalidation_0-error:0.02464\tvalidation_1-logloss:0.51437\tvalidation_1-auc:0.90624\tvalidation_1-error:0.17415\n",
      "[413]\tvalidation_0-logloss:0.06590\tvalidation_0-auc:0.99945\tvalidation_0-error:0.02453\tvalidation_1-logloss:0.51424\tvalidation_1-auc:0.90621\tvalidation_1-error:0.17391\n",
      "[414]\tvalidation_0-logloss:0.06581\tvalidation_0-auc:0.99945\tvalidation_0-error:0.02448\tvalidation_1-logloss:0.51427\tvalidation_1-auc:0.90621\tvalidation_1-error:0.17377\n",
      "[415]\tvalidation_0-logloss:0.06566\tvalidation_0-auc:0.99945\tvalidation_0-error:0.02442\tvalidation_1-logloss:0.51394\tvalidation_1-auc:0.90625\tvalidation_1-error:0.17372\n",
      "[416]\tvalidation_0-logloss:0.06538\tvalidation_0-auc:0.99946\tvalidation_0-error:0.02432\tvalidation_1-logloss:0.51288\tvalidation_1-auc:0.90621\tvalidation_1-error:0.17333\n",
      "[417]\tvalidation_0-logloss:0.06515\tvalidation_0-auc:0.99946\tvalidation_0-error:0.02425\tvalidation_1-logloss:0.51199\tvalidation_1-auc:0.90621\tvalidation_1-error:0.17303\n",
      "[418]\tvalidation_0-logloss:0.06508\tvalidation_0-auc:0.99946\tvalidation_0-error:0.02422\tvalidation_1-logloss:0.51198\tvalidation_1-auc:0.90622\tvalidation_1-error:0.17311\n",
      "[419]\tvalidation_0-logloss:0.06498\tvalidation_0-auc:0.99947\tvalidation_0-error:0.02421\tvalidation_1-logloss:0.51167\tvalidation_1-auc:0.90620\tvalidation_1-error:0.17292\n",
      "[420]\tvalidation_0-logloss:0.06492\tvalidation_0-auc:0.99947\tvalidation_0-error:0.02415\tvalidation_1-logloss:0.51175\tvalidation_1-auc:0.90622\tvalidation_1-error:0.17269\n",
      "[421]\tvalidation_0-logloss:0.06476\tvalidation_0-auc:0.99947\tvalidation_0-error:0.02408\tvalidation_1-logloss:0.51186\tvalidation_1-auc:0.90626\tvalidation_1-error:0.17262\n",
      "[422]\tvalidation_0-logloss:0.06468\tvalidation_0-auc:0.99947\tvalidation_0-error:0.02406\tvalidation_1-logloss:0.51191\tvalidation_1-auc:0.90625\tvalidation_1-error:0.17262\n",
      "[423]\tvalidation_0-logloss:0.06453\tvalidation_0-auc:0.99948\tvalidation_0-error:0.02397\tvalidation_1-logloss:0.51183\tvalidation_1-auc:0.90624\tvalidation_1-error:0.17238\n",
      "[424]\tvalidation_0-logloss:0.06441\tvalidation_0-auc:0.99948\tvalidation_0-error:0.02384\tvalidation_1-logloss:0.51167\tvalidation_1-auc:0.90621\tvalidation_1-error:0.17221\n",
      "[425]\tvalidation_0-logloss:0.06431\tvalidation_0-auc:0.99948\tvalidation_0-error:0.02379\tvalidation_1-logloss:0.51141\tvalidation_1-auc:0.90625\tvalidation_1-error:0.17214\n",
      "[426]\tvalidation_0-logloss:0.06414\tvalidation_0-auc:0.99948\tvalidation_0-error:0.02374\tvalidation_1-logloss:0.51157\tvalidation_1-auc:0.90630\tvalidation_1-error:0.17190\n",
      "[427]\tvalidation_0-logloss:0.06395\tvalidation_0-auc:0.99949\tvalidation_0-error:0.02365\tvalidation_1-logloss:0.51169\tvalidation_1-auc:0.90629\tvalidation_1-error:0.17183\n",
      "[428]\tvalidation_0-logloss:0.06380\tvalidation_0-auc:0.99949\tvalidation_0-error:0.02359\tvalidation_1-logloss:0.51126\tvalidation_1-auc:0.90628\tvalidation_1-error:0.17168\n",
      "[429]\tvalidation_0-logloss:0.06361\tvalidation_0-auc:0.99949\tvalidation_0-error:0.02349\tvalidation_1-logloss:0.51090\tvalidation_1-auc:0.90629\tvalidation_1-error:0.17158\n",
      "[430]\tvalidation_0-logloss:0.06340\tvalidation_0-auc:0.99950\tvalidation_0-error:0.02342\tvalidation_1-logloss:0.51051\tvalidation_1-auc:0.90627\tvalidation_1-error:0.17128\n",
      "[431]\tvalidation_0-logloss:0.06327\tvalidation_0-auc:0.99950\tvalidation_0-error:0.02335\tvalidation_1-logloss:0.51040\tvalidation_1-auc:0.90625\tvalidation_1-error:0.17131\n",
      "[432]\tvalidation_0-logloss:0.06320\tvalidation_0-auc:0.99950\tvalidation_0-error:0.02331\tvalidation_1-logloss:0.51024\tvalidation_1-auc:0.90626\tvalidation_1-error:0.17126\n",
      "[433]\tvalidation_0-logloss:0.06309\tvalidation_0-auc:0.99950\tvalidation_0-error:0.02324\tvalidation_1-logloss:0.51005\tvalidation_1-auc:0.90626\tvalidation_1-error:0.17136\n",
      "[434]\tvalidation_0-logloss:0.06292\tvalidation_0-auc:0.99951\tvalidation_0-error:0.02314\tvalidation_1-logloss:0.50993\tvalidation_1-auc:0.90631\tvalidation_1-error:0.17136\n",
      "[435]\tvalidation_0-logloss:0.06282\tvalidation_0-auc:0.99951\tvalidation_0-error:0.02309\tvalidation_1-logloss:0.50991\tvalidation_1-auc:0.90631\tvalidation_1-error:0.17113\n",
      "[436]\tvalidation_0-logloss:0.06267\tvalidation_0-auc:0.99951\tvalidation_0-error:0.02305\tvalidation_1-logloss:0.50988\tvalidation_1-auc:0.90629\tvalidation_1-error:0.17085\n",
      "[437]\tvalidation_0-logloss:0.06255\tvalidation_0-auc:0.99951\tvalidation_0-error:0.02303\tvalidation_1-logloss:0.51038\tvalidation_1-auc:0.90632\tvalidation_1-error:0.17064\n",
      "[438]\tvalidation_0-logloss:0.06243\tvalidation_0-auc:0.99952\tvalidation_0-error:0.02299\tvalidation_1-logloss:0.51014\tvalidation_1-auc:0.90632\tvalidation_1-error:0.17058\n",
      "[439]\tvalidation_0-logloss:0.06229\tvalidation_0-auc:0.99952\tvalidation_0-error:0.02290\tvalidation_1-logloss:0.50980\tvalidation_1-auc:0.90634\tvalidation_1-error:0.17036\n",
      "[440]\tvalidation_0-logloss:0.06213\tvalidation_0-auc:0.99952\tvalidation_0-error:0.02279\tvalidation_1-logloss:0.50982\tvalidation_1-auc:0.90638\tvalidation_1-error:0.17036\n",
      "[441]\tvalidation_0-logloss:0.06205\tvalidation_0-auc:0.99952\tvalidation_0-error:0.02276\tvalidation_1-logloss:0.50966\tvalidation_1-auc:0.90640\tvalidation_1-error:0.17033\n",
      "[442]\tvalidation_0-logloss:0.06194\tvalidation_0-auc:0.99952\tvalidation_0-error:0.02273\tvalidation_1-logloss:0.50933\tvalidation_1-auc:0.90638\tvalidation_1-error:0.17023\n"
     ]
    },
    {
     "name": "stdout",
     "output_type": "stream",
     "text": [
      "[443]\tvalidation_0-logloss:0.06183\tvalidation_0-auc:0.99952\tvalidation_0-error:0.02269\tvalidation_1-logloss:0.50914\tvalidation_1-auc:0.90636\tvalidation_1-error:0.16999\n",
      "[444]\tvalidation_0-logloss:0.06178\tvalidation_0-auc:0.99952\tvalidation_0-error:0.02266\tvalidation_1-logloss:0.50920\tvalidation_1-auc:0.90636\tvalidation_1-error:0.16995\n",
      "[445]\tvalidation_0-logloss:0.06172\tvalidation_0-auc:0.99952\tvalidation_0-error:0.02263\tvalidation_1-logloss:0.50934\tvalidation_1-auc:0.90640\tvalidation_1-error:0.16972\n",
      "[446]\tvalidation_0-logloss:0.06155\tvalidation_0-auc:0.99953\tvalidation_0-error:0.02259\tvalidation_1-logloss:0.50869\tvalidation_1-auc:0.90635\tvalidation_1-error:0.16975\n",
      "[447]\tvalidation_0-logloss:0.06141\tvalidation_0-auc:0.99953\tvalidation_0-error:0.02254\tvalidation_1-logloss:0.50842\tvalidation_1-auc:0.90638\tvalidation_1-error:0.16972\n",
      "[448]\tvalidation_0-logloss:0.06126\tvalidation_0-auc:0.99953\tvalidation_0-error:0.02249\tvalidation_1-logloss:0.50820\tvalidation_1-auc:0.90634\tvalidation_1-error:0.16960\n",
      "[449]\tvalidation_0-logloss:0.06116\tvalidation_0-auc:0.99953\tvalidation_0-error:0.02248\tvalidation_1-logloss:0.50844\tvalidation_1-auc:0.90640\tvalidation_1-error:0.16957\n",
      "[450]\tvalidation_0-logloss:0.06089\tvalidation_0-auc:0.99954\tvalidation_0-error:0.02230\tvalidation_1-logloss:0.50842\tvalidation_1-auc:0.90633\tvalidation_1-error:0.16956\n",
      "[451]\tvalidation_0-logloss:0.06080\tvalidation_0-auc:0.99954\tvalidation_0-error:0.02224\tvalidation_1-logloss:0.50830\tvalidation_1-auc:0.90632\tvalidation_1-error:0.16950\n",
      "[452]\tvalidation_0-logloss:0.06078\tvalidation_0-auc:0.99954\tvalidation_0-error:0.02222\tvalidation_1-logloss:0.50829\tvalidation_1-auc:0.90631\tvalidation_1-error:0.16951\n",
      "[453]\tvalidation_0-logloss:0.06064\tvalidation_0-auc:0.99954\tvalidation_0-error:0.02217\tvalidation_1-logloss:0.50799\tvalidation_1-auc:0.90632\tvalidation_1-error:0.16932\n",
      "[454]\tvalidation_0-logloss:0.06053\tvalidation_0-auc:0.99955\tvalidation_0-error:0.02216\tvalidation_1-logloss:0.50782\tvalidation_1-auc:0.90629\tvalidation_1-error:0.16928\n",
      "[455]\tvalidation_0-logloss:0.06039\tvalidation_0-auc:0.99955\tvalidation_0-error:0.02213\tvalidation_1-logloss:0.50750\tvalidation_1-auc:0.90628\tvalidation_1-error:0.16909\n",
      "[456]\tvalidation_0-logloss:0.06022\tvalidation_0-auc:0.99955\tvalidation_0-error:0.02200\tvalidation_1-logloss:0.50701\tvalidation_1-auc:0.90627\tvalidation_1-error:0.16919\n",
      "[457]\tvalidation_0-logloss:0.06011\tvalidation_0-auc:0.99955\tvalidation_0-error:0.02194\tvalidation_1-logloss:0.50687\tvalidation_1-auc:0.90629\tvalidation_1-error:0.16923\n",
      "[458]\tvalidation_0-logloss:0.06002\tvalidation_0-auc:0.99955\tvalidation_0-error:0.02193\tvalidation_1-logloss:0.50685\tvalidation_1-auc:0.90627\tvalidation_1-error:0.16899\n",
      "[459]\tvalidation_0-logloss:0.05987\tvalidation_0-auc:0.99956\tvalidation_0-error:0.02182\tvalidation_1-logloss:0.50688\tvalidation_1-auc:0.90626\tvalidation_1-error:0.16910\n",
      "[460]\tvalidation_0-logloss:0.05969\tvalidation_0-auc:0.99956\tvalidation_0-error:0.02176\tvalidation_1-logloss:0.50674\tvalidation_1-auc:0.90627\tvalidation_1-error:0.16886\n",
      "[461]\tvalidation_0-logloss:0.05960\tvalidation_0-auc:0.99956\tvalidation_0-error:0.02172\tvalidation_1-logloss:0.50670\tvalidation_1-auc:0.90628\tvalidation_1-error:0.16880\n",
      "[462]\tvalidation_0-logloss:0.05951\tvalidation_0-auc:0.99956\tvalidation_0-error:0.02165\tvalidation_1-logloss:0.50682\tvalidation_1-auc:0.90636\tvalidation_1-error:0.16862\n",
      "[463]\tvalidation_0-logloss:0.05943\tvalidation_0-auc:0.99956\tvalidation_0-error:0.02164\tvalidation_1-logloss:0.50660\tvalidation_1-auc:0.90638\tvalidation_1-error:0.16851\n",
      "[464]\tvalidation_0-logloss:0.05929\tvalidation_0-auc:0.99956\tvalidation_0-error:0.02161\tvalidation_1-logloss:0.50630\tvalidation_1-auc:0.90637\tvalidation_1-error:0.16840\n",
      "[465]\tvalidation_0-logloss:0.05924\tvalidation_0-auc:0.99957\tvalidation_0-error:0.02158\tvalidation_1-logloss:0.50640\tvalidation_1-auc:0.90636\tvalidation_1-error:0.16833\n",
      "[466]\tvalidation_0-logloss:0.05918\tvalidation_0-auc:0.99957\tvalidation_0-error:0.02155\tvalidation_1-logloss:0.50639\tvalidation_1-auc:0.90636\tvalidation_1-error:0.16835\n",
      "[467]\tvalidation_0-logloss:0.05911\tvalidation_0-auc:0.99957\tvalidation_0-error:0.02152\tvalidation_1-logloss:0.50630\tvalidation_1-auc:0.90635\tvalidation_1-error:0.16833\n",
      "[468]\tvalidation_0-logloss:0.05898\tvalidation_0-auc:0.99957\tvalidation_0-error:0.02144\tvalidation_1-logloss:0.50585\tvalidation_1-auc:0.90636\tvalidation_1-error:0.16814\n",
      "[469]\tvalidation_0-logloss:0.05887\tvalidation_0-auc:0.99957\tvalidation_0-error:0.02146\tvalidation_1-logloss:0.50586\tvalidation_1-auc:0.90640\tvalidation_1-error:0.16804\n",
      "[470]\tvalidation_0-logloss:0.05869\tvalidation_0-auc:0.99957\tvalidation_0-error:0.02139\tvalidation_1-logloss:0.50556\tvalidation_1-auc:0.90641\tvalidation_1-error:0.16775\n",
      "[471]\tvalidation_0-logloss:0.05859\tvalidation_0-auc:0.99958\tvalidation_0-error:0.02139\tvalidation_1-logloss:0.50561\tvalidation_1-auc:0.90638\tvalidation_1-error:0.16773\n",
      "[472]\tvalidation_0-logloss:0.05853\tvalidation_0-auc:0.99958\tvalidation_0-error:0.02135\tvalidation_1-logloss:0.50569\tvalidation_1-auc:0.90639\tvalidation_1-error:0.16786\n",
      "[473]\tvalidation_0-logloss:0.05843\tvalidation_0-auc:0.99958\tvalidation_0-error:0.02130\tvalidation_1-logloss:0.50542\tvalidation_1-auc:0.90634\tvalidation_1-error:0.16781\n",
      "[474]\tvalidation_0-logloss:0.05833\tvalidation_0-auc:0.99958\tvalidation_0-error:0.02127\tvalidation_1-logloss:0.50546\tvalidation_1-auc:0.90637\tvalidation_1-error:0.16772\n",
      "[475]\tvalidation_0-logloss:0.05818\tvalidation_0-auc:0.99958\tvalidation_0-error:0.02122\tvalidation_1-logloss:0.50519\tvalidation_1-auc:0.90632\tvalidation_1-error:0.16767\n",
      "[476]\tvalidation_0-logloss:0.05804\tvalidation_0-auc:0.99958\tvalidation_0-error:0.02116\tvalidation_1-logloss:0.50484\tvalidation_1-auc:0.90633\tvalidation_1-error:0.16759\n",
      "[477]\tvalidation_0-logloss:0.05795\tvalidation_0-auc:0.99959\tvalidation_0-error:0.02116\tvalidation_1-logloss:0.50460\tvalidation_1-auc:0.90632\tvalidation_1-error:0.16747\n",
      "[478]\tvalidation_0-logloss:0.05786\tvalidation_0-auc:0.99959\tvalidation_0-error:0.02114\tvalidation_1-logloss:0.50469\tvalidation_1-auc:0.90636\tvalidation_1-error:0.16725\n",
      "[479]\tvalidation_0-logloss:0.05782\tvalidation_0-auc:0.99959\tvalidation_0-error:0.02110\tvalidation_1-logloss:0.50445\tvalidation_1-auc:0.90636\tvalidation_1-error:0.16712\n",
      "[480]\tvalidation_0-logloss:0.05770\tvalidation_0-auc:0.99959\tvalidation_0-error:0.02107\tvalidation_1-logloss:0.50435\tvalidation_1-auc:0.90636\tvalidation_1-error:0.16711\n",
      "[481]\tvalidation_0-logloss:0.05765\tvalidation_0-auc:0.99959\tvalidation_0-error:0.02104\tvalidation_1-logloss:0.50427\tvalidation_1-auc:0.90639\tvalidation_1-error:0.16696\n",
      "[482]\tvalidation_0-logloss:0.05751\tvalidation_0-auc:0.99959\tvalidation_0-error:0.02099\tvalidation_1-logloss:0.50400\tvalidation_1-auc:0.90638\tvalidation_1-error:0.16673\n",
      "[483]\tvalidation_0-logloss:0.05747\tvalidation_0-auc:0.99959\tvalidation_0-error:0.02096\tvalidation_1-logloss:0.50421\tvalidation_1-auc:0.90641\tvalidation_1-error:0.16673\n",
      "[484]\tvalidation_0-logloss:0.05738\tvalidation_0-auc:0.99960\tvalidation_0-error:0.02096\tvalidation_1-logloss:0.50411\tvalidation_1-auc:0.90641\tvalidation_1-error:0.16667\n",
      "[485]\tvalidation_0-logloss:0.05729\tvalidation_0-auc:0.99960\tvalidation_0-error:0.02091\tvalidation_1-logloss:0.50395\tvalidation_1-auc:0.90643\tvalidation_1-error:0.16668\n",
      "[486]\tvalidation_0-logloss:0.05721\tvalidation_0-auc:0.99960\tvalidation_0-error:0.02088\tvalidation_1-logloss:0.50398\tvalidation_1-auc:0.90642\tvalidation_1-error:0.16673\n",
      "[487]\tvalidation_0-logloss:0.05708\tvalidation_0-auc:0.99960\tvalidation_0-error:0.02083\tvalidation_1-logloss:0.50391\tvalidation_1-auc:0.90639\tvalidation_1-error:0.16661\n",
      "[488]\tvalidation_0-logloss:0.05698\tvalidation_0-auc:0.99960\tvalidation_0-error:0.02076\tvalidation_1-logloss:0.50392\tvalidation_1-auc:0.90637\tvalidation_1-error:0.16658\n",
      "[489]\tvalidation_0-logloss:0.05685\tvalidation_0-auc:0.99960\tvalidation_0-error:0.02065\tvalidation_1-logloss:0.50369\tvalidation_1-auc:0.90638\tvalidation_1-error:0.16651\n",
      "[490]\tvalidation_0-logloss:0.05678\tvalidation_0-auc:0.99961\tvalidation_0-error:0.02063\tvalidation_1-logloss:0.50349\tvalidation_1-auc:0.90636\tvalidation_1-error:0.16648\n",
      "[491]\tvalidation_0-logloss:0.05667\tvalidation_0-auc:0.99961\tvalidation_0-error:0.02061\tvalidation_1-logloss:0.50331\tvalidation_1-auc:0.90636\tvalidation_1-error:0.16651\n"
     ]
    },
    {
     "name": "stdout",
     "output_type": "stream",
     "text": [
      "[492]\tvalidation_0-logloss:0.05661\tvalidation_0-auc:0.99961\tvalidation_0-error:0.02056\tvalidation_1-logloss:0.50322\tvalidation_1-auc:0.90636\tvalidation_1-error:0.16654\n",
      "[493]\tvalidation_0-logloss:0.05655\tvalidation_0-auc:0.99961\tvalidation_0-error:0.02055\tvalidation_1-logloss:0.50310\tvalidation_1-auc:0.90636\tvalidation_1-error:0.16636\n",
      "[494]\tvalidation_0-logloss:0.05645\tvalidation_0-auc:0.99961\tvalidation_0-error:0.02052\tvalidation_1-logloss:0.50298\tvalidation_1-auc:0.90636\tvalidation_1-error:0.16638\n",
      "[495]\tvalidation_0-logloss:0.05635\tvalidation_0-auc:0.99961\tvalidation_0-error:0.02048\tvalidation_1-logloss:0.50284\tvalidation_1-auc:0.90633\tvalidation_1-error:0.16631\n",
      "[496]\tvalidation_0-logloss:0.05627\tvalidation_0-auc:0.99962\tvalidation_0-error:0.02045\tvalidation_1-logloss:0.50274\tvalidation_1-auc:0.90634\tvalidation_1-error:0.16638\n",
      "[497]\tvalidation_0-logloss:0.05619\tvalidation_0-auc:0.99962\tvalidation_0-error:0.02044\tvalidation_1-logloss:0.50275\tvalidation_1-auc:0.90629\tvalidation_1-error:0.16619\n",
      "[498]\tvalidation_0-logloss:0.05611\tvalidation_0-auc:0.99962\tvalidation_0-error:0.02046\tvalidation_1-logloss:0.50264\tvalidation_1-auc:0.90632\tvalidation_1-error:0.16614\n",
      "[499]\tvalidation_0-logloss:0.05600\tvalidation_0-auc:0.99962\tvalidation_0-error:0.02034\tvalidation_1-logloss:0.50236\tvalidation_1-auc:0.90630\tvalidation_1-error:0.16603\n",
      "[500]\tvalidation_0-logloss:0.05588\tvalidation_0-auc:0.99962\tvalidation_0-error:0.02032\tvalidation_1-logloss:0.50205\tvalidation_1-auc:0.90638\tvalidation_1-error:0.16593\n",
      "[501]\tvalidation_0-logloss:0.05575\tvalidation_0-auc:0.99962\tvalidation_0-error:0.02025\tvalidation_1-logloss:0.50188\tvalidation_1-auc:0.90636\tvalidation_1-error:0.16579\n",
      "[502]\tvalidation_0-logloss:0.05564\tvalidation_0-auc:0.99962\tvalidation_0-error:0.02021\tvalidation_1-logloss:0.50168\tvalidation_1-auc:0.90634\tvalidation_1-error:0.16569\n",
      "[503]\tvalidation_0-logloss:0.05558\tvalidation_0-auc:0.99963\tvalidation_0-error:0.02020\tvalidation_1-logloss:0.50175\tvalidation_1-auc:0.90634\tvalidation_1-error:0.16568\n",
      "[504]\tvalidation_0-logloss:0.05549\tvalidation_0-auc:0.99963\tvalidation_0-error:0.02016\tvalidation_1-logloss:0.50148\tvalidation_1-auc:0.90632\tvalidation_1-error:0.16566\n",
      "[505]\tvalidation_0-logloss:0.05543\tvalidation_0-auc:0.99963\tvalidation_0-error:0.02016\tvalidation_1-logloss:0.50162\tvalidation_1-auc:0.90635\tvalidation_1-error:0.16563\n",
      "[506]\tvalidation_0-logloss:0.05533\tvalidation_0-auc:0.99963\tvalidation_0-error:0.02012\tvalidation_1-logloss:0.50142\tvalidation_1-auc:0.90633\tvalidation_1-error:0.16542\n",
      "[507]\tvalidation_0-logloss:0.05514\tvalidation_0-auc:0.99963\tvalidation_0-error:0.02006\tvalidation_1-logloss:0.50050\tvalidation_1-auc:0.90633\tvalidation_1-error:0.16511\n",
      "[508]\tvalidation_0-logloss:0.05497\tvalidation_0-auc:0.99963\tvalidation_0-error:0.01994\tvalidation_1-logloss:0.50020\tvalidation_1-auc:0.90630\tvalidation_1-error:0.16496\n",
      "[509]\tvalidation_0-logloss:0.05490\tvalidation_0-auc:0.99964\tvalidation_0-error:0.01996\tvalidation_1-logloss:0.50030\tvalidation_1-auc:0.90630\tvalidation_1-error:0.16485\n",
      "[510]\tvalidation_0-logloss:0.05486\tvalidation_0-auc:0.99964\tvalidation_0-error:0.01995\tvalidation_1-logloss:0.50029\tvalidation_1-auc:0.90631\tvalidation_1-error:0.16482\n",
      "[511]\tvalidation_0-logloss:0.05471\tvalidation_0-auc:0.99964\tvalidation_0-error:0.01987\tvalidation_1-logloss:0.49986\tvalidation_1-auc:0.90629\tvalidation_1-error:0.16473\n",
      "[512]\tvalidation_0-logloss:0.05462\tvalidation_0-auc:0.99964\tvalidation_0-error:0.01984\tvalidation_1-logloss:0.49973\tvalidation_1-auc:0.90629\tvalidation_1-error:0.16480\n",
      "[513]\tvalidation_0-logloss:0.05458\tvalidation_0-auc:0.99964\tvalidation_0-error:0.01983\tvalidation_1-logloss:0.49968\tvalidation_1-auc:0.90627\tvalidation_1-error:0.16470\n",
      "[514]\tvalidation_0-logloss:0.05448\tvalidation_0-auc:0.99964\tvalidation_0-error:0.01975\tvalidation_1-logloss:0.49943\tvalidation_1-auc:0.90628\tvalidation_1-error:0.16434\n",
      "[515]\tvalidation_0-logloss:0.05435\tvalidation_0-auc:0.99964\tvalidation_0-error:0.01971\tvalidation_1-logloss:0.49953\tvalidation_1-auc:0.90622\tvalidation_1-error:0.16437\n",
      "[516]\tvalidation_0-logloss:0.05428\tvalidation_0-auc:0.99965\tvalidation_0-error:0.01965\tvalidation_1-logloss:0.49972\tvalidation_1-auc:0.90622\tvalidation_1-error:0.16432\n",
      "[517]\tvalidation_0-logloss:0.05411\tvalidation_0-auc:0.99965\tvalidation_0-error:0.01960\tvalidation_1-logloss:0.49950\tvalidation_1-auc:0.90624\tvalidation_1-error:0.16407\n",
      "[518]\tvalidation_0-logloss:0.05403\tvalidation_0-auc:0.99965\tvalidation_0-error:0.01953\tvalidation_1-logloss:0.49927\tvalidation_1-auc:0.90624\tvalidation_1-error:0.16400\n",
      "[519]\tvalidation_0-logloss:0.05399\tvalidation_0-auc:0.99965\tvalidation_0-error:0.01952\tvalidation_1-logloss:0.49934\tvalidation_1-auc:0.90623\tvalidation_1-error:0.16383\n",
      "[520]\tvalidation_0-logloss:0.05391\tvalidation_0-auc:0.99965\tvalidation_0-error:0.01948\tvalidation_1-logloss:0.49914\tvalidation_1-auc:0.90626\tvalidation_1-error:0.16396\n",
      "[521]\tvalidation_0-logloss:0.05382\tvalidation_0-auc:0.99965\tvalidation_0-error:0.01943\tvalidation_1-logloss:0.49911\tvalidation_1-auc:0.90629\tvalidation_1-error:0.16377\n",
      "[522]\tvalidation_0-logloss:0.05374\tvalidation_0-auc:0.99965\tvalidation_0-error:0.01937\tvalidation_1-logloss:0.49908\tvalidation_1-auc:0.90629\tvalidation_1-error:0.16377\n",
      "[523]\tvalidation_0-logloss:0.05363\tvalidation_0-auc:0.99965\tvalidation_0-error:0.01932\tvalidation_1-logloss:0.49912\tvalidation_1-auc:0.90630\tvalidation_1-error:0.16364\n",
      "[524]\tvalidation_0-logloss:0.05356\tvalidation_0-auc:0.99965\tvalidation_0-error:0.01932\tvalidation_1-logloss:0.49908\tvalidation_1-auc:0.90632\tvalidation_1-error:0.16365\n",
      "[525]\tvalidation_0-logloss:0.05348\tvalidation_0-auc:0.99966\tvalidation_0-error:0.01929\tvalidation_1-logloss:0.49912\tvalidation_1-auc:0.90631\tvalidation_1-error:0.16342\n",
      "[526]\tvalidation_0-logloss:0.05341\tvalidation_0-auc:0.99966\tvalidation_0-error:0.01927\tvalidation_1-logloss:0.49887\tvalidation_1-auc:0.90628\tvalidation_1-error:0.16332\n",
      "[527]\tvalidation_0-logloss:0.05332\tvalidation_0-auc:0.99966\tvalidation_0-error:0.01921\tvalidation_1-logloss:0.49862\tvalidation_1-auc:0.90626\tvalidation_1-error:0.16333\n",
      "[528]\tvalidation_0-logloss:0.05328\tvalidation_0-auc:0.99966\tvalidation_0-error:0.01920\tvalidation_1-logloss:0.49864\tvalidation_1-auc:0.90627\tvalidation_1-error:0.16334\n",
      "[529]\tvalidation_0-logloss:0.05314\tvalidation_0-auc:0.99966\tvalidation_0-error:0.01918\tvalidation_1-logloss:0.49865\tvalidation_1-auc:0.90632\tvalidation_1-error:0.16340\n",
      "[530]\tvalidation_0-logloss:0.05303\tvalidation_0-auc:0.99966\tvalidation_0-error:0.01913\tvalidation_1-logloss:0.49860\tvalidation_1-auc:0.90632\tvalidation_1-error:0.16336\n",
      "[531]\tvalidation_0-logloss:0.05296\tvalidation_0-auc:0.99966\tvalidation_0-error:0.01911\tvalidation_1-logloss:0.49872\tvalidation_1-auc:0.90633\tvalidation_1-error:0.16332\n",
      "[532]\tvalidation_0-logloss:0.05288\tvalidation_0-auc:0.99967\tvalidation_0-error:0.01907\tvalidation_1-logloss:0.49846\tvalidation_1-auc:0.90637\tvalidation_1-error:0.16333\n",
      "[533]\tvalidation_0-logloss:0.05281\tvalidation_0-auc:0.99967\tvalidation_0-error:0.01910\tvalidation_1-logloss:0.49830\tvalidation_1-auc:0.90635\tvalidation_1-error:0.16329\n",
      "[534]\tvalidation_0-logloss:0.05271\tvalidation_0-auc:0.99967\tvalidation_0-error:0.01904\tvalidation_1-logloss:0.49845\tvalidation_1-auc:0.90633\tvalidation_1-error:0.16321\n",
      "[535]\tvalidation_0-logloss:0.05256\tvalidation_0-auc:0.99967\tvalidation_0-error:0.01897\tvalidation_1-logloss:0.49792\tvalidation_1-auc:0.90632\tvalidation_1-error:0.16301\n",
      "[536]\tvalidation_0-logloss:0.05244\tvalidation_0-auc:0.99967\tvalidation_0-error:0.01887\tvalidation_1-logloss:0.49791\tvalidation_1-auc:0.90635\tvalidation_1-error:0.16297\n",
      "[537]\tvalidation_0-logloss:0.05235\tvalidation_0-auc:0.99967\tvalidation_0-error:0.01886\tvalidation_1-logloss:0.49812\tvalidation_1-auc:0.90640\tvalidation_1-error:0.16310\n",
      "[538]\tvalidation_0-logloss:0.05225\tvalidation_0-auc:0.99967\tvalidation_0-error:0.01880\tvalidation_1-logloss:0.49780\tvalidation_1-auc:0.90639\tvalidation_1-error:0.16294\n",
      "[539]\tvalidation_0-logloss:0.05219\tvalidation_0-auc:0.99967\tvalidation_0-error:0.01877\tvalidation_1-logloss:0.49781\tvalidation_1-auc:0.90642\tvalidation_1-error:0.16300\n",
      "[540]\tvalidation_0-logloss:0.05206\tvalidation_0-auc:0.99968\tvalidation_0-error:0.01870\tvalidation_1-logloss:0.49739\tvalidation_1-auc:0.90639\tvalidation_1-error:0.16279\n"
     ]
    },
    {
     "name": "stdout",
     "output_type": "stream",
     "text": [
      "[541]\tvalidation_0-logloss:0.05199\tvalidation_0-auc:0.99968\tvalidation_0-error:0.01870\tvalidation_1-logloss:0.49739\tvalidation_1-auc:0.90639\tvalidation_1-error:0.16275\n",
      "[542]\tvalidation_0-logloss:0.05184\tvalidation_0-auc:0.99968\tvalidation_0-error:0.01865\tvalidation_1-logloss:0.49719\tvalidation_1-auc:0.90640\tvalidation_1-error:0.16270\n",
      "[543]\tvalidation_0-logloss:0.05174\tvalidation_0-auc:0.99968\tvalidation_0-error:0.01859\tvalidation_1-logloss:0.49700\tvalidation_1-auc:0.90643\tvalidation_1-error:0.16254\n",
      "[544]\tvalidation_0-logloss:0.05160\tvalidation_0-auc:0.99969\tvalidation_0-error:0.01851\tvalidation_1-logloss:0.49679\tvalidation_1-auc:0.90638\tvalidation_1-error:0.16265\n",
      "[545]\tvalidation_0-logloss:0.05146\tvalidation_0-auc:0.99969\tvalidation_0-error:0.01840\tvalidation_1-logloss:0.49644\tvalidation_1-auc:0.90638\tvalidation_1-error:0.16254\n",
      "[546]\tvalidation_0-logloss:0.05132\tvalidation_0-auc:0.99969\tvalidation_0-error:0.01841\tvalidation_1-logloss:0.49639\tvalidation_1-auc:0.90637\tvalidation_1-error:0.16238\n",
      "[547]\tvalidation_0-logloss:0.05122\tvalidation_0-auc:0.99969\tvalidation_0-error:0.01832\tvalidation_1-logloss:0.49628\tvalidation_1-auc:0.90638\tvalidation_1-error:0.16234\n",
      "[548]\tvalidation_0-logloss:0.05105\tvalidation_0-auc:0.99969\tvalidation_0-error:0.01828\tvalidation_1-logloss:0.49601\tvalidation_1-auc:0.90638\tvalidation_1-error:0.16225\n",
      "[549]\tvalidation_0-logloss:0.05090\tvalidation_0-auc:0.99970\tvalidation_0-error:0.01825\tvalidation_1-logloss:0.49600\tvalidation_1-auc:0.90633\tvalidation_1-error:0.16214\n",
      "[550]\tvalidation_0-logloss:0.05082\tvalidation_0-auc:0.99970\tvalidation_0-error:0.01817\tvalidation_1-logloss:0.49628\tvalidation_1-auc:0.90638\tvalidation_1-error:0.16193\n",
      "[551]\tvalidation_0-logloss:0.05079\tvalidation_0-auc:0.99970\tvalidation_0-error:0.01816\tvalidation_1-logloss:0.49637\tvalidation_1-auc:0.90636\tvalidation_1-error:0.16195\n",
      "[552]\tvalidation_0-logloss:0.05073\tvalidation_0-auc:0.99970\tvalidation_0-error:0.01813\tvalidation_1-logloss:0.49624\tvalidation_1-auc:0.90632\tvalidation_1-error:0.16202\n",
      "[553]\tvalidation_0-logloss:0.05057\tvalidation_0-auc:0.99970\tvalidation_0-error:0.01811\tvalidation_1-logloss:0.49599\tvalidation_1-auc:0.90633\tvalidation_1-error:0.16186\n",
      "[554]\tvalidation_0-logloss:0.05051\tvalidation_0-auc:0.99970\tvalidation_0-error:0.01805\tvalidation_1-logloss:0.49612\tvalidation_1-auc:0.90633\tvalidation_1-error:0.16184\n",
      "[555]\tvalidation_0-logloss:0.05043\tvalidation_0-auc:0.99970\tvalidation_0-error:0.01801\tvalidation_1-logloss:0.49618\tvalidation_1-auc:0.90633\tvalidation_1-error:0.16186\n",
      "[556]\tvalidation_0-logloss:0.05032\tvalidation_0-auc:0.99970\tvalidation_0-error:0.01793\tvalidation_1-logloss:0.49611\tvalidation_1-auc:0.90632\tvalidation_1-error:0.16202\n",
      "[557]\tvalidation_0-logloss:0.05019\tvalidation_0-auc:0.99970\tvalidation_0-error:0.01793\tvalidation_1-logloss:0.49598\tvalidation_1-auc:0.90633\tvalidation_1-error:0.16202\n",
      "[558]\tvalidation_0-logloss:0.05015\tvalidation_0-auc:0.99970\tvalidation_0-error:0.01792\tvalidation_1-logloss:0.49596\tvalidation_1-auc:0.90632\tvalidation_1-error:0.16192\n",
      "[559]\tvalidation_0-logloss:0.05005\tvalidation_0-auc:0.99970\tvalidation_0-error:0.01788\tvalidation_1-logloss:0.49601\tvalidation_1-auc:0.90636\tvalidation_1-error:0.16173\n",
      "[560]\tvalidation_0-logloss:0.05000\tvalidation_0-auc:0.99971\tvalidation_0-error:0.01787\tvalidation_1-logloss:0.49591\tvalidation_1-auc:0.90635\tvalidation_1-error:0.16171\n",
      "[561]\tvalidation_0-logloss:0.04988\tvalidation_0-auc:0.99971\tvalidation_0-error:0.01779\tvalidation_1-logloss:0.49586\tvalidation_1-auc:0.90637\tvalidation_1-error:0.16162\n",
      "[562]\tvalidation_0-logloss:0.04981\tvalidation_0-auc:0.99971\tvalidation_0-error:0.01781\tvalidation_1-logloss:0.49584\tvalidation_1-auc:0.90636\tvalidation_1-error:0.16161\n",
      "[563]\tvalidation_0-logloss:0.04976\tvalidation_0-auc:0.99971\tvalidation_0-error:0.01777\tvalidation_1-logloss:0.49569\tvalidation_1-auc:0.90639\tvalidation_1-error:0.16155\n",
      "[564]\tvalidation_0-logloss:0.04969\tvalidation_0-auc:0.99971\tvalidation_0-error:0.01774\tvalidation_1-logloss:0.49566\tvalidation_1-auc:0.90638\tvalidation_1-error:0.16148\n",
      "[565]\tvalidation_0-logloss:0.04959\tvalidation_0-auc:0.99971\tvalidation_0-error:0.01769\tvalidation_1-logloss:0.49554\tvalidation_1-auc:0.90639\tvalidation_1-error:0.16151\n",
      "[566]\tvalidation_0-logloss:0.04955\tvalidation_0-auc:0.99971\tvalidation_0-error:0.01767\tvalidation_1-logloss:0.49559\tvalidation_1-auc:0.90643\tvalidation_1-error:0.16141\n",
      "[567]\tvalidation_0-logloss:0.04952\tvalidation_0-auc:0.99971\tvalidation_0-error:0.01764\tvalidation_1-logloss:0.49546\tvalidation_1-auc:0.90643\tvalidation_1-error:0.16130\n",
      "[568]\tvalidation_0-logloss:0.04939\tvalidation_0-auc:0.99971\tvalidation_0-error:0.01757\tvalidation_1-logloss:0.49544\tvalidation_1-auc:0.90647\tvalidation_1-error:0.16087\n",
      "[569]\tvalidation_0-logloss:0.04930\tvalidation_0-auc:0.99972\tvalidation_0-error:0.01755\tvalidation_1-logloss:0.49564\tvalidation_1-auc:0.90644\tvalidation_1-error:0.16078\n",
      "[570]\tvalidation_0-logloss:0.04926\tvalidation_0-auc:0.99972\tvalidation_0-error:0.01753\tvalidation_1-logloss:0.49560\tvalidation_1-auc:0.90645\tvalidation_1-error:0.16071\n",
      "[571]\tvalidation_0-logloss:0.04925\tvalidation_0-auc:0.99972\tvalidation_0-error:0.01752\tvalidation_1-logloss:0.49568\tvalidation_1-auc:0.90646\tvalidation_1-error:0.16081\n",
      "[572]\tvalidation_0-logloss:0.04922\tvalidation_0-auc:0.99972\tvalidation_0-error:0.01751\tvalidation_1-logloss:0.49571\tvalidation_1-auc:0.90645\tvalidation_1-error:0.16076\n",
      "[573]\tvalidation_0-logloss:0.04912\tvalidation_0-auc:0.99972\tvalidation_0-error:0.01746\tvalidation_1-logloss:0.49566\tvalidation_1-auc:0.90643\tvalidation_1-error:0.16087\n",
      "[574]\tvalidation_0-logloss:0.04904\tvalidation_0-auc:0.99972\tvalidation_0-error:0.01741\tvalidation_1-logloss:0.49567\tvalidation_1-auc:0.90640\tvalidation_1-error:0.16071\n",
      "[575]\tvalidation_0-logloss:0.04894\tvalidation_0-auc:0.99972\tvalidation_0-error:0.01735\tvalidation_1-logloss:0.49541\tvalidation_1-auc:0.90638\tvalidation_1-error:0.16060\n",
      "[576]\tvalidation_0-logloss:0.04877\tvalidation_0-auc:0.99972\tvalidation_0-error:0.01719\tvalidation_1-logloss:0.49537\tvalidation_1-auc:0.90635\tvalidation_1-error:0.16052\n",
      "[577]\tvalidation_0-logloss:0.04863\tvalidation_0-auc:0.99972\tvalidation_0-error:0.01711\tvalidation_1-logloss:0.49488\tvalidation_1-auc:0.90633\tvalidation_1-error:0.16044\n",
      "[578]\tvalidation_0-logloss:0.04853\tvalidation_0-auc:0.99972\tvalidation_0-error:0.01712\tvalidation_1-logloss:0.49488\tvalidation_1-auc:0.90629\tvalidation_1-error:0.16044\n",
      "[579]\tvalidation_0-logloss:0.04845\tvalidation_0-auc:0.99972\tvalidation_0-error:0.01711\tvalidation_1-logloss:0.49466\tvalidation_1-auc:0.90634\tvalidation_1-error:0.16023\n",
      "[580]\tvalidation_0-logloss:0.04836\tvalidation_0-auc:0.99973\tvalidation_0-error:0.01706\tvalidation_1-logloss:0.49472\tvalidation_1-auc:0.90633\tvalidation_1-error:0.16021\n",
      "[581]\tvalidation_0-logloss:0.04828\tvalidation_0-auc:0.99973\tvalidation_0-error:0.01700\tvalidation_1-logloss:0.49446\tvalidation_1-auc:0.90637\tvalidation_1-error:0.16007\n",
      "[582]\tvalidation_0-logloss:0.04822\tvalidation_0-auc:0.99973\tvalidation_0-error:0.01700\tvalidation_1-logloss:0.49422\tvalidation_1-auc:0.90637\tvalidation_1-error:0.15998\n",
      "[583]\tvalidation_0-logloss:0.04819\tvalidation_0-auc:0.99973\tvalidation_0-error:0.01700\tvalidation_1-logloss:0.49420\tvalidation_1-auc:0.90636\tvalidation_1-error:0.15996\n",
      "[584]\tvalidation_0-logloss:0.04811\tvalidation_0-auc:0.99973\tvalidation_0-error:0.01698\tvalidation_1-logloss:0.49431\tvalidation_1-auc:0.90630\tvalidation_1-error:0.15986\n",
      "[585]\tvalidation_0-logloss:0.04801\tvalidation_0-auc:0.99973\tvalidation_0-error:0.01694\tvalidation_1-logloss:0.49427\tvalidation_1-auc:0.90631\tvalidation_1-error:0.15971\n",
      "[586]\tvalidation_0-logloss:0.04787\tvalidation_0-auc:0.99973\tvalidation_0-error:0.01684\tvalidation_1-logloss:0.49401\tvalidation_1-auc:0.90632\tvalidation_1-error:0.15948\n",
      "[587]\tvalidation_0-logloss:0.04781\tvalidation_0-auc:0.99973\tvalidation_0-error:0.01680\tvalidation_1-logloss:0.49387\tvalidation_1-auc:0.90633\tvalidation_1-error:0.15948\n",
      "[588]\tvalidation_0-logloss:0.04777\tvalidation_0-auc:0.99973\tvalidation_0-error:0.01677\tvalidation_1-logloss:0.49394\tvalidation_1-auc:0.90634\tvalidation_1-error:0.15941\n",
      "[589]\tvalidation_0-logloss:0.04771\tvalidation_0-auc:0.99974\tvalidation_0-error:0.01673\tvalidation_1-logloss:0.49409\tvalidation_1-auc:0.90636\tvalidation_1-error:0.15947\n"
     ]
    },
    {
     "name": "stdout",
     "output_type": "stream",
     "text": [
      "[590]\tvalidation_0-logloss:0.04761\tvalidation_0-auc:0.99974\tvalidation_0-error:0.01674\tvalidation_1-logloss:0.49392\tvalidation_1-auc:0.90634\tvalidation_1-error:0.15939\n",
      "[591]\tvalidation_0-logloss:0.04756\tvalidation_0-auc:0.99974\tvalidation_0-error:0.01671\tvalidation_1-logloss:0.49396\tvalidation_1-auc:0.90632\tvalidation_1-error:0.15939\n",
      "[592]\tvalidation_0-logloss:0.04747\tvalidation_0-auc:0.99974\tvalidation_0-error:0.01668\tvalidation_1-logloss:0.49395\tvalidation_1-auc:0.90630\tvalidation_1-error:0.15939\n",
      "[593]\tvalidation_0-logloss:0.04738\tvalidation_0-auc:0.99974\tvalidation_0-error:0.01667\tvalidation_1-logloss:0.49360\tvalidation_1-auc:0.90631\tvalidation_1-error:0.15942\n",
      "[594]\tvalidation_0-logloss:0.04726\tvalidation_0-auc:0.99974\tvalidation_0-error:0.01660\tvalidation_1-logloss:0.49347\tvalidation_1-auc:0.90628\tvalidation_1-error:0.15934\n",
      "[595]\tvalidation_0-logloss:0.04719\tvalidation_0-auc:0.99974\tvalidation_0-error:0.01657\tvalidation_1-logloss:0.49334\tvalidation_1-auc:0.90630\tvalidation_1-error:0.15928\n",
      "[596]\tvalidation_0-logloss:0.04706\tvalidation_0-auc:0.99974\tvalidation_0-error:0.01649\tvalidation_1-logloss:0.49305\tvalidation_1-auc:0.90633\tvalidation_1-error:0.15904\n",
      "[597]\tvalidation_0-logloss:0.04698\tvalidation_0-auc:0.99974\tvalidation_0-error:0.01650\tvalidation_1-logloss:0.49302\tvalidation_1-auc:0.90635\tvalidation_1-error:0.15910\n",
      "[598]\tvalidation_0-logloss:0.04680\tvalidation_0-auc:0.99975\tvalidation_0-error:0.01646\tvalidation_1-logloss:0.49291\tvalidation_1-auc:0.90629\tvalidation_1-error:0.15897\n",
      "[599]\tvalidation_0-logloss:0.04677\tvalidation_0-auc:0.99975\tvalidation_0-error:0.01642\tvalidation_1-logloss:0.49304\tvalidation_1-auc:0.90629\tvalidation_1-error:0.15883\n",
      "[600]\tvalidation_0-logloss:0.04667\tvalidation_0-auc:0.99975\tvalidation_0-error:0.01638\tvalidation_1-logloss:0.49287\tvalidation_1-auc:0.90627\tvalidation_1-error:0.15890\n",
      "[601]\tvalidation_0-logloss:0.04663\tvalidation_0-auc:0.99975\tvalidation_0-error:0.01636\tvalidation_1-logloss:0.49289\tvalidation_1-auc:0.90628\tvalidation_1-error:0.15869\n",
      "[602]\tvalidation_0-logloss:0.04656\tvalidation_0-auc:0.99975\tvalidation_0-error:0.01634\tvalidation_1-logloss:0.49295\tvalidation_1-auc:0.90627\tvalidation_1-error:0.15877\n",
      "[603]\tvalidation_0-logloss:0.04650\tvalidation_0-auc:0.99975\tvalidation_0-error:0.01633\tvalidation_1-logloss:0.49290\tvalidation_1-auc:0.90628\tvalidation_1-error:0.15881\n",
      "[604]\tvalidation_0-logloss:0.04644\tvalidation_0-auc:0.99975\tvalidation_0-error:0.01629\tvalidation_1-logloss:0.49294\tvalidation_1-auc:0.90631\tvalidation_1-error:0.15881\n",
      "[605]\tvalidation_0-logloss:0.04640\tvalidation_0-auc:0.99975\tvalidation_0-error:0.01629\tvalidation_1-logloss:0.49309\tvalidation_1-auc:0.90633\tvalidation_1-error:0.15885\n",
      "[606]\tvalidation_0-logloss:0.04638\tvalidation_0-auc:0.99975\tvalidation_0-error:0.01628\tvalidation_1-logloss:0.49308\tvalidation_1-auc:0.90633\tvalidation_1-error:0.15884\n",
      "[607]\tvalidation_0-logloss:0.04634\tvalidation_0-auc:0.99975\tvalidation_0-error:0.01628\tvalidation_1-logloss:0.49303\tvalidation_1-auc:0.90631\tvalidation_1-error:0.15875\n",
      "[608]\tvalidation_0-logloss:0.04627\tvalidation_0-auc:0.99975\tvalidation_0-error:0.01625\tvalidation_1-logloss:0.49300\tvalidation_1-auc:0.90631\tvalidation_1-error:0.15869\n",
      "[609]\tvalidation_0-logloss:0.04622\tvalidation_0-auc:0.99975\tvalidation_0-error:0.01625\tvalidation_1-logloss:0.49315\tvalidation_1-auc:0.90631\tvalidation_1-error:0.15864\n",
      "[610]\tvalidation_0-logloss:0.04613\tvalidation_0-auc:0.99975\tvalidation_0-error:0.01618\tvalidation_1-logloss:0.49289\tvalidation_1-auc:0.90631\tvalidation_1-error:0.15861\n",
      "[611]\tvalidation_0-logloss:0.04601\tvalidation_0-auc:0.99976\tvalidation_0-error:0.01613\tvalidation_1-logloss:0.49268\tvalidation_1-auc:0.90629\tvalidation_1-error:0.15856\n",
      "[612]\tvalidation_0-logloss:0.04590\tvalidation_0-auc:0.99976\tvalidation_0-error:0.01605\tvalidation_1-logloss:0.49243\tvalidation_1-auc:0.90627\tvalidation_1-error:0.15848\n",
      "[613]\tvalidation_0-logloss:0.04582\tvalidation_0-auc:0.99976\tvalidation_0-error:0.01600\tvalidation_1-logloss:0.49260\tvalidation_1-auc:0.90626\tvalidation_1-error:0.15834\n",
      "[614]\tvalidation_0-logloss:0.04576\tvalidation_0-auc:0.99976\tvalidation_0-error:0.01601\tvalidation_1-logloss:0.49242\tvalidation_1-auc:0.90626\tvalidation_1-error:0.15848\n",
      "[615]\tvalidation_0-logloss:0.04568\tvalidation_0-auc:0.99976\tvalidation_0-error:0.01599\tvalidation_1-logloss:0.49239\tvalidation_1-auc:0.90626\tvalidation_1-error:0.15840\n",
      "[616]\tvalidation_0-logloss:0.04558\tvalidation_0-auc:0.99976\tvalidation_0-error:0.01596\tvalidation_1-logloss:0.49223\tvalidation_1-auc:0.90627\tvalidation_1-error:0.15820\n",
      "[617]\tvalidation_0-logloss:0.04545\tvalidation_0-auc:0.99976\tvalidation_0-error:0.01595\tvalidation_1-logloss:0.49248\tvalidation_1-auc:0.90624\tvalidation_1-error:0.15796\n",
      "[618]\tvalidation_0-logloss:0.04542\tvalidation_0-auc:0.99976\tvalidation_0-error:0.01593\tvalidation_1-logloss:0.49263\tvalidation_1-auc:0.90619\tvalidation_1-error:0.15802\n",
      "[619]\tvalidation_0-logloss:0.04536\tvalidation_0-auc:0.99976\tvalidation_0-error:0.01587\tvalidation_1-logloss:0.49264\tvalidation_1-auc:0.90620\tvalidation_1-error:0.15811\n",
      "[620]\tvalidation_0-logloss:0.04526\tvalidation_0-auc:0.99977\tvalidation_0-error:0.01585\tvalidation_1-logloss:0.49264\tvalidation_1-auc:0.90622\tvalidation_1-error:0.15802\n",
      "[621]\tvalidation_0-logloss:0.04521\tvalidation_0-auc:0.99977\tvalidation_0-error:0.01582\tvalidation_1-logloss:0.49255\tvalidation_1-auc:0.90619\tvalidation_1-error:0.15813\n",
      "[622]\tvalidation_0-logloss:0.04517\tvalidation_0-auc:0.99977\tvalidation_0-error:0.01581\tvalidation_1-logloss:0.49265\tvalidation_1-auc:0.90619\tvalidation_1-error:0.15811\n",
      "[623]\tvalidation_0-logloss:0.04511\tvalidation_0-auc:0.99977\tvalidation_0-error:0.01579\tvalidation_1-logloss:0.49281\tvalidation_1-auc:0.90615\tvalidation_1-error:0.15820\n",
      "[624]\tvalidation_0-logloss:0.04502\tvalidation_0-auc:0.99977\tvalidation_0-error:0.01572\tvalidation_1-logloss:0.49258\tvalidation_1-auc:0.90615\tvalidation_1-error:0.15807\n",
      "[625]\tvalidation_0-logloss:0.04497\tvalidation_0-auc:0.99977\tvalidation_0-error:0.01569\tvalidation_1-logloss:0.49257\tvalidation_1-auc:0.90615\tvalidation_1-error:0.15798\n",
      "[626]\tvalidation_0-logloss:0.04492\tvalidation_0-auc:0.99977\tvalidation_0-error:0.01569\tvalidation_1-logloss:0.49251\tvalidation_1-auc:0.90614\tvalidation_1-error:0.15786\n",
      "[627]\tvalidation_0-logloss:0.04484\tvalidation_0-auc:0.99977\tvalidation_0-error:0.01566\tvalidation_1-logloss:0.49237\tvalidation_1-auc:0.90614\tvalidation_1-error:0.15778\n",
      "[628]\tvalidation_0-logloss:0.04478\tvalidation_0-auc:0.99977\tvalidation_0-error:0.01565\tvalidation_1-logloss:0.49236\tvalidation_1-auc:0.90615\tvalidation_1-error:0.15772\n",
      "[629]\tvalidation_0-logloss:0.04469\tvalidation_0-auc:0.99977\tvalidation_0-error:0.01562\tvalidation_1-logloss:0.49241\tvalidation_1-auc:0.90616\tvalidation_1-error:0.15769\n",
      "[630]\tvalidation_0-logloss:0.04465\tvalidation_0-auc:0.99977\tvalidation_0-error:0.01560\tvalidation_1-logloss:0.49249\tvalidation_1-auc:0.90617\tvalidation_1-error:0.15763\n",
      "[631]\tvalidation_0-logloss:0.04455\tvalidation_0-auc:0.99977\tvalidation_0-error:0.01559\tvalidation_1-logloss:0.49235\tvalidation_1-auc:0.90613\tvalidation_1-error:0.15769\n",
      "[632]\tvalidation_0-logloss:0.04440\tvalidation_0-auc:0.99978\tvalidation_0-error:0.01550\tvalidation_1-logloss:0.49238\tvalidation_1-auc:0.90613\tvalidation_1-error:0.15734\n",
      "[633]\tvalidation_0-logloss:0.04434\tvalidation_0-auc:0.99978\tvalidation_0-error:0.01546\tvalidation_1-logloss:0.49266\tvalidation_1-auc:0.90616\tvalidation_1-error:0.15732\n",
      "[634]\tvalidation_0-logloss:0.04425\tvalidation_0-auc:0.99978\tvalidation_0-error:0.01544\tvalidation_1-logloss:0.49287\tvalidation_1-auc:0.90616\tvalidation_1-error:0.15735\n",
      "[635]\tvalidation_0-logloss:0.04420\tvalidation_0-auc:0.99978\tvalidation_0-error:0.01541\tvalidation_1-logloss:0.49238\tvalidation_1-auc:0.90616\tvalidation_1-error:0.15737\n",
      "[636]\tvalidation_0-logloss:0.04410\tvalidation_0-auc:0.99978\tvalidation_0-error:0.01535\tvalidation_1-logloss:0.49226\tvalidation_1-auc:0.90614\tvalidation_1-error:0.15743\n",
      "[637]\tvalidation_0-logloss:0.04407\tvalidation_0-auc:0.99978\tvalidation_0-error:0.01534\tvalidation_1-logloss:0.49230\tvalidation_1-auc:0.90617\tvalidation_1-error:0.15751\n",
      "[638]\tvalidation_0-logloss:0.04398\tvalidation_0-auc:0.99978\tvalidation_0-error:0.01531\tvalidation_1-logloss:0.49242\tvalidation_1-auc:0.90616\tvalidation_1-error:0.15729\n"
     ]
    },
    {
     "name": "stdout",
     "output_type": "stream",
     "text": [
      "[639]\tvalidation_0-logloss:0.04394\tvalidation_0-auc:0.99978\tvalidation_0-error:0.01528\tvalidation_1-logloss:0.49237\tvalidation_1-auc:0.90614\tvalidation_1-error:0.15715\n",
      "[640]\tvalidation_0-logloss:0.04386\tvalidation_0-auc:0.99978\tvalidation_0-error:0.01524\tvalidation_1-logloss:0.49220\tvalidation_1-auc:0.90620\tvalidation_1-error:0.15709\n",
      "[641]\tvalidation_0-logloss:0.04380\tvalidation_0-auc:0.99978\tvalidation_0-error:0.01524\tvalidation_1-logloss:0.49204\tvalidation_1-auc:0.90618\tvalidation_1-error:0.15708\n",
      "[642]\tvalidation_0-logloss:0.04369\tvalidation_0-auc:0.99979\tvalidation_0-error:0.01520\tvalidation_1-logloss:0.49173\tvalidation_1-auc:0.90619\tvalidation_1-error:0.15696\n",
      "[643]\tvalidation_0-logloss:0.04363\tvalidation_0-auc:0.99979\tvalidation_0-error:0.01513\tvalidation_1-logloss:0.49199\tvalidation_1-auc:0.90619\tvalidation_1-error:0.15684\n",
      "[644]\tvalidation_0-logloss:0.04358\tvalidation_0-auc:0.99979\tvalidation_0-error:0.01515\tvalidation_1-logloss:0.49202\tvalidation_1-auc:0.90619\tvalidation_1-error:0.15683\n",
      "[645]\tvalidation_0-logloss:0.04348\tvalidation_0-auc:0.99979\tvalidation_0-error:0.01512\tvalidation_1-logloss:0.49166\tvalidation_1-auc:0.90621\tvalidation_1-error:0.15692\n",
      "[646]\tvalidation_0-logloss:0.04338\tvalidation_0-auc:0.99979\tvalidation_0-error:0.01510\tvalidation_1-logloss:0.49152\tvalidation_1-auc:0.90620\tvalidation_1-error:0.15660\n",
      "[647]\tvalidation_0-logloss:0.04324\tvalidation_0-auc:0.99979\tvalidation_0-error:0.01504\tvalidation_1-logloss:0.49129\tvalidation_1-auc:0.90621\tvalidation_1-error:0.15658\n",
      "[648]\tvalidation_0-logloss:0.04316\tvalidation_0-auc:0.99979\tvalidation_0-error:0.01497\tvalidation_1-logloss:0.49113\tvalidation_1-auc:0.90617\tvalidation_1-error:0.15649\n",
      "[649]\tvalidation_0-logloss:0.04309\tvalidation_0-auc:0.99979\tvalidation_0-error:0.01498\tvalidation_1-logloss:0.49121\tvalidation_1-auc:0.90619\tvalidation_1-error:0.15640\n",
      "[650]\tvalidation_0-logloss:0.04304\tvalidation_0-auc:0.99979\tvalidation_0-error:0.01497\tvalidation_1-logloss:0.49127\tvalidation_1-auc:0.90618\tvalidation_1-error:0.15667\n",
      "[651]\tvalidation_0-logloss:0.04295\tvalidation_0-auc:0.99979\tvalidation_0-error:0.01494\tvalidation_1-logloss:0.49122\tvalidation_1-auc:0.90622\tvalidation_1-error:0.15676\n",
      "[652]\tvalidation_0-logloss:0.04290\tvalidation_0-auc:0.99979\tvalidation_0-error:0.01494\tvalidation_1-logloss:0.49120\tvalidation_1-auc:0.90621\tvalidation_1-error:0.15664\n",
      "[653]\tvalidation_0-logloss:0.04275\tvalidation_0-auc:0.99980\tvalidation_0-error:0.01482\tvalidation_1-logloss:0.49092\tvalidation_1-auc:0.90621\tvalidation_1-error:0.15681\n",
      "[654]\tvalidation_0-logloss:0.04268\tvalidation_0-auc:0.99980\tvalidation_0-error:0.01481\tvalidation_1-logloss:0.49112\tvalidation_1-auc:0.90624\tvalidation_1-error:0.15684\n",
      "[655]\tvalidation_0-logloss:0.04263\tvalidation_0-auc:0.99980\tvalidation_0-error:0.01477\tvalidation_1-logloss:0.49129\tvalidation_1-auc:0.90623\tvalidation_1-error:0.15678\n",
      "[656]\tvalidation_0-logloss:0.04258\tvalidation_0-auc:0.99980\tvalidation_0-error:0.01477\tvalidation_1-logloss:0.49165\tvalidation_1-auc:0.90623\tvalidation_1-error:0.15664\n",
      "[657]\tvalidation_0-logloss:0.04254\tvalidation_0-auc:0.99980\tvalidation_0-error:0.01476\tvalidation_1-logloss:0.49173\tvalidation_1-auc:0.90622\tvalidation_1-error:0.15668\n",
      "[658]\tvalidation_0-logloss:0.04246\tvalidation_0-auc:0.99980\tvalidation_0-error:0.01471\tvalidation_1-logloss:0.49160\tvalidation_1-auc:0.90621\tvalidation_1-error:0.15670\n",
      "[659]\tvalidation_0-logloss:0.04240\tvalidation_0-auc:0.99980\tvalidation_0-error:0.01471\tvalidation_1-logloss:0.49150\tvalidation_1-auc:0.90623\tvalidation_1-error:0.15648\n",
      "[660]\tvalidation_0-logloss:0.04235\tvalidation_0-auc:0.99980\tvalidation_0-error:0.01469\tvalidation_1-logloss:0.49139\tvalidation_1-auc:0.90622\tvalidation_1-error:0.15627\n",
      "[661]\tvalidation_0-logloss:0.04226\tvalidation_0-auc:0.99980\tvalidation_0-error:0.01466\tvalidation_1-logloss:0.49141\tvalidation_1-auc:0.90619\tvalidation_1-error:0.15630\n",
      "[662]\tvalidation_0-logloss:0.04217\tvalidation_0-auc:0.99980\tvalidation_0-error:0.01462\tvalidation_1-logloss:0.49149\tvalidation_1-auc:0.90617\tvalidation_1-error:0.15603\n",
      "[663]\tvalidation_0-logloss:0.04210\tvalidation_0-auc:0.99980\tvalidation_0-error:0.01456\tvalidation_1-logloss:0.49145\tvalidation_1-auc:0.90619\tvalidation_1-error:0.15614\n",
      "[664]\tvalidation_0-logloss:0.04202\tvalidation_0-auc:0.99981\tvalidation_0-error:0.01452\tvalidation_1-logloss:0.49149\tvalidation_1-auc:0.90615\tvalidation_1-error:0.15595\n",
      "[665]\tvalidation_0-logloss:0.04191\tvalidation_0-auc:0.99981\tvalidation_0-error:0.01448\tvalidation_1-logloss:0.49174\tvalidation_1-auc:0.90617\tvalidation_1-error:0.15597\n",
      "[666]\tvalidation_0-logloss:0.04188\tvalidation_0-auc:0.99981\tvalidation_0-error:0.01441\tvalidation_1-logloss:0.49220\tvalidation_1-auc:0.90617\tvalidation_1-error:0.15594\n",
      "[667]\tvalidation_0-logloss:0.04181\tvalidation_0-auc:0.99981\tvalidation_0-error:0.01439\tvalidation_1-logloss:0.49227\tvalidation_1-auc:0.90615\tvalidation_1-error:0.15588\n",
      "[668]\tvalidation_0-logloss:0.04171\tvalidation_0-auc:0.99981\tvalidation_0-error:0.01436\tvalidation_1-logloss:0.49199\tvalidation_1-auc:0.90614\tvalidation_1-error:0.15590\n",
      "[669]\tvalidation_0-logloss:0.04165\tvalidation_0-auc:0.99981\tvalidation_0-error:0.01435\tvalidation_1-logloss:0.49189\tvalidation_1-auc:0.90613\tvalidation_1-error:0.15584\n",
      "[670]\tvalidation_0-logloss:0.04157\tvalidation_0-auc:0.99981\tvalidation_0-error:0.01432\tvalidation_1-logloss:0.49184\tvalidation_1-auc:0.90615\tvalidation_1-error:0.15571\n",
      "[671]\tvalidation_0-logloss:0.04148\tvalidation_0-auc:0.99981\tvalidation_0-error:0.01430\tvalidation_1-logloss:0.49174\tvalidation_1-auc:0.90611\tvalidation_1-error:0.15553\n",
      "[672]\tvalidation_0-logloss:0.04140\tvalidation_0-auc:0.99981\tvalidation_0-error:0.01426\tvalidation_1-logloss:0.49171\tvalidation_1-auc:0.90613\tvalidation_1-error:0.15550\n",
      "[673]\tvalidation_0-logloss:0.04134\tvalidation_0-auc:0.99981\tvalidation_0-error:0.01421\tvalidation_1-logloss:0.49139\tvalidation_1-auc:0.90612\tvalidation_1-error:0.15540\n",
      "[674]\tvalidation_0-logloss:0.04133\tvalidation_0-auc:0.99981\tvalidation_0-error:0.01420\tvalidation_1-logloss:0.49152\tvalidation_1-auc:0.90612\tvalidation_1-error:0.15534\n",
      "[675]\tvalidation_0-logloss:0.04128\tvalidation_0-auc:0.99981\tvalidation_0-error:0.01419\tvalidation_1-logloss:0.49142\tvalidation_1-auc:0.90610\tvalidation_1-error:0.15536\n",
      "[676]\tvalidation_0-logloss:0.04124\tvalidation_0-auc:0.99981\tvalidation_0-error:0.01417\tvalidation_1-logloss:0.49136\tvalidation_1-auc:0.90607\tvalidation_1-error:0.15534\n",
      "[677]\tvalidation_0-logloss:0.04121\tvalidation_0-auc:0.99981\tvalidation_0-error:0.01416\tvalidation_1-logloss:0.49156\tvalidation_1-auc:0.90607\tvalidation_1-error:0.15528\n",
      "[678]\tvalidation_0-logloss:0.04118\tvalidation_0-auc:0.99982\tvalidation_0-error:0.01415\tvalidation_1-logloss:0.49155\tvalidation_1-auc:0.90607\tvalidation_1-error:0.15530\n",
      "[679]\tvalidation_0-logloss:0.04108\tvalidation_0-auc:0.99982\tvalidation_0-error:0.01412\tvalidation_1-logloss:0.49147\tvalidation_1-auc:0.90606\tvalidation_1-error:0.15512\n",
      "[680]\tvalidation_0-logloss:0.04099\tvalidation_0-auc:0.99982\tvalidation_0-error:0.01414\tvalidation_1-logloss:0.49120\tvalidation_1-auc:0.90606\tvalidation_1-error:0.15514\n",
      "[681]\tvalidation_0-logloss:0.04093\tvalidation_0-auc:0.99982\tvalidation_0-error:0.01411\tvalidation_1-logloss:0.49109\tvalidation_1-auc:0.90607\tvalidation_1-error:0.15496\n",
      "[682]\tvalidation_0-logloss:0.04090\tvalidation_0-auc:0.99982\tvalidation_0-error:0.01411\tvalidation_1-logloss:0.49114\tvalidation_1-auc:0.90608\tvalidation_1-error:0.15493\n",
      "[683]\tvalidation_0-logloss:0.04083\tvalidation_0-auc:0.99982\tvalidation_0-error:0.01407\tvalidation_1-logloss:0.49127\tvalidation_1-auc:0.90609\tvalidation_1-error:0.15488\n",
      "[684]\tvalidation_0-logloss:0.04072\tvalidation_0-auc:0.99982\tvalidation_0-error:0.01403\tvalidation_1-logloss:0.49115\tvalidation_1-auc:0.90612\tvalidation_1-error:0.15485\n",
      "[685]\tvalidation_0-logloss:0.04067\tvalidation_0-auc:0.99982\tvalidation_0-error:0.01401\tvalidation_1-logloss:0.49112\tvalidation_1-auc:0.90610\tvalidation_1-error:0.15495\n",
      "[686]\tvalidation_0-logloss:0.04058\tvalidation_0-auc:0.99982\tvalidation_0-error:0.01399\tvalidation_1-logloss:0.49114\tvalidation_1-auc:0.90598\tvalidation_1-error:0.15486\n",
      "[687]\tvalidation_0-logloss:0.04047\tvalidation_0-auc:0.99982\tvalidation_0-error:0.01393\tvalidation_1-logloss:0.49069\tvalidation_1-auc:0.90597\tvalidation_1-error:0.15476\n"
     ]
    },
    {
     "name": "stdout",
     "output_type": "stream",
     "text": [
      "[688]\tvalidation_0-logloss:0.04040\tvalidation_0-auc:0.99982\tvalidation_0-error:0.01391\tvalidation_1-logloss:0.49069\tvalidation_1-auc:0.90600\tvalidation_1-error:0.15467\n",
      "[689]\tvalidation_0-logloss:0.04031\tvalidation_0-auc:0.99982\tvalidation_0-error:0.01386\tvalidation_1-logloss:0.49023\tvalidation_1-auc:0.90599\tvalidation_1-error:0.15460\n",
      "[690]\tvalidation_0-logloss:0.04029\tvalidation_0-auc:0.99982\tvalidation_0-error:0.01384\tvalidation_1-logloss:0.49070\tvalidation_1-auc:0.90602\tvalidation_1-error:0.15463\n",
      "[691]\tvalidation_0-logloss:0.04021\tvalidation_0-auc:0.99982\tvalidation_0-error:0.01379\tvalidation_1-logloss:0.49071\tvalidation_1-auc:0.90600\tvalidation_1-error:0.15436\n",
      "[692]\tvalidation_0-logloss:0.04014\tvalidation_0-auc:0.99982\tvalidation_0-error:0.01379\tvalidation_1-logloss:0.49072\tvalidation_1-auc:0.90600\tvalidation_1-error:0.15438\n",
      "[693]\tvalidation_0-logloss:0.04012\tvalidation_0-auc:0.99982\tvalidation_0-error:0.01381\tvalidation_1-logloss:0.49062\tvalidation_1-auc:0.90600\tvalidation_1-error:0.15426\n",
      "[694]\tvalidation_0-logloss:0.04007\tvalidation_0-auc:0.99983\tvalidation_0-error:0.01379\tvalidation_1-logloss:0.49065\tvalidation_1-auc:0.90601\tvalidation_1-error:0.15409\n",
      "[695]\tvalidation_0-logloss:0.04002\tvalidation_0-auc:0.99983\tvalidation_0-error:0.01374\tvalidation_1-logloss:0.49045\tvalidation_1-auc:0.90599\tvalidation_1-error:0.15412\n",
      "[696]\tvalidation_0-logloss:0.03996\tvalidation_0-auc:0.99983\tvalidation_0-error:0.01372\tvalidation_1-logloss:0.49056\tvalidation_1-auc:0.90594\tvalidation_1-error:0.15401\n",
      "[697]\tvalidation_0-logloss:0.03994\tvalidation_0-auc:0.99983\tvalidation_0-error:0.01371\tvalidation_1-logloss:0.49063\tvalidation_1-auc:0.90595\tvalidation_1-error:0.15391\n",
      "[698]\tvalidation_0-logloss:0.03991\tvalidation_0-auc:0.99983\tvalidation_0-error:0.01368\tvalidation_1-logloss:0.49063\tvalidation_1-auc:0.90597\tvalidation_1-error:0.15401\n",
      "[699]\tvalidation_0-logloss:0.03984\tvalidation_0-auc:0.99983\tvalidation_0-error:0.01364\tvalidation_1-logloss:0.49052\tvalidation_1-auc:0.90593\tvalidation_1-error:0.15396\n",
      "[700]\tvalidation_0-logloss:0.03979\tvalidation_0-auc:0.99983\tvalidation_0-error:0.01364\tvalidation_1-logloss:0.49064\tvalidation_1-auc:0.90590\tvalidation_1-error:0.15384\n",
      "[701]\tvalidation_0-logloss:0.03970\tvalidation_0-auc:0.99983\tvalidation_0-error:0.01364\tvalidation_1-logloss:0.49058\tvalidation_1-auc:0.90590\tvalidation_1-error:0.15406\n",
      "[702]\tvalidation_0-logloss:0.03964\tvalidation_0-auc:0.99983\tvalidation_0-error:0.01360\tvalidation_1-logloss:0.49072\tvalidation_1-auc:0.90590\tvalidation_1-error:0.15388\n",
      "[703]\tvalidation_0-logloss:0.03959\tvalidation_0-auc:0.99983\tvalidation_0-error:0.01357\tvalidation_1-logloss:0.49056\tvalidation_1-auc:0.90592\tvalidation_1-error:0.15374\n",
      "[704]\tvalidation_0-logloss:0.03950\tvalidation_0-auc:0.99983\tvalidation_0-error:0.01353\tvalidation_1-logloss:0.49060\tvalidation_1-auc:0.90590\tvalidation_1-error:0.15372\n",
      "[705]\tvalidation_0-logloss:0.03944\tvalidation_0-auc:0.99983\tvalidation_0-error:0.01350\tvalidation_1-logloss:0.49084\tvalidation_1-auc:0.90590\tvalidation_1-error:0.15388\n",
      "[706]\tvalidation_0-logloss:0.03940\tvalidation_0-auc:0.99983\tvalidation_0-error:0.01348\tvalidation_1-logloss:0.49085\tvalidation_1-auc:0.90590\tvalidation_1-error:0.15371\n",
      "[707]\tvalidation_0-logloss:0.03931\tvalidation_0-auc:0.99983\tvalidation_0-error:0.01343\tvalidation_1-logloss:0.49081\tvalidation_1-auc:0.90588\tvalidation_1-error:0.15377\n",
      "[708]\tvalidation_0-logloss:0.03924\tvalidation_0-auc:0.99983\tvalidation_0-error:0.01340\tvalidation_1-logloss:0.49077\tvalidation_1-auc:0.90588\tvalidation_1-error:0.15361\n",
      "[709]\tvalidation_0-logloss:0.03922\tvalidation_0-auc:0.99983\tvalidation_0-error:0.01342\tvalidation_1-logloss:0.49087\tvalidation_1-auc:0.90591\tvalidation_1-error:0.15366\n",
      "[710]\tvalidation_0-logloss:0.03916\tvalidation_0-auc:0.99984\tvalidation_0-error:0.01338\tvalidation_1-logloss:0.49067\tvalidation_1-auc:0.90590\tvalidation_1-error:0.15372\n",
      "[711]\tvalidation_0-logloss:0.03911\tvalidation_0-auc:0.99984\tvalidation_0-error:0.01333\tvalidation_1-logloss:0.49084\tvalidation_1-auc:0.90588\tvalidation_1-error:0.15366\n",
      "[712]\tvalidation_0-logloss:0.03908\tvalidation_0-auc:0.99984\tvalidation_0-error:0.01331\tvalidation_1-logloss:0.49090\tvalidation_1-auc:0.90590\tvalidation_1-error:0.15374\n",
      "[713]\tvalidation_0-logloss:0.03901\tvalidation_0-auc:0.99984\tvalidation_0-error:0.01326\tvalidation_1-logloss:0.49065\tvalidation_1-auc:0.90589\tvalidation_1-error:0.15365\n",
      "[714]\tvalidation_0-logloss:0.03897\tvalidation_0-auc:0.99984\tvalidation_0-error:0.01327\tvalidation_1-logloss:0.49055\tvalidation_1-auc:0.90588\tvalidation_1-error:0.15365\n",
      "[715]\tvalidation_0-logloss:0.03891\tvalidation_0-auc:0.99984\tvalidation_0-error:0.01324\tvalidation_1-logloss:0.49047\tvalidation_1-auc:0.90589\tvalidation_1-error:0.15359\n",
      "[716]\tvalidation_0-logloss:0.03882\tvalidation_0-auc:0.99984\tvalidation_0-error:0.01322\tvalidation_1-logloss:0.49048\tvalidation_1-auc:0.90590\tvalidation_1-error:0.15369\n",
      "[717]\tvalidation_0-logloss:0.03879\tvalidation_0-auc:0.99984\tvalidation_0-error:0.01319\tvalidation_1-logloss:0.49034\tvalidation_1-auc:0.90589\tvalidation_1-error:0.15358\n",
      "[718]\tvalidation_0-logloss:0.03871\tvalidation_0-auc:0.99984\tvalidation_0-error:0.01318\tvalidation_1-logloss:0.49047\tvalidation_1-auc:0.90590\tvalidation_1-error:0.15350\n",
      "[719]\tvalidation_0-logloss:0.03863\tvalidation_0-auc:0.99984\tvalidation_0-error:0.01314\tvalidation_1-logloss:0.49047\tvalidation_1-auc:0.90588\tvalidation_1-error:0.15340\n",
      "[720]\tvalidation_0-logloss:0.03857\tvalidation_0-auc:0.99984\tvalidation_0-error:0.01311\tvalidation_1-logloss:0.49042\tvalidation_1-auc:0.90589\tvalidation_1-error:0.15323\n",
      "[721]\tvalidation_0-logloss:0.03851\tvalidation_0-auc:0.99984\tvalidation_0-error:0.01308\tvalidation_1-logloss:0.49029\tvalidation_1-auc:0.90591\tvalidation_1-error:0.15311\n",
      "[722]\tvalidation_0-logloss:0.03845\tvalidation_0-auc:0.99984\tvalidation_0-error:0.01306\tvalidation_1-logloss:0.49043\tvalidation_1-auc:0.90589\tvalidation_1-error:0.15315\n",
      "[723]\tvalidation_0-logloss:0.03843\tvalidation_0-auc:0.99984\tvalidation_0-error:0.01306\tvalidation_1-logloss:0.49038\tvalidation_1-auc:0.90585\tvalidation_1-error:0.15310\n",
      "[724]\tvalidation_0-logloss:0.03837\tvalidation_0-auc:0.99984\tvalidation_0-error:0.01302\tvalidation_1-logloss:0.49030\tvalidation_1-auc:0.90581\tvalidation_1-error:0.15305\n",
      "[725]\tvalidation_0-logloss:0.03828\tvalidation_0-auc:0.99984\tvalidation_0-error:0.01299\tvalidation_1-logloss:0.48990\tvalidation_1-auc:0.90583\tvalidation_1-error:0.15298\n",
      "[726]\tvalidation_0-logloss:0.03822\tvalidation_0-auc:0.99984\tvalidation_0-error:0.01300\tvalidation_1-logloss:0.49009\tvalidation_1-auc:0.90586\tvalidation_1-error:0.15299\n",
      "[727]\tvalidation_0-logloss:0.03818\tvalidation_0-auc:0.99984\tvalidation_0-error:0.01299\tvalidation_1-logloss:0.49018\tvalidation_1-auc:0.90585\tvalidation_1-error:0.15295\n",
      "[728]\tvalidation_0-logloss:0.03812\tvalidation_0-auc:0.99985\tvalidation_0-error:0.01296\tvalidation_1-logloss:0.49025\tvalidation_1-auc:0.90584\tvalidation_1-error:0.15308\n",
      "[729]\tvalidation_0-logloss:0.03804\tvalidation_0-auc:0.99985\tvalidation_0-error:0.01291\tvalidation_1-logloss:0.49024\tvalidation_1-auc:0.90582\tvalidation_1-error:0.15307\n",
      "[730]\tvalidation_0-logloss:0.03799\tvalidation_0-auc:0.99985\tvalidation_0-error:0.01287\tvalidation_1-logloss:0.49006\tvalidation_1-auc:0.90581\tvalidation_1-error:0.15296\n",
      "[731]\tvalidation_0-logloss:0.03790\tvalidation_0-auc:0.99985\tvalidation_0-error:0.01281\tvalidation_1-logloss:0.49005\tvalidation_1-auc:0.90583\tvalidation_1-error:0.15282\n",
      "[732]\tvalidation_0-logloss:0.03786\tvalidation_0-auc:0.99985\tvalidation_0-error:0.01280\tvalidation_1-logloss:0.49010\tvalidation_1-auc:0.90586\tvalidation_1-error:0.15280\n",
      "[733]\tvalidation_0-logloss:0.03781\tvalidation_0-auc:0.99985\tvalidation_0-error:0.01276\tvalidation_1-logloss:0.49019\tvalidation_1-auc:0.90584\tvalidation_1-error:0.15280\n",
      "[734]\tvalidation_0-logloss:0.03778\tvalidation_0-auc:0.99985\tvalidation_0-error:0.01275\tvalidation_1-logloss:0.49027\tvalidation_1-auc:0.90584\tvalidation_1-error:0.15280\n",
      "[735]\tvalidation_0-logloss:0.03769\tvalidation_0-auc:0.99985\tvalidation_0-error:0.01273\tvalidation_1-logloss:0.49001\tvalidation_1-auc:0.90582\tvalidation_1-error:0.15259\n",
      "[736]\tvalidation_0-logloss:0.03762\tvalidation_0-auc:0.99985\tvalidation_0-error:0.01267\tvalidation_1-logloss:0.49005\tvalidation_1-auc:0.90580\tvalidation_1-error:0.15260\n"
     ]
    },
    {
     "name": "stdout",
     "output_type": "stream",
     "text": [
      "[737]\tvalidation_0-logloss:0.03759\tvalidation_0-auc:0.99985\tvalidation_0-error:0.01266\tvalidation_1-logloss:0.49001\tvalidation_1-auc:0.90580\tvalidation_1-error:0.15259\n",
      "[738]\tvalidation_0-logloss:0.03754\tvalidation_0-auc:0.99985\tvalidation_0-error:0.01263\tvalidation_1-logloss:0.48989\tvalidation_1-auc:0.90580\tvalidation_1-error:0.15244\n",
      "[739]\tvalidation_0-logloss:0.03746\tvalidation_0-auc:0.99985\tvalidation_0-error:0.01256\tvalidation_1-logloss:0.48978\tvalidation_1-auc:0.90580\tvalidation_1-error:0.15237\n",
      "[740]\tvalidation_0-logloss:0.03744\tvalidation_0-auc:0.99985\tvalidation_0-error:0.01255\tvalidation_1-logloss:0.48970\tvalidation_1-auc:0.90581\tvalidation_1-error:0.15243\n",
      "[741]\tvalidation_0-logloss:0.03740\tvalidation_0-auc:0.99985\tvalidation_0-error:0.01254\tvalidation_1-logloss:0.48966\tvalidation_1-auc:0.90582\tvalidation_1-error:0.15234\n",
      "[742]\tvalidation_0-logloss:0.03734\tvalidation_0-auc:0.99985\tvalidation_0-error:0.01253\tvalidation_1-logloss:0.48971\tvalidation_1-auc:0.90585\tvalidation_1-error:0.15231\n",
      "[743]\tvalidation_0-logloss:0.03731\tvalidation_0-auc:0.99985\tvalidation_0-error:0.01249\tvalidation_1-logloss:0.48997\tvalidation_1-auc:0.90585\tvalidation_1-error:0.15244\n",
      "[744]\tvalidation_0-logloss:0.03719\tvalidation_0-auc:0.99986\tvalidation_0-error:0.01248\tvalidation_1-logloss:0.48981\tvalidation_1-auc:0.90586\tvalidation_1-error:0.15228\n",
      "[745]\tvalidation_0-logloss:0.03714\tvalidation_0-auc:0.99986\tvalidation_0-error:0.01247\tvalidation_1-logloss:0.48986\tvalidation_1-auc:0.90585\tvalidation_1-error:0.15237\n",
      "[746]\tvalidation_0-logloss:0.03713\tvalidation_0-auc:0.99986\tvalidation_0-error:0.01247\tvalidation_1-logloss:0.48988\tvalidation_1-auc:0.90585\tvalidation_1-error:0.15240\n",
      "[747]\tvalidation_0-logloss:0.03709\tvalidation_0-auc:0.99986\tvalidation_0-error:0.01247\tvalidation_1-logloss:0.48973\tvalidation_1-auc:0.90584\tvalidation_1-error:0.15224\n",
      "[748]\tvalidation_0-logloss:0.03706\tvalidation_0-auc:0.99986\tvalidation_0-error:0.01245\tvalidation_1-logloss:0.48972\tvalidation_1-auc:0.90583\tvalidation_1-error:0.15216\n",
      "[749]\tvalidation_0-logloss:0.03700\tvalidation_0-auc:0.99986\tvalidation_0-error:0.01240\tvalidation_1-logloss:0.48968\tvalidation_1-auc:0.90582\tvalidation_1-error:0.15210\n",
      "CPU times: user 27min 11s, sys: 6.07 s, total: 27min 18s\n",
      "Wall time: 3min 50s\n"
     ]
    },
    {
     "data": {
      "text/plain": [
       "XGBClassifier(base_score=0.5, booster='gbtree', colsample_bylevel=1,\n",
       "              colsample_bynode=1, colsample_bytree=1, gamma=0, gpu_id=-1,\n",
       "              importance_type='gain', interaction_constraints='',\n",
       "              learning_rate=0.300000012, max_delta_step=0, max_depth=6,\n",
       "              min_child_weight=1, missing=nan, monotone_constraints='()',\n",
       "              n_estimators=750, n_jobs=0, num_parallel_tree=1, random_state=42,\n",
       "              reg_alpha=0, reg_lambda=1, scale_pos_weight=11.0, seed=42,\n",
       "              subsample=1, tree_method='exact', validate_parameters=1,\n",
       "              verbosity=None)"
      ]
     },
     "execution_count": 26,
     "metadata": {},
     "output_type": "execute_result"
    }
   ],
   "source": [
    "#the documentation recommends AUC for imbalanced datasets\n",
    "eval_set = [(X_train, y_train), (X_test, y_test)]\n",
    "eval_metric = [\"logloss\",\"auc\",\"error\"]\n",
    "%time XGBC.fit(X_train, y_train, eval_metric=eval_metric, eval_set=eval_set, verbose=True)"
   ]
  },
  {
   "cell_type": "code",
   "execution_count": 28,
   "metadata": {
    "ExecuteTime": {
     "end_time": "2021-05-29T15:22:25.800772Z",
     "start_time": "2021-05-29T15:22:24.015661Z"
    }
   },
   "outputs": [
    {
     "name": "stdout",
     "output_type": "stream",
     "text": [
      "Recall: 79.51%\n",
      "Precision: 33.40\n",
      "AUC Score: 0.82\n",
      "Classification report: \n",
      "              precision    recall  f1-score   support\n",
      "\n",
      "           0       0.98      0.85      0.91     62764\n",
      "           1       0.33      0.80      0.47      5827\n",
      "\n",
      "    accuracy                           0.85     68591\n",
      "   macro avg       0.66      0.82      0.69     68591\n",
      "weighted avg       0.92      0.85      0.87     68591\n",
      "\n"
     ]
    },
    {
     "data": {
      "image/png": "[encoded data removed]",
      "text/plain": [
       "<Figure size 432x288 with 1 Axes>"
      ]
     },
     "metadata": {},
     "output_type": "display_data"
    },
    {
     "data": {
      "image/png": "[encoded data removed]",
      "text/plain": [
       "<Figure size 432x288 with 1 Axes>"
      ]
     },
     "metadata": {},
     "output_type": "display_data"
    },
    {
     "data": {
      "image/png": "[encoded data removed]",
      "text/plain": [
       "<Figure size 864x432 with 1 Axes>"
      ]
     },
     "metadata": {},
     "output_type": "display_data"
    },
    {
     "data": {
      "image/png": "[encoded data removed]",
      "text/plain": [
       "<Figure size 864x432 with 1 Axes>"
      ]
     },
     "metadata": {},
     "output_type": "display_data"
    },
    {
     "data": {
      "image/png": "[encoded data removed]",
      "text/plain": [
       "<Figure size 864x432 with 1 Axes>"
      ]
     },
     "metadata": {},
     "output_type": "display_data"
    }
   ],
   "source": [
    "y_pred = XGBC.predict(X_test)\n",
    "# evaluate predictions\n",
    "recall_test = recall_score(y_test, y_pred)\n",
    "precision_test = precision_score(y_test, y_pred)\n",
    "auc_test = roc_auc_score(y_test, y_pred)\n",
    "\n",
    "print(\"Recall: %.2f%%\" % (recall_test * 100.0))\n",
    "print(\"Precision: %.2f\" % (precision_test * 100.0))\n",
    "print(\"AUC Score: %.2f\" % (auc_test))\n",
    "print('Classification report: \\n' + classification_report(y_test, y_pred))\n",
    "\n",
    "cfm = confusion_matrix(y_test,y_pred)\n",
    "sns.heatmap(cfm, cbar=False, annot=True, cmap='Blues', fmt='d')\n",
    "\n",
    "fpr, tpr, _ = roc_curve(y_test, y_pred)\n",
    "roc_auc = auc(fpr, tpr)\n",
    "plt.figure()\n",
    "plt.plot(fpr, tpr, color='darkorange',\n",
    "         label='ROC curve (area = %0.2f)' % roc_auc)\n",
    "plt.plot([0, 1], [0, 1], color='navy', linestyle='--')\n",
    "plt.xlim([0.0, 1.0])\n",
    "plt.ylim([0.0, 1.05])\n",
    "plt.xlabel('False Positive Rate')\n",
    "plt.ylabel('True Positive Rate')\n",
    "plt.title('ROC curve')\n",
    "plt.legend(loc=\"lower right\")\n",
    "plt.show()\n",
    "\n",
    "sns.set(style=\"whitegrid\")\n",
    "sns.set_color_codes(\"muted\")\n",
    "results = XGBC.evals_result()\n",
    "epochs = len(results['validation_0']['logloss'])\n",
    "x_axis = range(0, epochs)\n",
    "# plot log loss\n",
    "fig, ax = plt.subplots(figsize=(12, 6))\n",
    "ax.plot(x_axis, results['validation_0']['logloss'], label='Train')\n",
    "ax.plot(x_axis, results['validation_1']['logloss'], label='Test')\n",
    "ax.legend()\n",
    "plt.ylabel('Log Loss')\n",
    "plt.title('XGBoost Log Loss')\n",
    "plt.show()\n",
    "# plot classification error\n",
    "fig, ax = plt.subplots(figsize=(12, 6))\n",
    "ax.plot(x_axis, results['validation_0']['auc'], label='Train')\n",
    "ax.plot(x_axis, results['validation_1']['auc'], label='Test')\n",
    "ax.legend()\n",
    "plt.ylabel('Area Under Curve')\n",
    "plt.title('XGBoost Area Under  Curve')\n",
    "plt.show()\n",
    "fig, ax = plt.subplots(figsize=(12, 6))\n",
    "ax.plot(x_axis, results['validation_0']['error'], label='Train')\n",
    "ax.plot(x_axis, results['validation_1']['error'], label='Test')\n",
    "ax.legend()\n",
    "plt.ylabel('Classification Error')\n",
    "plt.title('XGBoost Classification Error')\n",
    "plt.show()"
   ]
  },
  {
   "cell_type": "markdown",
   "metadata": {},
   "source": [
    "## Summary"
   ]
  },
  {
   "cell_type": "code",
   "execution_count": 29,
   "metadata": {
    "ExecuteTime": {
     "end_time": "2021-05-29T15:29:58.038441Z",
     "start_time": "2021-05-29T15:29:58.012563Z"
    }
   },
   "outputs": [
    {
     "data": {
      "text/html": [
       "<div>\n",
       "<style scoped>\n",
       "    .dataframe tbody tr th:only-of-type {\n",
       "        vertical-align: middle;\n",
       "    }\n",
       "\n",
       "    .dataframe tbody tr th {\n",
       "        vertical-align: top;\n",
       "    }\n",
       "\n",
       "    .dataframe thead th {\n",
       "        text-align: right;\n",
       "    }\n",
       "</style>\n",
       "<table border=\"1\" class=\"dataframe\">\n",
       "  <thead>\n",
       "    <tr style=\"text-align: right;\">\n",
       "      <th></th>\n",
       "      <th>Recall</th>\n",
       "      <th>Precision</th>\n",
       "      <th>AUC Score</th>\n",
       "    </tr>\n",
       "  </thead>\n",
       "  <tbody>\n",
       "    <tr>\n",
       "      <th>Logistic Regression</th>\n",
       "      <td>76.32</td>\n",
       "      <td>31.49</td>\n",
       "      <td>0.80</td>\n",
       "    </tr>\n",
       "    <tr>\n",
       "      <th>Random Forest</th>\n",
       "      <td>74.70</td>\n",
       "      <td>35.08</td>\n",
       "      <td>0.81</td>\n",
       "    </tr>\n",
       "    <tr>\n",
       "      <th>XGB Classifier</th>\n",
       "      <td>79.51</td>\n",
       "      <td>33.40</td>\n",
       "      <td>0.82</td>\n",
       "    </tr>\n",
       "  </tbody>\n",
       "</table>\n",
       "</div>"
      ],
      "text/plain": [
       "                     Recall  Precision  AUC Score\n",
       "Logistic Regression   76.32      31.49       0.80\n",
       "Random Forest         74.70      35.08       0.81\n",
       "XGB Classifier        79.51      33.40       0.82"
      ]
     },
     "execution_count": 29,
     "metadata": {},
     "output_type": "execute_result"
    }
   ],
   "source": [
    "summary = pd.DataFrame(np.array([[76.32, 31.49, 0.80], [74.70, 35.08, 0.81], [79.51, 33.40, 0.82]]), \n",
    "                       index=['Logistic Regression','Random Forest', 'XGB Classifier'],\n",
    "                       columns=['Recall', 'Precision', 'AUC Score'])\n",
    "\n",
    "summary\n",
    "\n"
   ]
  },
  {
   "cell_type": "markdown",
   "metadata": {},
   "source": [
    "Overall XGB predicts correctly more (AUC = 82).\n",
    "\n",
    "But now what weights more going forward is what we are most interested in predicting more accurately or which incorrect prediction weights the most:\n",
    "* people under 50K\n",
    "* people over 50k\n",
    "* or both"
   ]
  },
  {
   "cell_type": "markdown",
   "metadata": {},
   "source": [
    "Since we focused the metrics on the minority class we will chose XGB as the model as it has the highest Recall and AUC."
   ]
  },
  {
   "cell_type": "markdown",
   "metadata": {},
   "source": [
    "Now a feature weight analysis with XGB will be performed in the feature exploration notebook."
   ]
  },
  {
   "cell_type": "code",
   "execution_count": null,
   "metadata": {},
   "outputs": [],
   "source": []
  }
 ],
 "metadata": {
  "kernelspec": {
   "display_name": "Python 3.8.5 64-bit",
   "language": "python",
   "name": "python38564bit48b10b63c2e24371a98646723cd220b6"
  },
  "language_info": {
   "codemirror_mode": {
    "name": "ipython",
    "version": 3
   },
   "file_extension": ".py",
   "mimetype": "text/x-python",
   "name": "python",
   "nbconvert_exporter": "python",
   "pygments_lexer": "ipython3",
   "version": "3.8.5"
  }
 },
 "nbformat": 4,
 "nbformat_minor": 4
}
